{
 "cells": [
  {
   "cell_type": "markdown",
   "id": "71ba1562-8849-4368-af88-583be2171ff0",
   "metadata": {
    "execution": {
     "iopub.execute_input": "2024-06-26T14:13:40.273952Z",
     "iopub.status.busy": "2024-06-26T14:13:40.273370Z",
     "iopub.status.idle": "2024-06-26T14:13:40.278033Z",
     "shell.execute_reply": "2024-06-26T14:13:40.277389Z",
     "shell.execute_reply.started": "2024-06-26T14:13:40.273919Z"
    }
   },
   "source": [
    "# Operations Rehearsal for Commissioning #4 June 2024 LSSTComCamSim Data Access Demo\n",
    "\n",
    "Tutorial notebook for accessing data from the Operations Rehearsal for Commissioning #4 in June 2024 with pointers to other resources, examples, and documentation. Most examples use simulated LSSTComCam data stream.\n",
    "\n",
    "More detailed examples of access patterns can be found in the `ops_rehearsal_comcam_analysis.ipynb` notebook.\n",
    "\n",
    "Last verified to run: 26 June 2024\n",
    "\n",
    "LSST Science Pipelines Version: `w_2024_25`"
   ]
  },
  {
   "cell_type": "markdown",
   "id": "ebf26c43-9dfd-4213-938c-f1c3f0c708d9",
   "metadata": {},
   "source": [
    "## What version of the Science Pipelines am I using?"
   ]
  },
  {
   "cell_type": "code",
   "execution_count": null,
   "id": "328ff713-46e9-4937-adf1-920ad659ef2e",
   "metadata": {},
   "outputs": [],
   "source": [
    "!eups list -s | grep lsst_distrib"
   ]
  },
  {
   "cell_type": "markdown",
   "id": "e80f33f4-2ad7-4c2a-b317-9831908dc59a",
   "metadata": {},
   "source": [
    "For a summary of changes between versions, see https://lsst-dm.github.io/lsst_git_changelog/"
   ]
  },
  {
   "cell_type": "markdown",
   "id": "1bb79dbf-b224-4692-ad4e-b9be51241ad3",
   "metadata": {},
   "source": [
    "Import additional python packages that we will need for this tutorial."
   ]
  },
  {
   "cell_type": "code",
   "execution_count": null,
   "id": "9a24376c-e3d9-494d-862e-50cf4df3bd99",
   "metadata": {},
   "outputs": [],
   "source": [
    "import numpy as np"
   ]
  },
  {
   "cell_type": "code",
   "execution_count": null,
   "id": "abe7e3b8-23b8-4939-a07e-8d4ca275420e",
   "metadata": {},
   "outputs": [],
   "source": [
    "import matplotlib.pyplot as plt\n",
    "%matplotlib widget"
   ]
  },
  {
   "cell_type": "markdown",
   "id": "c3f23505-17a0-4f82-b012-27918c271845",
   "metadata": {
    "execution": {
     "iopub.execute_input": "2024-06-26T14:16:20.855102Z",
     "iopub.status.busy": "2024-06-26T14:16:20.854786Z",
     "iopub.status.idle": "2024-06-26T14:16:20.858291Z",
     "shell.execute_reply": "2024-06-26T14:16:20.857836Z",
     "shell.execute_reply.started": "2024-06-26T14:16:20.855089Z"
    }
   },
   "source": [
    "## How do I find information on data processing campaigns?\n",
    "\n",
    "See https://confluence.lsstcorp.org/display/DM/Campaigns for the list of productions that the campaign management team has acknowledged as routine and accepted to oversee.\n",
    "\n",
    "In particular, there are multiple campaigns for Operations Rehearsal #4 using the simulated LSSTComCam data stream.\n",
    "\n",
    "The repo and collection names are provided, which we will need for the next section."
   ]
  },
  {
   "cell_type": "markdown",
   "id": "e88a4a73-4f55-455c-acd8-8cfa7bd0988f",
   "metadata": {
    "execution": {
     "iopub.execute_input": "2024-06-26T14:18:46.620309Z",
     "iopub.status.busy": "2024-06-26T14:18:46.619774Z",
     "iopub.status.idle": "2024-06-26T14:18:46.623177Z",
     "shell.execute_reply": "2024-06-26T14:18:46.622714Z",
     "shell.execute_reply.started": "2024-06-26T14:18:46.620290Z"
    }
   },
   "source": [
    "## How do I instatiate a Butler for data access?\n",
    "\n",
    "* https://github.com/rubin-dp0/tutorial-notebooks/blob/main/DP02_01_Introduction_to_DP02.ipynb"
   ]
  },
  {
   "cell_type": "code",
   "execution_count": null,
   "id": "73517087-78fb-42a6-af0d-ed09b743b21e",
   "metadata": {},
   "outputs": [],
   "source": [
    "from lsst.daf.butler import Butler"
   ]
  },
  {
   "cell_type": "code",
   "execution_count": null,
   "id": "585a83d1-0df5-4eb4-8e9e-57db6dece66d",
   "metadata": {},
   "outputs": [],
   "source": [
    "# One can see all of the collections with the following command\n",
    "repo = 'embargo_or4'\n",
    "butler = Butler(repo)\n",
    "# Example search for Nightly Validation pipeline collections\n",
    "for _ in butler.registry.queryCollections():\n",
    "    if 'LSSTComCamSim/runs/nightlyValidation/' in _:\n",
    "        print(_)"
   ]
  },
  {
   "cell_type": "code",
   "execution_count": null,
   "id": "cb9e4288-5426-4491-acdb-0109f1e97080",
   "metadata": {},
   "outputs": [],
   "source": [
    "repo = 'embargo_or4'\n",
    "# Intranight\n",
    "#collection = 'LSSTComCamSim/nightlyValidation'\n",
    "# 10am processing\n",
    "# collection = 'LSSTComCamSim/runs/nightlyValidation/{day_obs}/<lsst_distrib_tag>/DM-44966'\n",
    "# Examples of specific nights\n",
    "# collection = 'LSSTComCamSim/runs/nightlyValidation/20240625/w_2024_25/DM-44966'\n",
    "collection = 'LSSTComCamSim/runs/nightlyValidation/20240626/w_2024_25/DM-44966'\n",
    "\n",
    "butler = Butler(repo, collections=collection)\n",
    "registry = butler.registry"
   ]
  },
  {
   "cell_type": "code",
   "execution_count": null,
   "id": "853701e4-1930-4d70-863a-db7bc73d5b7d",
   "metadata": {},
   "outputs": [],
   "source": [
    "# Determine which dataset types exist in the collection\n",
    "for datasetType in registry.queryDatasetTypes():\n",
    "    if registry.queryDatasets(datasetType, collections=collection).any(execute=False, exact=False):\n",
    "        # Limit search results to the data products\n",
    "        if ('_config' not in datasetType.name) and ('_log' not in datasetType.name) and ('_metadata' not in datasetType.name) and ('_resource_usage' not in datasetType.name):\n",
    "            print(datasetType)"
   ]
  },
  {
   "cell_type": "markdown",
   "id": "d71a4377-5abb-4d9c-8784-453da2534707",
   "metadata": {
    "execution": {
     "iopub.execute_input": "2024-06-26T14:20:33.798266Z",
     "iopub.status.busy": "2024-06-26T14:20:33.797978Z",
     "iopub.status.idle": "2024-06-26T14:20:33.801720Z",
     "shell.execute_reply": "2024-06-26T14:20:33.801202Z",
     "shell.execute_reply.started": "2024-06-26T14:20:33.798252Z"
    }
   },
   "source": [
    "## Standard Data Model\n",
    "\n",
    "We will be accessing several tabular data products. A quick reference for the Standard Data Model schema:\n",
    "\n",
    "https://dm.lsst.org/sdm_schemas/browser/"
   ]
  },
  {
   "cell_type": "code",
   "execution_count": null,
   "id": "52b97799-c396-4408-af09-776fdb4e4df7",
   "metadata": {},
   "outputs": [],
   "source": [
    "objectTable_refs = sorted(butler.registry.queryDatasets('objectTable_tract'))\n",
    "objectTable = butler.get(objectTable_refs[0])\n",
    "objectTable"
   ]
  }
 ],
 "metadata": {
  "kernelspec": {
   "display_name": "LSST",
   "language": "python",
   "name": "lsst"
  },
  "language_info": {
   "codemirror_mode": {
    "name": "ipython",
    "version": 3
   },
   "file_extension": ".py",
   "mimetype": "text/x-python",
   "name": "python",
   "nbconvert_exporter": "python",
   "pygments_lexer": "ipython3",
   "version": "3.11.7"
  }
 },
 "nbformat": 4,
 "nbformat_minor": 5
}
