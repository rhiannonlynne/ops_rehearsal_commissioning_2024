{
 "cells": [
  {
   "cell_type": "markdown",
   "id": "fc0048b8-9fdb-4088-80c1-6f3d39b2b620",
   "metadata": {},
   "source": [
    "# Operations Rehearsal for Commissioning April 2024 Data Access Demo\n",
    "\n",
    "Tutorial notebook for accessing data from the Operations Rehearsal for Commissioning in April 2024 with pointers to other resources, examples, and documentation. Most examples use simulated ComCam data stream.\n",
    "\n",
    "Last verified to run: 20 Mar 2024\n",
    "\n",
    "LSST Science Pipelines Version: `w_2024_10`"
   ]
  },
  {
   "cell_type": "markdown",
   "id": "b33102c9-b31b-49ba-9d68-ba43cb9de338",
   "metadata": {},
   "source": [
    "## What version of the Science Pipelines am I using?"
   ]
  },
  {
   "cell_type": "code",
   "execution_count": null,
   "id": "1ae8460a-e8c6-4ba8-be2c-f9f8d08b3e7a",
   "metadata": {},
   "outputs": [],
   "source": [
    "!eups list -s | grep lsst_distrib"
   ]
  },
  {
   "cell_type": "markdown",
   "id": "43725589-bbad-47f0-a453-9d39392e6e0e",
   "metadata": {},
   "source": [
    "For a summary of changes between versions, see https://lsst-dm.github.io/lsst_git_changelog/"
   ]
  },
  {
   "cell_type": "markdown",
   "id": "2b3d84eb-668f-4073-a15c-391fff0c47ca",
   "metadata": {
    "execution": {
     "iopub.execute_input": "2024-03-18T18:31:41.719753Z",
     "iopub.status.busy": "2024-03-18T18:31:41.719604Z",
     "iopub.status.idle": "2024-03-18T18:31:41.722798Z",
     "shell.execute_reply": "2024-03-18T18:31:41.722235Z",
     "shell.execute_reply.started": "2024-03-18T18:31:41.719739Z"
    }
   },
   "source": [
    "Import additional python packages that we will need for this tutorial."
   ]
  },
  {
   "cell_type": "code",
   "execution_count": null,
   "id": "18509d24-bb20-4c19-ae87-5d730fd4420b",
   "metadata": {},
   "outputs": [],
   "source": [
    "import numpy as np"
   ]
  },
  {
   "cell_type": "code",
   "execution_count": null,
   "id": "16431297-c38d-420a-bc5c-f29ea57fd05b",
   "metadata": {},
   "outputs": [],
   "source": [
    "import matplotlib.pyplot as plt\n",
    "%matplotlib widget"
   ]
  },
  {
   "cell_type": "markdown",
   "id": "e6ba7ed8-4c48-4e1a-98ba-111ac1e4b3ee",
   "metadata": {},
   "source": [
    "## How do I find information on data processing campaigns?\n",
    "\n",
    "See https://confluence.lsstcorp.org/display/DM/Campaigns for the list of productions that the campaign management team has acknowledged as routine and accepted to oversee.\n",
    "\n",
    "In particular, there is a section for Operations Rehearsal #3 called \"DRP on Simulated ComCam data at USDF\" for the simulated ComCam data stream.\n",
    "\n",
    "The repo and collection names are provided, which we will need for the next section."
   ]
  },
  {
   "cell_type": "markdown",
   "id": "de8f46c9-e76c-444c-85f6-4a06ef19d373",
   "metadata": {},
   "source": [
    "## How do I instatiate a Butler for data access?\n",
    "\n",
    "* https://github.com/rubin-dp0/tutorial-notebooks/blob/main/DP02_01_Introduction_to_DP02.ipynb"
   ]
  },
  {
   "cell_type": "code",
   "execution_count": null,
   "id": "6f101321-8c61-46f1-ab40-84e02189778d",
   "metadata": {},
   "outputs": [],
   "source": [
    "from lsst.daf.butler import Butler"
   ]
  },
  {
   "cell_type": "code",
   "execution_count": null,
   "id": "f4d80c01-1a36-4c49-9321-44dcb2446830",
   "metadata": {},
   "outputs": [],
   "source": [
    "# One can see all of the collections with the following command\n",
    "# butler.registry.queryCollections()"
   ]
  },
  {
   "cell_type": "code",
   "execution_count": null,
   "id": "c3f2db8f-7408-49a1-9e05-b1e9d5ef2450",
   "metadata": {},
   "outputs": [],
   "source": [
    "repo = '/repo/ops-rehearsal-3-prep'\n",
    "collection = 'u/homer/htc-test1'\n",
    "#collections = 'u/homer/w_2024_10/DM-43228'\n",
    "\n",
    "butler = Butler(repo, collections=collection)\n",
    "registry = butler.registry"
   ]
  },
  {
   "cell_type": "markdown",
   "id": "2a491143-b0b0-4360-92e2-f564b6478317",
   "metadata": {
    "execution": {
     "iopub.execute_input": "2024-03-17T04:02:52.391067Z",
     "iopub.status.busy": "2024-03-17T04:02:52.390707Z",
     "iopub.status.idle": "2024-03-17T04:02:52.393091Z",
     "shell.execute_reply": "2024-03-17T04:02:52.392774Z",
     "shell.execute_reply.started": "2024-03-17T04:02:52.391051Z"
    }
   },
   "source": [
    "## How do I find the contents of a collection?"
   ]
  },
  {
   "cell_type": "code",
   "execution_count": null,
   "id": "2bf53b16-fce5-40e1-8f6d-5f34f358d8c5",
   "metadata": {},
   "outputs": [],
   "source": [
    "# Determine which dataset types exist in the collection\n",
    "for datasetType in registry.queryDatasetTypes():\n",
    "    if registry.queryDatasets(datasetType, collections=collection).any(execute=False, exact=False):\n",
    "        # Limit search results to the data products\n",
    "        if ('_config' not in datasetType.name) and ('_log' not in datasetType.name) and ('_metadata' not in datasetType.name) and ('_resource_usage' not in datasetType.name):\n",
    "            print(datasetType)"
   ]
  },
  {
   "cell_type": "markdown",
   "id": "97c8a1a7-cf85-428a-a033-dfaa86945870",
   "metadata": {},
   "source": [
    "## Standard Data Model\n",
    "\n",
    "We will be accessing several tabular data products. A quick reference for the Standard Data Model schema:\n",
    "\n",
    "https://dm.lsst.org/sdm_schemas/browser/"
   ]
  },
  {
   "cell_type": "markdown",
   "id": "9ee14a8b-b3bd-4e00-b0c3-b9392bb4d2b7",
   "metadata": {},
   "source": [
    "## How do I get a summary of visits that are included in the collection?"
   ]
  },
  {
   "cell_type": "code",
   "execution_count": null,
   "id": "fa326aba-70aa-4627-851e-d0da730891e8",
   "metadata": {},
   "outputs": [],
   "source": [
    "list(butler.registry.queryDatasets('visitTable'))"
   ]
  },
  {
   "cell_type": "code",
   "execution_count": null,
   "id": "08e15833-8e29-4ab4-80f7-76f298069887",
   "metadata": {},
   "outputs": [],
   "source": [
    "visitTable = butler.get('visitTable')"
   ]
  },
  {
   "cell_type": "code",
   "execution_count": null,
   "id": "e789141a-7365-4c55-ba63-8fb700c4b44f",
   "metadata": {},
   "outputs": [],
   "source": [
    "visitTable"
   ]
  },
  {
   "cell_type": "markdown",
   "id": "c9ea349e-3d63-4641-a651-22f6c4ac62b2",
   "metadata": {},
   "source": [
    "## How do I get a quick summary of the science performance of the individual visits?"
   ]
  },
  {
   "cell_type": "code",
   "execution_count": null,
   "id": "e3d06ac9-44ca-45e0-a158-6fdea194fd35",
   "metadata": {},
   "outputs": [],
   "source": [
    "list(butler.registry.queryDatasets('ccdVisitTable'))"
   ]
  },
  {
   "cell_type": "code",
   "execution_count": null,
   "id": "f82ca2d5-5521-44de-9650-d669e3d29a46",
   "metadata": {},
   "outputs": [],
   "source": [
    "ccdVisitTable = butler.get('ccdVisitTable')"
   ]
  },
  {
   "cell_type": "code",
   "execution_count": null,
   "id": "3ce3e32c-bdbc-44a5-b36d-292d0e83329e",
   "metadata": {
    "scrolled": true
   },
   "outputs": [],
   "source": [
    "ccdVisitTable"
   ]
  },
  {
   "cell_type": "code",
   "execution_count": null,
   "id": "39a9951f-0ca8-45dc-8c28-0a9ae60cb457",
   "metadata": {},
   "outputs": [],
   "source": [
    "ccdVisitTable.columns"
   ]
  },
  {
   "cell_type": "code",
   "execution_count": null,
   "id": "23b2bdc9-5fc6-4502-aa09-6e04ad7b0fa0",
   "metadata": {},
   "outputs": [],
   "source": [
    "#in_band = np.where(ccdVisitTable['band'] == 'g')[0]\n",
    "in_band = ccdVisitTable['band'] == 'g'\n",
    "ccdVisitTable['band'][in_band]"
   ]
  },
  {
   "cell_type": "code",
   "execution_count": null,
   "id": "9bf7cdcc-f532-4809-8c36-a582d6054cbb",
   "metadata": {
    "jupyter": {
     "source_hidden": true
    }
   },
   "outputs": [],
   "source": [
    "f2c = {'u': 'purple', 'g': 'blue', 'r': 'green',\n",
    "       'i': 'cyan', 'z': 'orange', 'y': 'red'}\n",
    "\n",
    "plt.figure(dpi=200)\n",
    "for bandname in f2c:\n",
    "    in_band = ccdVisitTable['band'] == bandname\n",
    "    if np.sum(in_band) > 0:\n",
    "        plt.plot(ccdVisitTable['zenithDistance'][in_band], ccdVisitTable['zeroPoint'][in_band], \n",
    "                 'o', markersize=1, color=f2c[bandname], label=bandname)\n",
    "plt.legend()\n",
    "plt.xlabel('zenithDistance')\n",
    "plt.ylabel('zeroPoint')"
   ]
  },
  {
   "cell_type": "markdown",
   "id": "97c65f71-72ca-49ec-a59c-2a6b68bac5a4",
   "metadata": {},
   "source": [
    "Notice the outlier detectors that have anomalous zeropoint values relative to the sample."
   ]
  },
  {
   "cell_type": "markdown",
   "id": "fdc02644-8f92-4e65-a21a-920c0eb915d6",
   "metadata": {
    "execution": {
     "iopub.execute_input": "2024-03-06T18:36:00.064269Z",
     "iopub.status.busy": "2024-03-06T18:36:00.063792Z",
     "iopub.status.idle": "2024-03-06T18:36:00.066120Z",
     "shell.execute_reply": "2024-03-06T18:36:00.065812Z",
     "shell.execute_reply.started": "2024-03-06T18:36:00.064254Z"
    }
   },
   "source": [
    "Example analyses to try\n",
    "* https://rubinobs.atlassian.net/jira/software/c/projects/DM/boards/174?selectedIssue=DM-43070"
   ]
  },
  {
   "cell_type": "markdown",
   "id": "340d31ce-9890-42f0-944e-b53d7b4fa43f",
   "metadata": {},
   "source": [
    "## How do I figure out which tracts have data?"
   ]
  },
  {
   "cell_type": "code",
   "execution_count": null,
   "id": "d078c772-b3f7-480f-8ef9-686d50be2265",
   "metadata": {},
   "outputs": [],
   "source": [
    "for dtype in sorted(registry.queryDatasetTypes(expression=\"*nImage*\")):\n",
    "    print(dtype.name)"
   ]
  },
  {
   "cell_type": "code",
   "execution_count": null,
   "id": "9d69b2dd-1c1e-49a2-a123-a8ef4eec4be3",
   "metadata": {},
   "outputs": [],
   "source": [
    "nImage_refs = list(butler.registry.queryDatasets('deepCoadd_nImage'))"
   ]
  },
  {
   "cell_type": "code",
   "execution_count": null,
   "id": "f2fc6165-3010-4a86-ba4c-9e7d346eea46",
   "metadata": {},
   "outputs": [],
   "source": [
    "tracts = np.unique([ref.dataId['tract'] for ref in nImage_refs])\n",
    "print(tracts)\n",
    "\n",
    "bands = np.unique([ref.dataId['band'] for ref in nImage_refs])\n",
    "print(bands)"
   ]
  },
  {
   "cell_type": "code",
   "execution_count": null,
   "id": "6bab9c37-f6f6-4fc0-9a9b-b73b2027d70f",
   "metadata": {},
   "outputs": [],
   "source": [
    "# Check which tracts actually have a lot of visit coverage:\n",
    "for tract in tracts:\n",
    "    visits = list(butler.registry.queryDatasets('visitSummary', tract=tract, skymap='DC2', findFirst=True))\n",
    "    print(tract, len(visits))"
   ]
  },
  {
   "cell_type": "code",
   "execution_count": null,
   "id": "0b0421d4-68df-44a9-94a0-d928ff38d3a4",
   "metadata": {},
   "outputs": [],
   "source": [
    "skymap = butler.get('skyMap', skymap='DC2')\n",
    "tract = skymap.generateTract(3346)\n",
    "sp2 = tract.getCtrCoord()\n",
    "sp2"
   ]
  },
  {
   "cell_type": "markdown",
   "id": "977bde39-6883-4ce9-8c6c-5dfb9cfb5040",
   "metadata": {},
   "source": [
    "## How do I access a source table?"
   ]
  },
  {
   "cell_type": "code",
   "execution_count": null,
   "id": "b6538403-d3ac-4ca0-877e-3930ac39129b",
   "metadata": {},
   "outputs": [],
   "source": [
    "sourceTable_refs = sorted(butler.registry.queryDatasets('sourceTable_visit'))\n",
    "sourceTable = butler.get(sourceTable_refs[0])\n",
    "sourceTable"
   ]
  },
  {
   "cell_type": "code",
   "execution_count": null,
   "id": "f8929f6a-3384-44bd-a04c-8f18ffad4b24",
   "metadata": {},
   "outputs": [],
   "source": [
    "sourceTable.columns.values"
   ]
  },
  {
   "cell_type": "markdown",
   "id": "91ed99ec-3a7d-41a2-bd1a-b3a1ee3f8143",
   "metadata": {},
   "source": [
    "## How do I access an object table?"
   ]
  },
  {
   "cell_type": "code",
   "execution_count": null,
   "id": "d6505975-0617-430f-8e0e-4ae79787274e",
   "metadata": {},
   "outputs": [],
   "source": [
    "objectTable_refs = sorted(butler.registry.queryDatasets('objectTable_tract'))\n",
    "objectTable = butler.get(objectTable_refs[0])\n",
    "objectTable"
   ]
  },
  {
   "cell_type": "code",
   "execution_count": null,
   "id": "155d6207-157b-4951-87da-546f0a0bef78",
   "metadata": {},
   "outputs": [],
   "source": [
    "#for column in objectTable.columns.values:\n",
    "#    print(column)"
   ]
  },
  {
   "cell_type": "markdown",
   "id": "aaef5451-e134-437b-8ea3-912a9a97289f",
   "metadata": {},
   "source": [
    "## How do I access DIA sources?\n",
    "\n",
    "* https://github.com/lsst-dm/vv-team-notebooks/blob/tickets/PREOPS-4964/notebooks/PREOPS-4964-AuxTel-Lines.ipynb"
   ]
  },
  {
   "cell_type": "code",
   "execution_count": null,
   "id": "3b7b4270-8250-431b-986d-6115f7e80932",
   "metadata": {},
   "outputs": [],
   "source": [
    "repoSim = '/sdf/group/rubin/repo/ops-rehearsal-3-prep'\n",
    "skymapNameSim = 'DC2'\n",
    "instrumentNameSim = 'LSSTComCamSim'\n",
    "collectionSim = 'u/homer/htc-test1'\n",
    "butlerSim = Butler(repoSim, collections=collectionSim, skymap=skymapNameSim)"
   ]
  },
  {
   "cell_type": "code",
   "execution_count": null,
   "id": "08273081-1328-417e-b0aa-8ab0efd26a13",
   "metadata": {},
   "outputs": [],
   "source": [
    "visitListSim = []\n",
    "for item in butlerSim.registry.queryDatasets('diaSourceTable'):\n",
    "    visitListSim.append(item.dataId.get('visit'))\n",
    "print(len(set(visitListSim)))"
   ]
  },
  {
   "cell_type": "code",
   "execution_count": null,
   "id": "a777085e-ff56-4ec3-b516-20e518cb1407",
   "metadata": {},
   "outputs": [],
   "source": [
    "testDiaSourceTableSim = butlerSim.get('diaSourceTable', visit=visitListSim[0])"
   ]
  },
  {
   "cell_type": "code",
   "execution_count": null,
   "id": "52bc08d1-36ea-4528-a4df-59da96bc8e67",
   "metadata": {},
   "outputs": [],
   "source": [
    "testDiaSourceTableSim"
   ]
  },
  {
   "cell_type": "code",
   "execution_count": null,
   "id": "c3eb84dc-314b-48d0-bd48-89dcc171842c",
   "metadata": {},
   "outputs": [],
   "source": [
    "testDiaSourceTableSim.columns"
   ]
  },
  {
   "cell_type": "markdown",
   "id": "61661a56-f067-43b2-8468-845d2cacac29",
   "metadata": {
    "execution": {
     "iopub.execute_input": "2024-03-17T03:59:18.731555Z",
     "iopub.status.busy": "2024-03-17T03:59:18.731269Z",
     "iopub.status.idle": "2024-03-17T03:59:18.733741Z",
     "shell.execute_reply": "2024-03-17T03:59:18.733389Z",
     "shell.execute_reply.started": "2024-03-17T03:59:18.731540Z"
    }
   },
   "source": [
    "## How do I visualize a pixel-level image?\n",
    "\n",
    "Suggested references:\n",
    "* https://github.com/rubin-dp0/tutorial-notebooks/blob/main/DP02_03a_Image_Display_and_Manipulation.ipynb\n",
    "* https://github.com/rubin-dp0/tutorial-notebooks/blob/main/DP02_03b_Image_Display_with_Firefly.ipynb\n",
    "* https://github.com/yalsayyad/dm_notebooks/blob/master/examples/Firefly.ipynb"
   ]
  },
  {
   "cell_type": "code",
   "execution_count": null,
   "id": "f6eaaad8-5773-41e9-aae8-878887962c4b",
   "metadata": {},
   "outputs": [],
   "source": [
    "# Find a calexp"
   ]
  },
  {
   "cell_type": "code",
   "execution_count": null,
   "id": "9aee2ab6-e8da-4763-bc90-02123d7fb880",
   "metadata": {},
   "outputs": [],
   "source": [
    "calexp_refs = sorted(registry.queryDatasets('calexp', band = 'i'))"
   ]
  },
  {
   "cell_type": "code",
   "execution_count": null,
   "id": "d144c087-1710-4db0-9210-3d3b6e178997",
   "metadata": {},
   "outputs": [],
   "source": [
    "len(calexp_refs)"
   ]
  },
  {
   "cell_type": "code",
   "execution_count": null,
   "id": "ae641e4c-b190-481e-9680-10d14d59b83f",
   "metadata": {},
   "outputs": [],
   "source": [
    "calexp_refs[0]"
   ]
  },
  {
   "cell_type": "code",
   "execution_count": null,
   "id": "d8cfc5f9-bd52-44d0-a588-955500fd9470",
   "metadata": {},
   "outputs": [],
   "source": [
    "calexp = butler.get(calexp_refs[0])"
   ]
  },
  {
   "cell_type": "code",
   "execution_count": null,
   "id": "2a8fa625-1b78-4b89-9fd9-d0cbd504b4b0",
   "metadata": {},
   "outputs": [],
   "source": [
    "import lsst.afw.display as afwDisplay"
   ]
  },
  {
   "cell_type": "code",
   "execution_count": null,
   "id": "9e843c6f-2dc1-49b2-89f0-c23c040f5f85",
   "metadata": {},
   "outputs": [],
   "source": [
    "afwDisplay.setDefaultBackend('matplotlib')"
   ]
  },
  {
   "cell_type": "markdown",
   "id": "1597d3f8-89cb-47e3-845b-a7f4aec19bdd",
   "metadata": {},
   "source": [
    "Inline image visualization"
   ]
  },
  {
   "cell_type": "code",
   "execution_count": null,
   "id": "0819cea0-a52f-4e8a-ad39-bf4b7630b312",
   "metadata": {},
   "outputs": [],
   "source": [
    "fig = plt.figure(figsize=(7, 6))\n",
    "afw_display = afwDisplay.Display(fig)\n",
    "afw_display.scale('asinh', 'zscale')\n",
    "afw_display.mtv(calexp.image)\n",
    "plt.gca().axis('on')"
   ]
  },
  {
   "cell_type": "markdown",
   "id": "b3e67de7-3cfe-4c12-bad8-2380377a6497",
   "metadata": {},
   "source": [
    "Interactive data visualization w/ Firefly. This will open a new tab."
   ]
  },
  {
   "cell_type": "code",
   "execution_count": null,
   "id": "920750eb-a7f7-400b-af1a-c66075baa60d",
   "metadata": {},
   "outputs": [],
   "source": [
    "afwDisplay.setDefaultBackend('firefly')\n",
    "afw_display = afwDisplay.Display(frame=1)"
   ]
  },
  {
   "cell_type": "code",
   "execution_count": null,
   "id": "79a33cf5-fe90-4d61-a251-eebe901f2208",
   "metadata": {},
   "outputs": [],
   "source": [
    "afw_display.mtv(calexp)"
   ]
  },
  {
   "cell_type": "markdown",
   "id": "3da7a2ec-a522-491d-ba66-8f5413785570",
   "metadata": {},
   "source": [
    "## How do I access science performance metrics computed as part of the pipeline (Analysis Tools)?\n",
    "\n",
    "Additional suggested resources:\n",
    "* https://github.com/lsst-dm/analysis_tools_examples/blob/main/atoolsInvestigation.ipynb\n",
    "* https://github.com/lsst-dm/analysis_tools_examples/blob/main/reconstructorDemo.ipynb\n",
    "* https://github.com/lsst-dm/analysis_tools_examples/blob/main/data_access_demo.ipynb"
   ]
  },
  {
   "cell_type": "code",
   "execution_count": null,
   "id": "ab82745c-8e33-4679-ab7b-21619f7031aa",
   "metadata": {},
   "outputs": [],
   "source": [
    "from lsst.analysis.tools.tasks.reconstructor import reconstructAnalysisTools"
   ]
  },
  {
   "cell_type": "code",
   "execution_count": null,
   "id": "02e1c020-462b-468b-9cfc-8ecffdc977a7",
   "metadata": {},
   "outputs": [],
   "source": [
    "dataId = {\"tract\": 7445, \"skymap\": \"DC2\"}\n",
    "#dataId = {\"tract\": 3346, \"skymap\": \"DC2\"}"
   ]
  },
  {
   "cell_type": "code",
   "execution_count": null,
   "id": "72db8704-11ef-4592-bd80-944ccd8892b9",
   "metadata": {},
   "outputs": [],
   "source": [
    "refs = sorted(butler.registry.queryDatasets(\"objectTableCore_metrics\", collections=collection, dataId=dataId))"
   ]
  },
  {
   "cell_type": "code",
   "execution_count": null,
   "id": "4441f3d9-5ff4-40f9-b974-a9051d2036e4",
   "metadata": {},
   "outputs": [],
   "source": [
    "refs"
   ]
  },
  {
   "cell_type": "code",
   "execution_count": null,
   "id": "760cf08c-af60-41ef-bea3-390fb4422ba5",
   "metadata": {},
   "outputs": [],
   "source": [
    "objectTable_metrics = butler.get(\"objectTableCore_metrics\", dataId=dataId, collections=collection)"
   ]
  },
  {
   "cell_type": "code",
   "execution_count": null,
   "id": "1d7bd32f-7d13-48a9-8b20-df708366d5be",
   "metadata": {},
   "outputs": [],
   "source": [
    "for dtype in sorted(registry.queryDatasetTypes(expression=\"*analyzeObjectTableCore*\")):\n",
    "    print(dtype.name)"
   ]
  },
  {
   "cell_type": "code",
   "execution_count": null,
   "id": "7bc6f8e0-6bca-4672-859f-6037ae45f5ce",
   "metadata": {},
   "outputs": [],
   "source": [
    "# Access the configuration\n",
    "objectTable_config = butler.get(\"analyzeObjectTableCore_config\", dataId=dataId, collections=collection)\n",
    "# objectTable_config.toDict()"
   ]
  },
  {
   "cell_type": "code",
   "execution_count": null,
   "id": "f27a5e8f-e4e6-40ae-8ae9-eef233cce6b1",
   "metadata": {},
   "outputs": [],
   "source": [
    "# objectTable_metrics.data"
   ]
  },
  {
   "cell_type": "code",
   "execution_count": null,
   "id": "ae3c1310-0b03-4035-8c28-64296ae8290a",
   "metadata": {},
   "outputs": [],
   "source": [
    "taskState, inputData = reconstructAnalysisTools(butler, \n",
    "                                                collection=collection,\n",
    "                                                label=\"analyzeObjectTableCore\",\n",
    "                                                dataId=dataId, \n",
    "                                                callback=None\n",
    ")"
   ]
  },
  {
   "cell_type": "code",
   "execution_count": null,
   "id": "af502dba-4061-4665-97f9-64f2acddc6da",
   "metadata": {},
   "outputs": [],
   "source": [
    "inputData['data']"
   ]
  },
  {
   "cell_type": "code",
   "execution_count": null,
   "id": "2ab281da-177f-43b4-a92f-f29e191f540e",
   "metadata": {},
   "outputs": [],
   "source": [
    "for action in taskState.atools:\n",
    "    print(action.identity)"
   ]
  },
  {
   "cell_type": "code",
   "execution_count": null,
   "id": "96fe5898-6ad5-4ab8-a314-9567f96cf469",
   "metadata": {},
   "outputs": [],
   "source": [
    "plotInfoDict = {\"run\": collection, \"bands\": \"i\", \"tract\": 7445, \"tableName\": \"objectTable_tract\"}\n",
    "fig = taskState.atools.shapeSizeFractionalDiff(inputData[\"data\"], plotInfo=plotInfoDict, skymap=inputData['skymap'], band=\"i\")"
   ]
  },
  {
   "cell_type": "markdown",
   "id": "d03a94b8-1ecc-4d4b-b732-442736f2e962",
   "metadata": {},
   "source": [
    "The brighter-fatter correction was not turned on in \"Pass 1\" iteration of the data reduction."
   ]
  },
  {
   "cell_type": "markdown",
   "id": "1b3e0c01-3246-435d-aff8-8b52ca6849c4",
   "metadata": {},
   "source": [
    "## How do I query science performance metrics and system telemetry (Sasquatch and EFD)?\n",
    "\n",
    "https://sasquatch.lsst.io/user-guide/analysistools.html\n",
    "\n",
    "https://github.com/lsst-dm/analysis_tools_examples/blob/main/sasquatch_analysis_tools_demo.ipynb"
   ]
  },
  {
   "cell_type": "code",
   "execution_count": null,
   "id": "77fa1a3e-fb3a-4ad7-b50e-9e8014fff819",
   "metadata": {},
   "outputs": [],
   "source": [
    "from lsst_efd_client import EfdClient\n",
    "client = EfdClient(\"usdfdev_efd\", db_name=\"lsst.dm\")"
   ]
  },
  {
   "cell_type": "code",
   "execution_count": null,
   "id": "cc53e3ad-1d6d-4a58-86f1-c4229bbf3d21",
   "metadata": {},
   "outputs": [],
   "source": [
    "topics = await client.get_topics()\n",
    "for t in topics: print(t)"
   ]
  },
  {
   "cell_type": "code",
   "execution_count": null,
   "id": "e59fd653-6dad-427f-b8b4-ae840708c886",
   "metadata": {},
   "outputs": [],
   "source": [
    "query = '''SELECT * FROM \"lsst.dm.e1Diff\" WHERE time > now() - 100d '''\n",
    "#query = '''SELECT * FROM \"lsst.dm.calexpMetrics\" WHERE time > now() - 100d '''\n",
    "df = await client.influx_client.query(query)\n",
    "df.columns.values"
   ]
  },
  {
   "cell_type": "code",
   "execution_count": null,
   "id": "ec49b211-c875-495b-bd8c-9b2819f3f66c",
   "metadata": {},
   "outputs": [],
   "source": [
    "np.unique(df['dataset_tag'])"
   ]
  },
  {
   "cell_type": "markdown",
   "id": "6ab9f02e-7516-4350-8c7f-76f0e7e91d51",
   "metadata": {},
   "source": [
    "## Calexp Metrics"
   ]
  },
  {
   "cell_type": "code",
   "execution_count": null,
   "id": "d7531da9-7a66-47e2-920d-a27d55a2d409",
   "metadata": {},
   "outputs": [],
   "source": [
    "from lsst_efd_client import EfdClient\n",
    "efd_client = EfdClient(\"usdfdev_efd\", db_name=\"lsst.dm\")\n",
    "query = '''SELECT * FROM \"lsst.dm.calexpMetrics\" WHERE time > '2024-03-10' and time < '2024-03-14' '''\n",
    "res = await efd_client.influx_client.query(query)\n",
    "res.columns\n",
    "\n",
    "\"\"\"\n",
    "Results in:\n",
    "\n",
    "Index(['band', 'band_1', 'dataset_tag', 'dataset_tag_1', 'dataset_type',\n",
    "       'detector', 'detector_1', 'exposure', 'id', 'instrument',\n",
    "       'instrument_1', 'patch', 'physical_filter', 'physical_filter_1',\n",
    "       'psfArea', 'psfSigma', 'reference_package',\n",
    "       'reference_package_timestamp', 'reference_package_version', 'run',\n",
    "       'run_1', 'run_timestamp', 'skymap', 'timestamp', 'tract', 'visit',\n",
    "       'visit_1'],\n",
    "      dtype='object')\n",
    "\"\"\""
   ]
  },
  {
   "cell_type": "code",
   "execution_count": null,
   "id": "e0d35bc2-0b0a-4c81-96fb-ee2dd37e4b3a",
   "metadata": {},
   "outputs": [],
   "source": [
    "len(res)"
   ]
  },
  {
   "cell_type": "code",
   "execution_count": null,
   "id": "d49f24f4-4449-46af-98ff-cd5c4b53e972",
   "metadata": {},
   "outputs": [],
   "source": [
    "res"
   ]
  },
  {
   "cell_type": "code",
   "execution_count": null,
   "id": "d418b7da-2720-43d7-81fc-f514161c0cd5",
   "metadata": {},
   "outputs": [],
   "source": [
    "np.unique(res['band'])"
   ]
  },
  {
   "cell_type": "code",
   "execution_count": null,
   "id": "0ab163c1-0055-4f70-8a65-b04373e796fd",
   "metadata": {},
   "outputs": [],
   "source": [
    "plt.figure()\n",
    "plt.scatter(res['detector'], res['psfSigma'])"
   ]
  },
  {
   "cell_type": "markdown",
   "id": "5d4074b0-6a46-4545-877f-66b32bba8d33",
   "metadata": {
    "execution": {
     "iopub.execute_input": "2024-03-17T04:01:05.867459Z",
     "iopub.status.busy": "2024-03-17T04:01:05.867229Z",
     "iopub.status.idle": "2024-03-17T04:01:05.869674Z",
     "shell.execute_reply": "2024-03-17T04:01:05.869257Z",
     "shell.execute_reply.started": "2024-03-17T04:01:05.867443Z"
    }
   },
   "source": [
    "## How do I access science performance plots generated as part of the pipeline (Plot Navigator)?\n",
    "\n",
    "https://usdf-rsp.slac.stanford.edu/plot-navigator/dashboard_gen3\n",
    "\n",
    "Try a repo and collection for Operations Rehearsal 3"
   ]
  },
  {
   "cell_type": "markdown",
   "id": "ced2508d-b961-4fff-b1d5-12ba9830488a",
   "metadata": {
    "jp-MarkdownHeadingCollapsed": true
   },
   "source": [
    "## How do I create new science performance plots and metrics to be computed as part of the pipeline (Analysis Tools)? \n",
    "\n",
    "Suggested resources with examples:\n",
    "\n",
    "* https://pipelines.lsst.io/v/daily/modules/lsst.analysis.tools/getting-started.html#analysis-tools-getting-started\n",
    "* https://github.com/lsst-dm/analysis_tools_examples/blob/main/atoolsInvestigation.ipynb\n",
    "* https://github.com/lsst-dm/analysis_tools_examples/blob/main/data_access_demo.ipynb"
   ]
  },
  {
   "cell_type": "markdown",
   "id": "002396ca-6f06-45f3-aa10-4988f351b457",
   "metadata": {},
   "source": [
    "## How do I access and visualize survey property maps?\n",
    "\n",
    "https://github.com/rubin-dp0/tutorial-notebooks/blob/main/DP02_03c_Survey_Property_Maps.ipynb\n",
    "\n",
    "https://github.com/LSSTDESC/skyproj/tree/main/tutorial"
   ]
  },
  {
   "cell_type": "code",
   "execution_count": null,
   "id": "9ac2c879-cf73-49f2-b26f-d42157ea76f2",
   "metadata": {},
   "outputs": [],
   "source": [
    "import skyproj"
   ]
  },
  {
   "cell_type": "code",
   "execution_count": null,
   "id": "959e580e-aad9-4446-a705-ee31c9706c55",
   "metadata": {},
   "outputs": [],
   "source": [
    "for dtype in sorted(registry.queryDatasetTypes(expression=\"*consolidated_map*\")):\n",
    "    print(dtype.name)"
   ]
  },
  {
   "cell_type": "code",
   "execution_count": null,
   "id": "2e16eaee-8d7d-4ec4-b0eb-e2ea10dac1ad",
   "metadata": {},
   "outputs": [],
   "source": [
    "sorted(registry.queryDatasets('deepCoadd_psf_maglim_consolidated_map_weighted_mean'))"
   ]
  },
  {
   "cell_type": "code",
   "execution_count": null,
   "id": "1a65c571-2aa2-4eb4-bdf5-0fcaa4eed385",
   "metadata": {},
   "outputs": [],
   "source": [
    "hspmap = butler.get('deepCoadd_psf_maglim_consolidated_map_weighted_mean', band='i', skymap='DC2')"
   ]
  },
  {
   "cell_type": "code",
   "execution_count": null,
   "id": "0d150551-2060-4986-b947-8620a56fbdf7",
   "metadata": {},
   "outputs": [],
   "source": [
    "fig, ax = plt.subplots(figsize=(8, 5))\n",
    "sp = skyproj.McBrydeSkyproj(ax=ax, lon_0=65.0)\n",
    "sp.draw_hspmap(hspmap)\n",
    "sp.draw_colorbar(label='PSF Maglim (i-band)')\n",
    "plt.show()\n",
    "\n",
    "del fig, ax, sp"
   ]
  },
  {
   "cell_type": "markdown",
   "id": "aee6b753-16a6-4bae-9b64-5546a1f30f97",
   "metadata": {},
   "source": [
    "The fields are small when viewed at this scale. Try zooming in, for example, on the COSMOS field at (RA, Dec) = (150, 2)."
   ]
  }
 ],
 "metadata": {
  "kernelspec": {
   "display_name": "LSST",
   "language": "python",
   "name": "lsst"
  },
  "language_info": {
   "codemirror_mode": {
    "name": "ipython",
    "version": 3
   },
   "file_extension": ".py",
   "mimetype": "text/x-python",
   "name": "python",
   "nbconvert_exporter": "python",
   "pygments_lexer": "ipython3",
   "version": "3.11.7"
  }
 },
 "nbformat": 4,
 "nbformat_minor": 5
}
