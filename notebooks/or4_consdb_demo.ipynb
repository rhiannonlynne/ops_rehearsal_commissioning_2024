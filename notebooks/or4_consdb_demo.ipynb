{
 "cells": [
  {
   "cell_type": "markdown",
   "id": "69973147-3108-480c-8bbc-c2c3ac895314",
   "metadata": {},
   "source": [
    "# Operations Rehearsal for Commissioning #4 June 2024 Consolidated Database Demo\n",
    "\n",
    "Tutorial notebook for using the consolidated database using LSSTComCam simulated datastream from the Operations Rehearsal for Commissioning #4 in June 2024. This notebook uses example queries developed by Eric Neilsen for a prototype observation night summary notebook in Times Square.\n",
    "\n",
    "Last verified to run: 26 June 2024\n",
    "\n",
    "LSST Science Pipelines Version: `w_2024_25`"
   ]
  },
  {
   "cell_type": "markdown",
   "id": "ec2f87e6-1579-422d-bbe8-c0a04046205c",
   "metadata": {},
   "source": [
    "Consolidated database usage documentation: https://confluence.lsstcorp.org/display/~ktl/ConsDB+Usage\n",
    "\n",
    "Consolidated database Schema: https://dm.lsst.org/sdm_schemas/browser/cdb_lsstcomcamsim.html (ls.st/schema)"
   ]
  },
  {
   "cell_type": "code",
   "execution_count": null,
   "id": "626c7dbd-149e-452e-8f0a-09043715e28a",
   "metadata": {},
   "outputs": [],
   "source": [
    "!eups list -s | grep lsst_distrib"
   ]
  },
  {
   "cell_type": "code",
   "execution_count": null,
   "id": "acd04555-1356-4664-9b56-3bef67a424cd",
   "metadata": {},
   "outputs": [],
   "source": [
    "import pandas as pd"
   ]
  },
  {
   "cell_type": "code",
   "execution_count": null,
   "id": "c0d63cfe-f287-4919-ac22-e7621d9c58ef",
   "metadata": {},
   "outputs": [],
   "source": [
    "import os\n",
    "os.environ[\"no_proxy\"] += \",.consdb\"\n",
    "\n",
    "from lsst.summit.utils import ConsDbClient\n",
    "\n",
    "client = ConsDbClient(\"http://consdb-pq.consdb:8080/consdb\")"
   ]
  },
  {
   "cell_type": "code",
   "execution_count": null,
   "id": "acdfa1e7-e00a-413e-bf10-e56bebdcd66e",
   "metadata": {},
   "outputs": [],
   "source": [
    "print(client.schema())"
   ]
  },
  {
   "cell_type": "code",
   "execution_count": null,
   "id": "ee62999a-29b7-483e-856e-7068cd12d92c",
   "metadata": {},
   "outputs": [],
   "source": [
    "client.schema()"
   ]
  },
  {
   "cell_type": "code",
   "execution_count": null,
   "id": "f6829469-c807-4125-bea7-7566648c458e",
   "metadata": {},
   "outputs": [],
   "source": [
    "client.schema(\"lsstcomcamsim\")"
   ]
  },
  {
   "cell_type": "code",
   "execution_count": null,
   "id": "0a8db1cd-8790-4f64-b934-0d2f03bc8c58",
   "metadata": {},
   "outputs": [],
   "source": [
    "client.schema(\"lsstcomcamsim\", \"cdb_lsstcomcamsim.visit1_quicklook\")"
   ]
  },
  {
   "cell_type": "code",
   "execution_count": null,
   "id": "1d93db16-2064-43a8-9b1f-57115f95f678",
   "metadata": {},
   "outputs": [],
   "source": [
    "instrument = 'lsstcomcamsim'\n",
    "day_obs = '2024-06-27'\n",
    "day_obs_int = int(day_obs.replace('-', ''))\n",
    "\n",
    "visits_query = f'''\n",
    "    SELECT * FROM cdb_{instrument}.exposure\n",
    "        WHERE obs_start_mjd IS NOT NULL\n",
    "        AND s_ra IS NOT NULL\n",
    "        AND s_dec IS NOT NULL\n",
    "        AND sky_rotation IS NOT NULL\n",
    "        AND ((band IS NOT NULL) OR (physical_filter IS NOT NULL))\n",
    "        AND day_obs = {day_obs_int}\n",
    "'''\n",
    "\n",
    "#visits_query = f'''\n",
    "#    SELECT * FROM cdb_{instrument}.exposure\n",
    "#        WHERE day_obs = {day_obs_int}\n",
    "#'''"
   ]
  },
  {
   "cell_type": "code",
   "execution_count": null,
   "id": "7edd1834-0c1d-43fa-b9ff-078cf7dc6195",
   "metadata": {},
   "outputs": [],
   "source": [
    "visits = client.query(visits_query).to_pandas()"
   ]
  },
  {
   "cell_type": "code",
   "execution_count": null,
   "id": "c41c9112-4205-4279-8d18-fe3d8baf461f",
   "metadata": {},
   "outputs": [],
   "source": [
    "visits.columns"
   ]
  },
  {
   "cell_type": "code",
   "execution_count": null,
   "id": "a30947cc-e18f-48b7-a6f4-e9c517e88e0d",
   "metadata": {},
   "outputs": [],
   "source": [
    "visits"
   ]
  },
  {
   "cell_type": "code",
   "execution_count": null,
   "id": "869bb2bb-a2b1-4769-88d4-5def9369cda6",
   "metadata": {},
   "outputs": [],
   "source": [
    "exposure_opsimdb_map = {\n",
    "        'obs_start_mjd': 'observationStartMJD',\n",
    "        'obs_start': 'start_date',\n",
    "        's_ra': 'fieldRA',\n",
    "        's_dec': 'fieldDec',\n",
    "        'sky_rotation': 'rotSkyPos',\n",
    "        'band': 'filter',\n",
    "        'airmass': 'airmass',\n",
    "        'altitude': 'altitude',\n",
    "        'azimuth': 'azimuth',\n",
    "        'exp_time': 'visitExposureTime'\n",
    "    }\n",
    "\n",
    "visits.rename(exposure_opsimdb_map, axis='columns', inplace=True)"
   ]
  },
  {
   "cell_type": "code",
   "execution_count": null,
   "id": "5530af5d-1925-409a-9ff6-2ea21a1ad879",
   "metadata": {},
   "outputs": [],
   "source": [
    "missing_filter = visits['filter'].isna()\n",
    "visits.loc[missing_filter, 'filter'] = visits.loc[missing_filter, 'physical_filter'].str.get(0)"
   ]
  },
  {
   "cell_type": "code",
   "execution_count": null,
   "id": "eba6bc30-06ef-4d85-9d6f-e21fe40d824a",
   "metadata": {},
   "outputs": [],
   "source": [
    "if len(visits):\n",
    "    displayed_columns = [\n",
    "        \"start_date\",\n",
    "        \"seq_num\",\n",
    "        \"fieldRA\",\n",
    "        \"fieldDec\",\n",
    "        \"filter\",\n",
    "        \"visitExposureTime\",\n",
    "#        \"numExposures\",\n",
    "#        \"t_eff\",\n",
    "#        \"skyBrightness\",\n",
    "#        \"seeingFwhmEff\",\n",
    "#        \"cloud\",\n",
    "#        \"note\",\n",
    "    ]\n",
    "    displayed_visits_df = visits.loc[:, displayed_columns]\n",
    "    with pd.option_context(\"display.max_rows\", 2000):\n",
    "        display(displayed_visits_df)\n",
    "else:\n",
    "    print(\"No visits\")\n"
   ]
  },
  {
   "cell_type": "code",
   "execution_count": null,
   "id": "91504ad5-872f-4c05-ac9b-52ae111abe68",
   "metadata": {},
   "outputs": [],
   "source": []
  }
 ],
 "metadata": {
  "kernelspec": {
   "display_name": "LSST",
   "language": "python",
   "name": "lsst"
  },
  "language_info": {
   "codemirror_mode": {
    "name": "ipython",
    "version": 3
   },
   "file_extension": ".py",
   "mimetype": "text/x-python",
   "name": "python",
   "nbconvert_exporter": "python",
   "pygments_lexer": "ipython3",
   "version": "3.11.7"
  }
 },
 "nbformat": 4,
 "nbformat_minor": 5
}
