{
 "cells": [
  {
   "cell_type": "markdown",
   "id": "acfa8770-9806-4d77-bab9-0546dbc024ed",
   "metadata": {},
   "source": [
    "# Observation simulation for Operations Rehearsal for Commissioning #4"
   ]
  },
  {
   "cell_type": "code",
   "execution_count": null,
   "id": "65d25835-60a4-47f9-9019-e2977f9db0c3",
   "metadata": {},
   "outputs": [],
   "source": [
    "import copy\n",
    "import numpy as np\n",
    "import pandas as pd\n",
    "\n",
    "from astropy.time import Time\n",
    "from astropy.coordinates import Angle\n",
    "from astropy import units as u\n",
    "\n",
    "import matplotlib.pylab as plt"
   ]
  },
  {
   "cell_type": "code",
   "execution_count": null,
   "id": "849229a7-afe8-4bd5-bcaf-64f58893aedd",
   "metadata": {},
   "outputs": [],
   "source": [
    "# There ought to be a way to set the environment variable for this kernel\n",
    "import os\n",
    "os.environ[\"RUBIN_SIM_DATA_DIR\"] = \"/home/b/bechtol/rubin-user/rubin_sim_data\"\n",
    "os.getenv(\"RUBIN_SIM_DATA_DIR\")"
   ]
  },
  {
   "cell_type": "markdown",
   "id": "90adf812-0137-479b-aafa-81a77f34826c",
   "metadata": {},
   "source": [
    "You can set environment variable in the kernel either by adding it to your .user_setups file (https://rsp.lsst.io/guides/notebooks/configuration/notebook-user-setups.html) if you installed rubin_sim into the standard kernel via pip,  or you can just symlink the actual directory to \"~/rubin_sim_data\" in the shell.\n",
    "\n",
    "If you're using a non-standard kernel, you can set the env variable there too, but you would probably want to add a kernel-helper.sh file, sourced in your kernel.json file.  (more like https://confluence.lsstcorp.org/display/LSCO/Running+rubin_sim+and+the+LSST+stack+together+on+the+RSP)"
   ]
  },
  {
   "cell_type": "code",
   "execution_count": null,
   "id": "c2b46172-80aa-4a8a-a36e-ac99f6046d09",
   "metadata": {},
   "outputs": [],
   "source": [
    "from rubin_scheduler.scheduler.model_observatory import ModelObservatory\n",
    "from rubin_scheduler.scheduler.basis_functions import BaseBasisFunction, M5DiffBasisFunction, NotTwilightBasisFunction, NObsHighAmBasisFunction, FilterLoadedBasisFunction, OnceInNightBasisFunction, AvoidFastRevists\n",
    "from rubin_scheduler.scheduler.detailers import DitherDetailer, CameraRotDetailer\n",
    "from rubin_scheduler.scheduler.surveys import FieldSurvey\n",
    "from rubin_scheduler.scheduler.schedulers import CoreScheduler\n",
    "from rubin_scheduler.scheduler import  sim_runner\n",
    "from rubin_scheduler.utils import ddf_locations\n",
    "from rubin_scheduler.scheduler.utils import SchemaConverter\n",
    "from rubin_scheduler.site_models import SeeingData"
   ]
  },
  {
   "cell_type": "code",
   "execution_count": null,
   "id": "099777ce-3f78-4e68-a966-bfd798ca264d",
   "metadata": {},
   "outputs": [],
   "source": [
    "# Note that can only set this date after downloading the full set sky brightness data\n",
    "mjd_start = Time('2024-06-11 00:00:00.000', format='iso').mjd\n",
    "mjd_start"
   ]
  },
  {
   "cell_type": "markdown",
   "id": "bb2edcdb-e222-4b22-9ca7-00be1a49c62e",
   "metadata": {},
   "source": [
    "In the cell below, turn off observatory downtime and clouds, but keep a realistic distribution of seeing"
   ]
  },
  {
   "cell_type": "code",
   "execution_count": null,
   "id": "b6c11925-ec5e-4c42-b1e3-86b5374cc4e5",
   "metadata": {},
   "outputs": [],
   "source": [
    "# We need the start date of the survey, so let's load up our model observatory and get that from the conditions\n",
    "nside = 32  # Specify the HEALpix resolution\n",
    "mo = ModelObservatory(nside=nside, ideal_conditions=True, mjd_start=mjd_start)\n",
    "mo.seeing_data = SeeingData(Time(mjd_start, format='mjd'))\n",
    "conditions = mo.return_conditions()"
   ]
  },
  {
   "cell_type": "code",
   "execution_count": null,
   "id": "67feaf9d-4ffc-4206-967e-78bbf44751fa",
   "metadata": {},
   "outputs": [],
   "source": [
    "#conditions.mjd"
   ]
  },
  {
   "cell_type": "code",
   "execution_count": null,
   "id": "1f0dfde0-f6cf-4850-8428-93d31f2c9473",
   "metadata": {},
   "outputs": [],
   "source": [
    "#conditions.mounted_filters = ['g', 'r', 'i']"
   ]
  },
  {
   "cell_type": "code",
   "execution_count": null,
   "id": "29f9a8da-3bd3-4a53-a232-63065092a0ef",
   "metadata": {},
   "outputs": [],
   "source": [
    "#conditions.mounted_filters"
   ]
  },
  {
   "cell_type": "code",
   "execution_count": null,
   "id": "7b833863-094a-45f4-8ba5-de57c15c25e2",
   "metadata": {},
   "outputs": [],
   "source": [
    "#dir(conditions)"
   ]
  },
  {
   "cell_type": "code",
   "execution_count": null,
   "id": "726d8c9c-e0d4-4c3d-a32a-047f79dd95d8",
   "metadata": {},
   "outputs": [],
   "source": [
    "#conditions.current_filter"
   ]
  },
  {
   "cell_type": "code",
   "execution_count": null,
   "id": "8d299a8f-679d-4b17-9b7f-5f30880e64a0",
   "metadata": {},
   "outputs": [],
   "source": [
    "#conditions.night"
   ]
  },
  {
   "cell_type": "code",
   "execution_count": null,
   "id": "cb6a1c9f-f08e-455c-9048-20c21770192c",
   "metadata": {},
   "outputs": [],
   "source": [
    "#conditions.mjd"
   ]
  },
  {
   "cell_type": "code",
   "execution_count": null,
   "id": "fbaa3cca-570e-4bf4-95a6-3d732c5806b3",
   "metadata": {},
   "outputs": [],
   "source": [
    "#conditions.moon_ra, conditions.moon_dec"
   ]
  },
  {
   "cell_type": "code",
   "execution_count": null,
   "id": "5cde35e8-abb6-4d6a-8bf2-11fb473a9055",
   "metadata": {},
   "outputs": [],
   "source": [
    "#conditions.rot_tel_pos"
   ]
  },
  {
   "cell_type": "code",
   "execution_count": null,
   "id": "66bc4a41-3ea4-4b9e-9da6-e5540a608047",
   "metadata": {},
   "outputs": [],
   "source": [
    "#np.nanmax(conditions.airmass)"
   ]
  },
  {
   "cell_type": "code",
   "execution_count": null,
   "id": "ef952238-774e-4bef-a6cc-4b5710518bea",
   "metadata": {},
   "outputs": [],
   "source": [
    "#print(conditions.site.latitude_rad, conditions.site.longitude_rad)\n",
    "#print(conditions.site.latitude, conditions.site.longitude)\n",
    "#assert np.radians(conditions.site.longitude) == conditions.site.longitude_rad\n",
    "#assert np.radians(conditions.site.latitude) == conditions.site.latitude_rad"
   ]
  },
  {
   "cell_type": "code",
   "execution_count": null,
   "id": "11603b75-335a-498e-88ea-7c6cebd7a31c",
   "metadata": {},
   "outputs": [],
   "source": [
    "#mo.observatory.shuttertime = 5"
   ]
  },
  {
   "cell_type": "markdown",
   "id": "8b51f3fc-99fb-4245-b6a2-50145006556b",
   "metadata": {},
   "source": [
    "## Field Selection"
   ]
  },
  {
   "cell_type": "code",
   "execution_count": null,
   "id": "184ee62a-32de-4b48-aebc-c2914334e002",
   "metadata": {},
   "outputs": [],
   "source": [
    "\"\"\"\n",
    "# Start with a set of fields chosen to be uniformly spaced in RA so that some field should be visible throughout the night all year\n",
    "#ra_array = np.arange(0., 360., 30.)\n",
    "ra_array = np.arange(0., 360., 60.) + 5\n",
    "dec_array = np.tile(-25., len(ra_array))\n",
    "#dec_array = np.tile(-30., len(ra_array))\n",
    "print(ra_array)\n",
    "print(dec_array)\n",
    "\"\"\""
   ]
  },
  {
   "cell_type": "code",
   "execution_count": null,
   "id": "d70969f4-eac9-42f1-95c4-ea57105e8bb5",
   "metadata": {},
   "outputs": [],
   "source": [
    "\"\"\"\n",
    "targets = (\n",
    "    (95., -25.), # High stellar densty, low extinction\n",
    "    (125., -15.), # High stellar densty, low extinction\n",
    "    #(360 - 145., -25.),\n",
    "    (216, -12.5), # DEEP Solar Systen\n",
    "    (360 - 110., 0.), # High stellar densty, low extinction\n",
    "    #(219.80, -0.600), # DESI, GAMA, HSC DR2, KiDS-N\n",
    "    #(360 - 53., -25),\n",
    "    (270.891667, -30.033889), # Baade's Window\n",
    "    (310, -19), # DEEP Solar System\n",
    "    (9.45, -44.0),\n",
    "    (35.708333, -4.75),\n",
    "    (53.125, -28.1), # ECDFS\n",
    "    (150.1, 2.1819444444444445), # COSMOS\n",
    "    (58.9, -49.315), # EDFS_a\n",
    "    (63.6, -47.6), # EDFS_b\n",
    ")\n",
    "\"\"\"\n",
    "\"\"\"\n",
    "# 2 January 2024\n",
    "targets = (\n",
    "    (95., -25.), # High stellar densty, low extinction\n",
    "    (125., -15.), # High stellar densty, low extinction\n",
    "    (179.60, 0.000), # DESI, GAMA, HSC DR2, KiDS-N\n",
    "    #(360 - 145., -25.),\n",
    "    (360 - 135., -40.), # High stellar densty, low extinction\n",
    "    (216, -12.5), # DEEP Solar Systen\n",
    "    (360 - 110., 2.), # High stellar densty, low extinction\n",
    "    #(219.80, -0.600), # DESI, GAMA, HSC DR2, KiDS-N\n",
    "    #(360 - 53., -25),\n",
    "    #(270.891667, -30.033889), # Baade's Window\n",
    "    (300., -41.), # High stellar densty, low extinction \n",
    "    (280., -48.), # High stellar densty, low extinction \n",
    "    (310, -19), # DEEP Solar System\n",
    "    (9.45, -44.0), # ELAIS-S1 LSST DDF\n",
    "    (35.708333, -4.75), # LSST DDF\n",
    "    (53.125, -28.1), # ECDFS\n",
    "    (150.1, 2.1819444444444445), # COSMOS\n",
    "    (58.9, -49.315), # EDFS_a\n",
    "    (63.6, -47.6), # EDFS_b\n",
    ")\n",
    "\n",
    "\n",
    "ra_array, dec_array = zip(*targets)\n",
    "print(ra_array)\n",
    "print(dec_array)\n",
    "\"\"\""
   ]
  },
  {
   "cell_type": "code",
   "execution_count": null,
   "id": "5b973d64-878c-4da3-b29b-e867739e2d38",
   "metadata": {},
   "outputs": [],
   "source": [
    "\"\"\"\n",
    "ra_array = []\n",
    "dec_array = []\n",
    "for key in ['ELAISS1', 'XMM_LSS', 'ECDFS', 'COSMOS', 'EDFS_a']:\n",
    "    ra_array.append(ddf_locations[key][0])\n",
    "    dec_array.append(ddf_locations[key][1])\n",
    "\n",
    "for key in ['A0', 'B0']:\n",
    "    ra_array.append(deep_locations[key][0])\n",
    "    dec_array.append(deep_locations[key][1])\n",
    "\"\"\""
   ]
  },
  {
   "cell_type": "code",
   "execution_count": null,
   "id": "c313006f-972c-4bb1-a7ff-bb9372e5d5dd",
   "metadata": {},
   "outputs": [],
   "source": [
    "\"\"\"\n",
    "fields = {}\n",
    "for ra, dec in zip(ra_array, dec_array):\n",
    "    name = f\"{int(ra)}{int(dec)}\"\n",
    "    fields[name] = {\"RA\": ra, \"dec\": dec}\n",
    "print(fields)\n",
    "\"\"\""
   ]
  },
  {
   "cell_type": "code",
   "execution_count": null,
   "id": "a98448b6-98c6-4225-91c8-3e9bbc5baf67",
   "metadata": {},
   "outputs": [],
   "source": [
    "import ops_rehearsal_fields_or4 as ops_rehearsal_fields\n",
    "import importlib\n",
    "importlib.reload(ops_rehearsal_fields)\n",
    "\n",
    "name_fields, ra_fields, dec_fields = zip(*ops_rehearsal_fields.fields)\n",
    "\n",
    "fields = {}\n",
    "for name, ra, dec in zip(name_fields, ra_fields, dec_fields):\n",
    "    fields[name] = {\"RA\": ra, \"dec\": dec}\n",
    "for key in fields:\n",
    "    print(key, fields[key][\"RA\"], fields[key][\"dec\"])"
   ]
  },
  {
   "cell_type": "code",
   "execution_count": null,
   "id": "abb5d558-5498-40eb-9a30-4aa35400ba89",
   "metadata": {},
   "outputs": [],
   "source": [
    "import healpy as hp"
   ]
  },
  {
   "cell_type": "code",
   "execution_count": null,
   "id": "52ac0fe0-7ae1-43fc-9afc-639f1b1a529a",
   "metadata": {},
   "outputs": [],
   "source": [
    "m_stellar_density = np.load('/home/b/bechtol/rubin_sim_data/maps/StarMaps/starDensity_g_nside_64.npz')"
   ]
  },
  {
   "cell_type": "code",
   "execution_count": null,
   "id": "5d4718a3-03b3-442a-a7b6-2e4af78a7f29",
   "metadata": {},
   "outputs": [],
   "source": [
    "hp.mollview(np.log10(m_stellar_density['starDensity'][:,20]), title='log10(stellar density)')\n",
    "hp.projscatter(ra_fields, dec_fields, lonlat=True, color='red')"
   ]
  },
  {
   "cell_type": "code",
   "execution_count": null,
   "id": "4dfc1a2c-e9de-494f-be21-8ac7d83be8bc",
   "metadata": {},
   "outputs": [],
   "source": [
    "#m_extinction = np.load('/home/b/bechtol/rubin_sim_data/maps/DustMaps/dust_nside_32.npz')"
   ]
  },
  {
   "cell_type": "code",
   "execution_count": null,
   "id": "39b817cb-b442-4ef1-b465-26741838758e",
   "metadata": {},
   "outputs": [],
   "source": [
    "#hp.mollview(m_extinction['ebvMap'], min=0, max=0.2, title='E(B-V)')\n",
    "#hp.projscatter(ra_fields, dec_fields, lonlat=True, color='red')"
   ]
  },
  {
   "cell_type": "markdown",
   "id": "60ab2a1d-8577-4d0a-8d62-3120ff0fd294",
   "metadata": {},
   "source": [
    "## Basis Functions"
   ]
  },
  {
   "cell_type": "code",
   "execution_count": null,
   "id": "77d5554d-b9bd-4793-8bf8-241d70fcf1bf",
   "metadata": {},
   "outputs": [],
   "source": [
    "from rubin_scheduler.scheduler import features\n",
    "from rubin_scheduler.scheduler.utils import IntRounded\n",
    "\n",
    "class AvoidFastRevisitsBasisFunction(BaseBasisFunction):\n",
    "    \"\"\"Marks targets as unseen if they are in a specified time window\n",
    "    in order to avoid fast revisits.\n",
    "\n",
    "    Parameters\n",
    "    ----------\n",
    "    filtername: `str` ('r')\n",
    "        The name of the filter for this target map.\n",
    "    gap_min : `float` (25.)\n",
    "        Minimum time for the gap (minutes).\n",
    "    nside: `int` (default_nside)\n",
    "        The healpix resolution.\n",
    "    penalty_val : `float` (np.nan)\n",
    "        The reward value to use for regions to penalize.\n",
    "        Will be masked if set to np.nan (default).\n",
    "    \"\"\"\n",
    "\n",
    "    def __init__(self, survey_name=None, gap_min=30.0, penalty_val=np.nan):\n",
    "        super(AvoidFastRevisitsBasisFunction, self).__init__()\n",
    "\n",
    "        self.penalty_val = penalty_val\n",
    "\n",
    "        self.gap_min = IntRounded(gap_min / 60.0 / 24.0)\n",
    "\n",
    "        self.survey_features = dict()\n",
    "        self.survey_features[\"LastObservation\"] = features.LastObservation(survey_name)\n",
    "\n",
    "    def _calc_value(self, conditions, indx=None):\n",
    "        diff = IntRounded(conditions.mjd - self.survey_features[\"LastObservation\"].feature['mjd'])\n",
    "        if diff < self.gap_min:\n",
    "            result = self.penalty_val\n",
    "        else:\n",
    "            result = 0.\n",
    "        return result"
   ]
  },
  {
   "cell_type": "code",
   "execution_count": null,
   "id": "3a19b547-94ee-4c71-91ae-6ad88e23c229",
   "metadata": {},
   "outputs": [],
   "source": [
    "#bfs = AvoidFastRevistsBasisFunction(survey_name='test')\n",
    "#conditions.mjd - bfs.survey_features[\"LastObservation\"].feature['mjd'][0]"
   ]
  },
  {
   "cell_type": "code",
   "execution_count": null,
   "id": "09fd5d5b-f614-4d65-a844-5b9e77907863",
   "metadata": {},
   "outputs": [],
   "source": [
    "class RisingBasisFunction(BaseBasisFunction):\n",
    "    \"\"\"Reward fields that are rising.\n",
    "\n",
    "    Parameters\n",
    "    ----------\n",
    "    RA : float\n",
    "        The RA of the point in the sky (degrees)\n",
    "    \"\"\"\n",
    "\n",
    "    def __init__(self, RA, weight=0.1):\n",
    "        super(RisingBasisFunction, self).__init__()\n",
    "        self.ra_hours = RA * 24 / 360.0\n",
    "        self.weight = weight\n",
    "\n",
    "    # Probably not needed\n",
    "    def check_feasibility(self, conditions):\n",
    "        result = True\n",
    "        return result\n",
    "\n",
    "    def _calc_value(self, conditions, indx=None):\n",
    "        hour_angle = conditions.lmst - self.ra_hours\n",
    "        return -1 * self.weight * hour_angle"
   ]
  },
  {
   "cell_type": "code",
   "execution_count": null,
   "id": "ef13cc2f-fdc2-4669-81dd-5b2da429d9ce",
   "metadata": {},
   "outputs": [],
   "source": [
    "#from astropy.coordinates import SkyCoord, angular_separation"
   ]
  },
  {
   "cell_type": "code",
   "execution_count": null,
   "id": "46124d44-8483-4687-8ea4-629f5e830214",
   "metadata": {},
   "outputs": [],
   "source": [
    "#ra_1, dec_1 = 180., 0.\n",
    "#ra_2, dec_2 = 181., 1.\n",
    "\n",
    "#angsep = angular_separation(np.radians(ra_1), np.radians(dec_1), np.radians(ra_2), np.radians(dec_2))\n",
    "#print(np.degrees(angsep))"
   ]
  },
  {
   "cell_type": "code",
   "execution_count": null,
   "id": "e4ced779-7d5e-48ff-a848-b7be6b5e4608",
   "metadata": {},
   "outputs": [],
   "source": [
    "from astropy.coordinates import angular_separation\n",
    "\n",
    "class AvoidMoonBasisFunction(BaseBasisFunction):\n",
    "    \"\"\"Only execute if angular separation to the Moon is above a specified threshold.\n",
    "\n",
    "    Parameters\n",
    "    ----------\n",
    "    ra : float\n",
    "        The RA of the point in the sky (degrees)\n",
    "    dec : float\n",
    "        The declination of the point in the sky (degrees)\n",
    "    min_moon_dist : float\n",
    "        The minimum angular separation to the moon (degrees)\n",
    "    \"\"\"\n",
    "\n",
    "    def __init__(self, ra, dec, min_moon_dist=20.):\n",
    "        super(AvoidMoonBasisFunction, self).__init__()\n",
    "        self.ra = ra\n",
    "        self.dec = dec\n",
    "        self.min_moon_dist = min_moon_dist\n",
    "\n",
    "    def check_feasibility(self, conditions):\n",
    "        moon_dist = np.degrees(\n",
    "            angular_separation(\n",
    "                np.radians(self.ra), np.radians(self.dec), conditions.moon_ra, conditions.moon_dec\n",
    "            )\n",
    "        )\n",
    "        if moon_dist > self.min_moon_dist:\n",
    "            result = True\n",
    "        else:\n",
    "            result = False\n",
    "        return result"
   ]
  },
  {
   "cell_type": "code",
   "execution_count": null,
   "id": "376a0620-912d-400d-8773-4a9b2cb88843",
   "metadata": {},
   "outputs": [],
   "source": [
    "from rubin_scheduler.utils import approx_ra_dec2_alt_az\n",
    "\n",
    "class MaximumAirmassBasisFunction(BaseBasisFunction):\n",
    "    \"\"\"Only execute if the airmass is a below a specified threshold.\n",
    "\n",
    "    Parameters\n",
    "    ----------\n",
    "    ra : float\n",
    "        The RA of the point in the sky (degrees)\n",
    "    dec : float\n",
    "        The declination of the point in the sky (degrees)\n",
    "    max_airmass : float\n",
    "        The maximum airmass\n",
    "    \"\"\"\n",
    "\n",
    "    def __init__(self, ra, dec, max_airmass=2.0):\n",
    "        super(MaximumAirmassBasisFunction, self).__init__()\n",
    "        self.ra = ra\n",
    "        self.dec = dec\n",
    "        self.max_airmass = max_airmass\n",
    "\n",
    "    def check_feasibility(self, conditions):\n",
    "        alt, az = approx_ra_dec2_alt_az(\n",
    "            self.ra,\n",
    "            self.dec,\n",
    "            conditions.site.latitude,\n",
    "            conditions.site.longitude,\n",
    "            conditions.mjd,\n",
    "        )\n",
    "        \n",
    "        airmass = 1. / np.cos(np.radians(90. - alt))\n",
    "        \n",
    "        if airmass < self.max_airmass:\n",
    "            result = True\n",
    "        else:\n",
    "            result = False\n",
    "\n",
    "        #import pdb; pdb.set_trace()\n",
    "        \n",
    "        return result"
   ]
  },
  {
   "cell_type": "code",
   "execution_count": null,
   "id": "753aad74-c6a2-4f41-bd92-3beea36327e6",
   "metadata": {},
   "outputs": [],
   "source": [
    "class AirmassRangeBasisFunction(BaseBasisFunction):\n",
    "    \"\"\"Only execute if the airmass is within a specified range at the start and end \n",
    "    of the observation sequence.\n",
    "\n",
    "    Parameters\n",
    "    ----------\n",
    "    ra : float\n",
    "        The RA of the point in the sky (degrees)\n",
    "    dec : float\n",
    "        The declination of the point in the sky (degrees)\n",
    "    min_airmass : float\n",
    "        The minimum airmass\n",
    "    max_airmass : float\n",
    "        The maximum airmass\n",
    "    duration : float\n",
    "        The duration (days)\n",
    "    \"\"\"\n",
    "\n",
    "    def __init__(self, ra, dec, min_airmass=1.0, max_airmass=2.0, duration=0.0275):\n",
    "        super(AirmassRangeBasisFunction, self).__init__()\n",
    "        self.ra = ra\n",
    "        self.dec = dec\n",
    "        self.min_airmass = min_airmass\n",
    "        self.max_airmass = max_airmass\n",
    "        self.duration = duration\n",
    "\n",
    "    def check_feasibility(self, conditions):\n",
    "        alt_start, az_start = approx_ra_dec2_alt_az(\n",
    "            self.ra,\n",
    "            self.dec,\n",
    "            conditions.site.latitude,\n",
    "            conditions.site.longitude,\n",
    "            conditions.mjd,\n",
    "        )\n",
    "        \n",
    "        airmass_start = 1. / np.cos(np.radians(90. - alt_start))\n",
    "\n",
    "        alt_end, az_end = approx_ra_dec2_alt_az(\n",
    "            self.ra,\n",
    "            self.dec,\n",
    "            conditions.site.latitude,\n",
    "            conditions.site.longitude,\n",
    "            conditions.mjd + self.duration,\n",
    "        )\n",
    "        \n",
    "        airmass_end = 1. / np.cos(np.radians(90. - alt_end))        \n",
    "\n",
    "        if (airmass_start > self.min_airmass) \\\n",
    "            and (airmass_start < self.max_airmass) \\\n",
    "            and (airmass_end > self.min_airmass) \\\n",
    "            and (airmass_end < self.max_airmass):\n",
    "            result = True\n",
    "        else:\n",
    "            result = False\n",
    "        \n",
    "        return result"
   ]
  },
  {
   "cell_type": "code",
   "execution_count": null,
   "id": "ad8dbe47-9f82-453a-a3e9-1a05764d516e",
   "metadata": {},
   "outputs": [],
   "source": [
    "from rubin_scheduler.scheduler.detailers import BaseDetailer\n",
    "from rubin_scheduler.utils import _approx_ra_dec2_alt_az, _approx_altaz2pa\n",
    "\n",
    "class CameraRotPerObservationListDetailer(BaseDetailer):\n",
    "    \"\"\"\n",
    "    Randomly set the camera rotation for each observation list.\n",
    "\n",
    "    Parameters\n",
    "    ----------\n",
    "    max_rot : `float` (90.)\n",
    "        The maximum amount to offset the camera (degrees)\n",
    "    min_rot : `float` (90)\n",
    "        The minimum to offset the camera (degrees)\n",
    "    \"\"\"\n",
    "\n",
    "    def __init__(self, max_rot=90.0, min_rot=-90.0, seed=42, per_visit_rot=0.): # nnights=7305):\n",
    "        self.survey_features = {}\n",
    "\n",
    "        self.current_night = -1\n",
    "        self.max_rot = np.radians(max_rot)\n",
    "        self.min_rot = np.radians(min_rot)\n",
    "        self.range = self.max_rot - self.min_rot\n",
    "        self.seed = seed\n",
    "        self.per_visit_rot = per_visit_rot\n",
    "        #self.rng = np.random.default_rng(seed)\n",
    "        #self.offsets = self.rng.random(100 * nnights)\n",
    "        self.offset = None\n",
    "\n",
    "    def _generate_offsets_orig(self, n_offsets, night, mjd):\n",
    "        #print(mjd)\n",
    "        #print(np.asarray(mjd).item() % 100)\n",
    "        mjd_hash = round(100 * (np.asarray(mjd).item() % 100))\n",
    "        #print(mjd_hash)\n",
    "        rng = np.random.default_rng(mjd_hash * self.seed)\n",
    "        #print(night)\n",
    "        #print(type(night))\n",
    "        #print(mjd)\n",
    "        #print(type(mjd))\n",
    "        #index = 1\n",
    "        #index = round(\n",
    "        #    (100 * night) + (100. * (mjd % 100))\n",
    "        #)\n",
    "        #self.offset = self.offsets[index] * self.range + self.min_rot\n",
    "        self.offset = (rng.random() * self.range) + self.min_rot\n",
    "        offsets = np.ones(n_offsets) * self.offset\n",
    "        return offsets\n",
    "\n",
    "    def _generate_offsets_filter_change(self, filter_list, mjd, initial_offset):\n",
    "        \"\"\"Generate a random camera rotation for each filter change.\n",
    "        \"\"\"\n",
    "        \n",
    "        mjd_hash = round(100 * (np.asarray(mjd).item() % 100))\n",
    "        rng = np.random.default_rng(mjd_hash * self.seed)\n",
    "        \n",
    "        offsets = np.zeros(len(filter_list))\n",
    "        offset = np.asarray(initial_offset).item()\n",
    "        offsets[0] = offset\n",
    "        \n",
    "        for ii in range(1, len(offsets)):            \n",
    "            if filter_list[ii] != filter_list[ii - 1]:\n",
    "                # Filter change\n",
    "                offset = (rng.random() * self.range) + self.min_rot\n",
    "            else:\n",
    "                # If no filter change, apply a small a small rotation\n",
    "                offset += np.radians(self.per_visit_rot)\n",
    "            offsets[ii] = offset\n",
    "\n",
    "        return offsets\n",
    "        \n",
    "    def __call__(self, observation_list, conditions):\n",
    "        # Generate offsets in camera rotator\n",
    "        #offsets = self._generate_offsets_orig(len(observation_list), conditions.night, conditions.mjd)\n",
    "        #import pdb; pdb.set_trace()\n",
    "        #offsets = self._generate_offsets(observation_list, conditions.night, conditions.mjd)\n",
    "\n",
    "        filter_list = [np.asarray(obs['filter']).item() for obs in observation_list]\n",
    "        offsets = self._generate_offsets_filter_change(filter_list, conditions.mjd, conditions.rot_tel_pos)\n",
    "        \n",
    "        for i, obs in enumerate(observation_list):\n",
    "            alt, az = _approx_ra_dec2_alt_az(\n",
    "                obs[\"RA\"],\n",
    "                obs[\"dec\"],\n",
    "                conditions.site.latitude_rad,\n",
    "                conditions.site.longitude_rad,\n",
    "                conditions.mjd,\n",
    "            )\n",
    "            obs_pa = _approx_altaz2pa(alt, az, conditions.site.latitude_rad)\n",
    "            obs[\"rotSkyPos\"] = (offsets[i] - obs_pa) % (2.0 * np.pi)\n",
    "            obs[\"rotTelPos\"] = offsets[i]\n",
    "\n",
    "        return observation_list"
   ]
  },
  {
   "cell_type": "code",
   "execution_count": null,
   "id": "8aaa69a7-664b-4c5d-98d9-16ae1c749069",
   "metadata": {},
   "outputs": [],
   "source": [
    "# Testing non-repeatability of simulations"
   ]
  },
  {
   "cell_type": "code",
   "execution_count": null,
   "id": "56318f41-f6eb-47e7-a12b-4ee8506f09d7",
   "metadata": {},
   "outputs": [],
   "source": [
    "#filter_list = ['g', 'g', 'r', 'r', 'i', 'i']\n",
    "#mjd = [0.001, 0.002, 0.003, 0.004]\n",
    "#initial_offset = 45.\n",
    "\n",
    "#detailer = CameraRotPerObservationListDetailer()\n",
    "#detailer._generate_offsets_filter_change(filter_list, conditions.mjd, conditions.rot_tel_pos)"
   ]
  },
  {
   "cell_type": "code",
   "execution_count": null,
   "id": "22c883f5-2612-43d7-aef7-c6186d761eb3",
   "metadata": {},
   "outputs": [],
   "source": [
    "detailer = DitherDetailer(max_dither=0.2, per_night=False, seed=42)\n",
    "detailer._generate_offsets(10, 2)"
   ]
  },
  {
   "cell_type": "code",
   "execution_count": null,
   "id": "b3beafe8-1260-42e5-b577-4b8f1fa7ad40",
   "metadata": {},
   "outputs": [],
   "source": [
    "from rubin_scheduler.scheduler.utils import wrap_ra_dec\n",
    "from rubin_scheduler.utils import (\n",
    "    gnomonic_project_tosky,\n",
    ")\n",
    "\n",
    "class DitherDetailerRepeatable(BaseDetailer):\n",
    "    \"\"\"\n",
    "    make a uniform dither pattern. Offset by a maximum radius in a random\n",
    "    direction. Mostly intended for DDF pointings, the BaseMarkovDF_survey\n",
    "    class includes dithering for large areas.\n",
    "\n",
    "    Parameters\n",
    "    ----------\n",
    "    max_dither : `float` (0.7)\n",
    "        The maximum dither size to use (degrees).\n",
    "    per_night : `bool` (True)\n",
    "        If true, us the same dither offset for an entire night\n",
    "    nnights : `int` (7305)\n",
    "        The number of nights to pre-generate random dithers for\n",
    "\n",
    "\n",
    "    \"\"\"\n",
    "\n",
    "    def __init__(self, max_dither=0.7, seed=42, per_night=True, nnights=7305):\n",
    "        self.survey_features = {}\n",
    "\n",
    "        self.current_night = -1\n",
    "        self.max_dither = np.radians(max_dither)\n",
    "        self.per_night = per_night\n",
    "        self.rng = np.random.default_rng(seed)\n",
    "        self.angles = self.rng.random(nnights) * 2 * np.pi\n",
    "        self.radii = self.max_dither * np.sqrt(self.rng.random(nnights))\n",
    "        self.offsets = (self.rng.random((nnights, 2)) - 0.5) * 2.0 * self.max_dither\n",
    "        self.offset = None\n",
    "\n",
    "    def _generate_offsets(self, n_offsets, night):\n",
    "        if self.per_night:\n",
    "            if night != self.current_night:\n",
    "                self.current_night = night\n",
    "                self.offset = self.offsets[night, :]\n",
    "                angle = self.angles[night]\n",
    "                radius = self.radii[night]\n",
    "                self.offset = np.array([radius * np.cos(angle), radius * np.sin(angle)])\n",
    "            offsets = np.tile(self.offset, (n_offsets, 1))\n",
    "        else:\n",
    "            #self.rng = np.random.default_rng() # REMOVE THIS LINE\n",
    "            angle = self.rng.random(n_offsets) * 2 * np.pi\n",
    "            radius = self.max_dither * np.sqrt(self.rng.random(n_offsets))\n",
    "            offsets = np.array([radius * np.cos(angle), radius * np.sin(angle)]).T\n",
    "\n",
    "        return offsets\n",
    "\n",
    "    def __call__(self, observation_list, conditions):\n",
    "        if len(observation_list) == 0:\n",
    "            return observation_list\n",
    "        # Generate offsets in RA and Dec\n",
    "        offsets = self._generate_offsets(len(observation_list), conditions.night)\n",
    "\n",
    "        obs_array = np.concatenate(observation_list)\n",
    "        new_ra, new_dec = gnomonic_project_tosky(\n",
    "            offsets[:, 0], offsets[:, 1], obs_array[\"RA\"], obs_array[\"dec\"]\n",
    "        )\n",
    "        new_ra, new_dec = wrap_ra_dec(new_ra, new_dec)\n",
    "        for i, obs in enumerate(observation_list):\n",
    "            observation_list[i][\"RA\"] = new_ra[i]\n",
    "            observation_list[i][\"dec\"] = new_dec[i]\n",
    "        return observation_list"
   ]
  },
  {
   "cell_type": "code",
   "execution_count": null,
   "id": "e1cceca9-1002-4195-b18a-ac4be57305c4",
   "metadata": {},
   "outputs": [],
   "source": [
    "detailer = DitherDetailerRepeatable(max_dither=0.2, per_night=False, seed=42)\n",
    "detailer._generate_offsets(10, 2)"
   ]
  },
  {
   "cell_type": "code",
   "execution_count": null,
   "id": "582aee79-2d59-4ebe-8936-18f5ae4e3b96",
   "metadata": {},
   "outputs": [],
   "source": [
    "detailer._generate_offsets(10, 2)"
   ]
  },
  {
   "cell_type": "markdown",
   "id": "5888b63a-fc3b-4603-a801-8b134afbde31",
   "metadata": {
    "execution": {
     "iopub.execute_input": "2024-01-03T15:48:23.739018Z",
     "iopub.status.busy": "2024-01-03T15:48:23.738809Z",
     "iopub.status.idle": "2024-01-03T15:48:23.741447Z",
     "shell.execute_reply": "2024-01-03T15:48:23.741069Z",
     "shell.execute_reply.started": "2024-01-03T15:48:23.739003Z"
    }
   },
   "source": [
    "## Scheduler"
   ]
  },
  {
   "cell_type": "code",
   "execution_count": null,
   "id": "01e9b2fd-cf06-4dd9-bd92-17244e0a25ff",
   "metadata": {},
   "outputs": [],
   "source": [
    "# Basis functions\n",
    "#bfs = []\n",
    "\n",
    "sun_alt_limit = -12.0 # deg\n",
    "\n",
    "bfs = [\n",
    "    M5DiffBasisFunction(filtername='r', nside=nside),\n",
    "    NotTwilightBasisFunction(sun_alt_limit=sun_alt_limit),\n",
    "    #AvoidFastRevistsBasisFunction(filtername='r', nside=nside, gap_min=25.0, penalty_val=np.nan),\n",
    "    #FilterLoadedBasisFunction(filternames=['g', 'r', 'i']),\n",
    "    #OnceInNightBasisFunction(notes=['dense_dithered']),\n",
    "    #NObsHighAmBasisFunction(),\n",
    "]"
   ]
  },
  {
   "cell_type": "code",
   "execution_count": null,
   "id": "b8a58a7c-a36f-416c-a8ab-0df9ea61b903",
   "metadata": {},
   "outputs": [],
   "source": [
    "#bfs[2].check_feasibility(conditions)"
   ]
  },
  {
   "cell_type": "code",
   "execution_count": null,
   "id": "42483de3-bef7-4895-a4b5-3963517c2984",
   "metadata": {},
   "outputs": [],
   "source": [
    "#rng = np.random.default_rng(42)\n",
    "#for ii in range(0, 10):\n",
    "#    print(rng.random())"
   ]
  },
  {
   "cell_type": "code",
   "execution_count": null,
   "id": "ff3981b4-e218-40e7-b906-37a9aeb52bda",
   "metadata": {},
   "outputs": [],
   "source": [
    "# Add in detailer\n",
    "#detailers = None # Test repeatability\n",
    "detailers = [\n",
    "    #DitherDetailer(max_dither=0.2, per_night=False),\n",
    "    DitherDetailerRepeatable(max_dither=0.2, per_night=False),\n",
    "    CameraRotPerObservationListDetailer(\n",
    "        max_rot=45.0, \n",
    "        min_rot=-45.0, \n",
    "        seed=42, \n",
    "        per_visit_rot=1.,\n",
    "    ),\n",
    "    #CameraRotDetailer(per_night=True),\n",
    "]"
   ]
  },
  {
   "cell_type": "code",
   "execution_count": null,
   "id": "a2eeee58-dcf1-4f2b-877a-15c6b2d14ba5",
   "metadata": {},
   "outputs": [],
   "source": [
    "nvis_master = [20, 20, 20]\n",
    "sequence = \"gri\"\n",
    "exptime = 30\n",
    "u_exptime = 30\n",
    "reward_value = None\n",
    "nexp = 1 # 1 --> single 30 second exposure\n",
    "\n",
    "min_moon_dist = 20. # deg\n",
    "\n",
    "params = {\n",
    "    \"low_airmass\": {\n",
    "        \"min_airmass\": 1.0,\n",
    "        \"max_airmass\": 1.6,\n",
    "        \"gap_min\": 120.\n",
    "    },\n",
    "    \"high_airmass\": {\n",
    "        \"min_airmass\": 1.3,\n",
    "        \"max_airmass\": 2.1,\n",
    "        \"gap_min\": 30.\n",
    "    },  \n",
    "}\n",
    "\n",
    "surveys = []\n",
    "for field_name in fields.keys():\n",
    "\n",
    "    print(field_name)\n",
    "    \n",
    "    # Low airmass surveys\n",
    "    survey_name_low_airmass = field_name + \"_low_airmass\"\n",
    "    #min_airmass = 1.0\n",
    "    #max_airmass = 1.6\n",
    "    ##gap_min = 30.\n",
    "    #gap_min = 120. # 12 hr\n",
    "    bfs_survey_low_airmass = copy.deepcopy(bfs)\n",
    "    bfs_survey_low_airmass.append(\n",
    "        RisingBasisFunction(RA=fields[field_name][\"RA\"])\n",
    "    )\n",
    "    bfs_survey_low_airmass.append(\n",
    "        AvoidFastRevisitsBasisFunction(\n",
    "            survey_name=survey_name_low_airmass, \n",
    "            gap_min=params[\"low_airmass\"][\"gap_min\"]\n",
    "        )\n",
    "    )\n",
    "    bfs_survey_low_airmass.append(AvoidMoonBasisFunction(\n",
    "        ra=fields[field_name][\"RA\"], \n",
    "        dec=fields[field_name][\"dec\"], \n",
    "        min_moon_dist=min_moon_dist)\n",
    "    )\n",
    "    bfs_survey_low_airmass.append(\n",
    "        AirmassRangeBasisFunction(\n",
    "            ra=fields[field_name][\"RA\"], \n",
    "            dec=fields[field_name][\"dec\"],\n",
    "            min_airmass=params[\"low_airmass\"][\"min_airmass\"],\n",
    "            max_airmass=params[\"low_airmass\"][\"max_airmass\"]\n",
    "        )\n",
    "    )\n",
    "    \n",
    "    surveys.append(\n",
    "        FieldSurvey(\n",
    "            bfs_survey_low_airmass,\n",
    "            fields[field_name][\"RA\"],\n",
    "            fields[field_name][\"dec\"],\n",
    "            sequence=sequence,\n",
    "            nvis=nvis_master,\n",
    "            exptime=exptime,\n",
    "            u_exptime=u_exptime,\n",
    "            survey_name=survey_name_low_airmass,\n",
    "            reward_value=reward_value,\n",
    "            nside=nside,\n",
    "            nexp=nexp,\n",
    "            detailers=detailers,\n",
    "        )\n",
    "    )\n",
    "\n",
    "    \n",
    "    # High airmass survey\n",
    "    survey_name_high_airmass = field_name + \"_high_airmass\"\n",
    "    #min_airmass = 1.3\n",
    "    #max_airmass = 2.1\n",
    "    #gap_min = 30. # 0.5 hr\n",
    "    bfs_survey_high_airmass = copy.deepcopy(bfs)\n",
    "    bfs_survey_high_airmass.append(\n",
    "        RisingBasisFunction(RA=fields[field_name][\"RA\"])\n",
    "    )\n",
    "    bfs_survey_high_airmass.append(\n",
    "        AvoidFastRevisitsBasisFunction(\n",
    "            survey_name=survey_name_high_airmass, \n",
    "            gap_min=params[\"high_airmass\"][\"gap_min\"]\n",
    "        )\n",
    "    )\n",
    "    bfs_survey_high_airmass.append(AvoidMoonBasisFunction(\n",
    "        ra=fields[field_name][\"RA\"], \n",
    "        dec=fields[field_name][\"dec\"], \n",
    "        min_moon_dist=min_moon_dist)\n",
    "    )\n",
    "    bfs_survey_high_airmass.append(AirmassRangeBasisFunction(\n",
    "        ra=fields[field_name][\"RA\"], \n",
    "        dec=fields[field_name][\"dec\"],\n",
    "        min_airmass=params[\"high_airmass\"][\"min_airmass\"],\n",
    "        max_airmass=params[\"high_airmass\"][\"max_airmass\"])\n",
    "    )\n",
    "\n",
    "    surveys.append(\n",
    "        FieldSurvey(\n",
    "            bfs_survey_high_airmass,\n",
    "            fields[field_name][\"RA\"],\n",
    "            fields[field_name][\"dec\"],\n",
    "            sequence=sequence,\n",
    "            nvis=nvis_master,\n",
    "            exptime=exptime,\n",
    "            u_exptime=u_exptime,\n",
    "            survey_name=survey_name_high_airmass,\n",
    "            reward_value=reward_value,\n",
    "            nside=nside,\n",
    "            nexp=nexp,\n",
    "            detailers=detailers,\n",
    "        )\n",
    "    )\n"
   ]
  },
  {
   "cell_type": "code",
   "execution_count": null,
   "id": "91442eca-8786-44ed-b53d-0c64b3e1de6f",
   "metadata": {},
   "outputs": [],
   "source": [
    "#surveys[0].basis_functions"
   ]
  },
  {
   "cell_type": "code",
   "execution_count": null,
   "id": "ad63a7db-fd45-4b37-8093-4c4d8ecf7d2f",
   "metadata": {},
   "outputs": [],
   "source": [
    "#scheduler = CoreScheduler(surveys, nside=nside)"
   ]
  },
  {
   "cell_type": "code",
   "execution_count": null,
   "id": "480b46b2-7e5d-481d-a7e9-5ef75e42dfa6",
   "metadata": {},
   "outputs": [],
   "source": [
    "scheduler = CoreScheduler(surveys, nside=nside)\n",
    "# Note the deep copy used here. The function sim_runner modifies the observatory\n",
    "#new_mo, new_scheduler, observations = sim_runner(copy.deepcopy(mo), copy.deepcopy(scheduler), survey_length=3., verbose=True)\n",
    "new_mo, new_scheduler, observations = sim_runner(copy.deepcopy(mo), copy.deepcopy(scheduler), survey_length=21., verbose=True)\n",
    "del new_mo\n",
    "del new_scheduler"
   ]
  },
  {
   "cell_type": "code",
   "execution_count": null,
   "id": "acea5445-35be-4d08-b74b-51c745aecebf",
   "metadata": {},
   "outputs": [],
   "source": [
    "# Create dataframe for easy visualization\n",
    "df = pd.DataFrame(np.hstack(observations))\n",
    "df"
   ]
  },
  {
   "cell_type": "code",
   "execution_count": null,
   "id": "0c00d01d-4962-42c1-be39-c396774b3f1a",
   "metadata": {},
   "outputs": [],
   "source": [
    "print(df.columns)"
   ]
  },
  {
   "cell_type": "code",
   "execution_count": null,
   "id": "57ec31f8-bc88-4ec7-a512-d00d48718d17",
   "metadata": {},
   "outputs": [],
   "source": [
    "# Ensure that we don't actually use the dataframe for any subsequent activity\n",
    "del df"
   ]
  },
  {
   "cell_type": "code",
   "execution_count": null,
   "id": "bc44d2f2-e85a-4507-b08b-d284d8f77c59",
   "metadata": {},
   "outputs": [],
   "source": [
    "# Observability\n",
    "assert np.all(observations['airmass'] < params[\"high_airmass\"][\"max_airmass\"])\n",
    "moon_dist_margin = 0.5 * (hp.nside2resol(nside)*u.rad).to(u.deg).value\n",
    "assert np.all(np.degrees(observations['moonDist']) > (min_moon_dist - moon_dist_margin))"
   ]
  },
  {
   "cell_type": "code",
   "execution_count": null,
   "id": "7b2a029a-c879-4a3a-b689-14f624d79dd6",
   "metadata": {},
   "outputs": [],
   "source": [
    "# Forbid 2 x 15 sec snaps\n",
    "assert np.all(observations['nexp'] == 1)"
   ]
  },
  {
   "cell_type": "code",
   "execution_count": null,
   "id": "b26323fd-0aac-436c-b74c-92b04d16e181",
   "metadata": {},
   "outputs": [],
   "source": [
    "print(np.sum(observations['airmass'] > params[\"high_airmass\"][\"max_airmass\"]))\n",
    "print(np.max(observations['airmass']))"
   ]
  },
  {
   "cell_type": "code",
   "execution_count": null,
   "id": "cd83c984-8ce4-4b65-a475-6186a9b18410",
   "metadata": {},
   "outputs": [],
   "source": [
    "print(np.min(np.degrees(observations['moonDist'])))"
   ]
  },
  {
   "cell_type": "code",
   "execution_count": null,
   "id": "af5c9581-feca-474c-8657-f3800b9ac545",
   "metadata": {},
   "outputs": [],
   "source": [
    "np.unique(observations['note'])"
   ]
  },
  {
   "cell_type": "code",
   "execution_count": null,
   "id": "560315db-a36b-43f7-8137-3be1af77f9bb",
   "metadata": {},
   "outputs": [],
   "source": [
    "np.unique(observations['filter'])"
   ]
  },
  {
   "cell_type": "code",
   "execution_count": null,
   "id": "3d82ea40-9d1d-43b1-bac7-ea3c1f7396ca",
   "metadata": {},
   "outputs": [],
   "source": [
    "assert np.std(observations['FWHM_500']) > 0.1"
   ]
  },
  {
   "cell_type": "code",
   "execution_count": null,
   "id": "6bf216a7-2f23-4469-98c7-ce484b99ae7e",
   "metadata": {},
   "outputs": [],
   "source": [
    "print(np.std(observations['FWHM_500']))"
   ]
  },
  {
   "cell_type": "code",
   "execution_count": null,
   "id": "0e99f6d0-07b1-4e5b-b30a-ae68ae13e85d",
   "metadata": {},
   "outputs": [],
   "source": [
    "print(\n",
    "    Time(np.min(observations['mjd']), format='mjd').iso\n",
    ")\n",
    "print(\n",
    "    Time(np.max(observations['mjd']), format='mjd').iso\n",
    ")"
   ]
  },
  {
   "cell_type": "markdown",
   "id": "93fd8024-6a04-4fff-bc5c-9397cd94f8c8",
   "metadata": {},
   "source": [
    "# Apply rotSkyPos Update from SMTN-019\n",
    "\n",
    "https://smtn-019.lsst.io/v/DM-44258/index.html"
   ]
  },
  {
   "cell_type": "code",
   "execution_count": null,
   "id": "5f56ba8e-66b7-4bfc-9de3-170c50b158b8",
   "metadata": {},
   "outputs": [],
   "source": [
    "from rotation_angles import pseudo_parallactic_angle, rtp_to_rsp"
   ]
  },
  {
   "cell_type": "code",
   "execution_count": null,
   "id": "44559041-9ea9-4033-8150-7321dcbea5f2",
   "metadata": {},
   "outputs": [],
   "source": [
    "rotTelPos = np.degrees(observations['rotTelPos'])\n",
    "ra = np.degrees(observations['RA'])\n",
    "dec = np.degrees(observations['dec'])\n",
    "mjd = Time(observations['mjd'], format='mjd', scale='utc').tai.mjd"
   ]
  },
  {
   "cell_type": "code",
   "execution_count": null,
   "id": "1bb2e063-eb72-46df-8ed4-c788f56da80d",
   "metadata": {},
   "outputs": [],
   "source": [
    "rotSkyPos = rtp_to_rsp(rotTelPos, ra, dec, mjd)"
   ]
  },
  {
   "cell_type": "code",
   "execution_count": null,
   "id": "6a3e0969-fe1b-4377-9560-7baed1095b35",
   "metadata": {},
   "outputs": [],
   "source": [
    "plt.figure()\n",
    "plt.scatter(np.degrees(observations['rotSkyPos']), rotSkyPos)"
   ]
  },
  {
   "cell_type": "code",
   "execution_count": null,
   "id": "e11c163a-44c9-4ca3-bdd0-e60b4b1ababb",
   "metadata": {},
   "outputs": [],
   "source": [
    "# Pseudo parallactic angle\n",
    "ppa = pseudo_parallactic_angle(ra, dec, mjd)"
   ]
  },
  {
   "cell_type": "code",
   "execution_count": null,
   "id": "045573db-23ef-482d-a86d-a0d6e05e617a",
   "metadata": {},
   "outputs": [],
   "source": [
    "from astropy.coordinates import SkyCoord\n",
    "import astropy.units as u\n",
    "\n",
    "from astroplan import Observer\n",
    "\n",
    "coord = SkyCoord(ra*u.deg, dec*u.deg)\n",
    "observer= Observer.at_site(\"LSST\")\n",
    "obstime = Time(mjd, format='mjd', scale='tai')\n",
    "pa = observer.parallactic_angle(obstime, coord).deg"
   ]
  },
  {
   "cell_type": "code",
   "execution_count": null,
   "id": "3aa6e1ec-c43a-4ee5-a083-b588600fea00",
   "metadata": {},
   "outputs": [],
   "source": [
    "pa"
   ]
  },
  {
   "cell_type": "code",
   "execution_count": null,
   "id": "82cfb765-f7ad-4c75-96c9-a9c210bc5cd0",
   "metadata": {},
   "outputs": [],
   "source": [
    "plt.figure()\n",
    "plt.scatter(pa, ppa - pa)\n",
    "plt.ylim(-2, 0)"
   ]
  },
  {
   "cell_type": "code",
   "execution_count": null,
   "id": "a411e2f0-4bef-4eb0-92c2-173f09ee11ba",
   "metadata": {},
   "outputs": [],
   "source": [
    "plt.figure()\n",
    "plt.scatter(np.degrees(observations['pa']), pa)"
   ]
  },
  {
   "cell_type": "markdown",
   "id": "e5998a4e-178e-457d-b492-2afe23b02078",
   "metadata": {},
   "source": [
    "Apply the correction to `rotSkyPos` and `pa`"
   ]
  },
  {
   "cell_type": "code",
   "execution_count": null,
   "id": "1e7dbebb-ceee-40ca-ad38-b66f65050da9",
   "metadata": {},
   "outputs": [],
   "source": [
    "observations['pa'] = np.radians(pa)\n",
    "observations['rotSkyPos'] = np.radians(rotSkyPos)"
   ]
  },
  {
   "cell_type": "code",
   "execution_count": null,
   "id": "25113b38-1c38-4ada-9c71-e62e47f34171",
   "metadata": {},
   "outputs": [],
   "source": [
    "print(np.min(observations['pa']))\n",
    "print(np.max(observations['pa']))\n",
    "print(np.min(observations['rotSkyPos']))\n",
    "print(np.max(observations['rotSkyPos']))"
   ]
  },
  {
   "cell_type": "markdown",
   "id": "582e0513-6463-43e1-aa5c-c325248e6f29",
   "metadata": {},
   "source": [
    "## Quick Evaluation of Observation Simulation"
   ]
  },
  {
   "cell_type": "code",
   "execution_count": null,
   "id": "7570a0c7-1da9-48d4-824b-eb6de894d018",
   "metadata": {},
   "outputs": [],
   "source": [
    "f2c = {'u': 'purple', 'g': 'blue', 'r': 'green',\n",
    "       'i': 'cyan', 'z': 'orange', 'y': 'red'}\n",
    "\n",
    "plt.figure(dpi=200)\n",
    "for filtername in f2c:\n",
    "    in_filt = np.where(observations['filter'] == filtername)[0]\n",
    "    if in_filt.size > 0:\n",
    "        plt.plot(observations['mjd'][in_filt], np.degrees(observations['alt'][in_filt]), \n",
    "                 'o', markersize=1, color=f2c[filtername], label=filtername)\n",
    "plt.legend()\n",
    "plt.xlabel('MJD')\n",
    "plt.ylabel('Altitude (degrees)')"
   ]
  },
  {
   "cell_type": "code",
   "execution_count": null,
   "id": "f8016213-2408-495a-9d87-c22c819a31fc",
   "metadata": {},
   "outputs": [],
   "source": [
    "f2c = {'u': 'purple', 'g': 'blue', 'r': 'green',\n",
    "       'i': 'cyan', 'z': 'orange', 'y': 'red'}\n",
    "\n",
    "plt.figure(dpi=200)\n",
    "for filtername in f2c:\n",
    "    in_filt = np.where(observations['filter'] == filtername)[0]\n",
    "    if in_filt.size > 0:\n",
    "        plt.plot(observations['mjd'][in_filt], observations['airmass'][in_filt], \n",
    "                 'o', markersize=1, color=f2c[filtername], label=filtername)\n",
    "plt.legend()\n",
    "plt.xlabel('MJD')\n",
    "plt.ylabel('Airmass')"
   ]
  },
  {
   "cell_type": "code",
   "execution_count": null,
   "id": "fc09baa2-2164-4c02-a31c-7003371f40ff",
   "metadata": {},
   "outputs": [],
   "source": [
    "plt.figure(dpi=200)\n",
    "for filtername in f2c:\n",
    "    in_filt = np.where(observations['filter'] == filtername)[0]\n",
    "    if in_filt.size > 0:\n",
    "        plt.plot(observations['mjd'][in_filt], observations['slewtime'][in_filt], \n",
    "                 'o', markersize=1, color=f2c[filtername], label=filtername)\n",
    "plt.xlim(observations['mjd'][0], observations['mjd'][500])"
   ]
  },
  {
   "cell_type": "code",
   "execution_count": null,
   "id": "105740f3-7c55-47b5-992a-e42904443962",
   "metadata": {},
   "outputs": [],
   "source": [
    "plt.figure(dpi=200)\n",
    "plt.scatter(observations['mjd'], np.degrees(observations['rotSkyPos']), c=np.degrees(observations['RA']), s=1)\n",
    "plt.colorbar(label='RA (deg)')\n",
    "\n",
    "plt.xlabel('MJD')\n",
    "plt.ylabel('rotSkyPos')"
   ]
  },
  {
   "cell_type": "code",
   "execution_count": null,
   "id": "f15e586b-6550-48e4-938a-e1552d4a0a51",
   "metadata": {},
   "outputs": [],
   "source": [
    "f2c = {'u': 'purple', 'g': 'blue', 'r': 'green',\n",
    "       'i': 'cyan', 'z': 'orange', 'y': 'red'}\n",
    "\n",
    "plt.figure(dpi=200)\n",
    "#plt.scatter(observations['mjd'], np.degrees(observations['rotTelPos']), c=np.degrees(observations['RA']), s=1)\n",
    "#plt.colorbar(label='RA (deg)')\n",
    "\n",
    "for filtername in f2c:\n",
    "    in_filt = np.where(observations['filter'] == filtername)[0]\n",
    "    if in_filt.size > 0:\n",
    "        plt.plot(observations['mjd'][in_filt], np.degrees(observations['rotTelPos'][in_filt]), \n",
    "                 'o', markersize=1, color=f2c[filtername], label=filtername)\n",
    "plt.legend()\n",
    "\n",
    "plt.xlabel('MJD')\n",
    "plt.ylabel('rotTelPos')\n",
    "plt.xlim(observations['mjd'][0], observations['mjd'][500])"
   ]
  },
  {
   "cell_type": "code",
   "execution_count": null,
   "id": "1dafe6ff-4e22-4d93-9e99-41cfb5eaba64",
   "metadata": {},
   "outputs": [],
   "source": [
    "plt.figure(dpi=200)\n",
    "for filtername in f2c:\n",
    "    in_filt = np.where(observations['filter'] == filtername)[0]\n",
    "    if in_filt.size > 0:\n",
    "        plt.plot(np.degrees(observations['RA'][in_filt]), observations['airmass'][in_filt], \n",
    "                 'o', markersize=1, color=f2c[filtername], label=filtername)\n",
    "\n",
    "plt.legend()\n",
    "plt.xlabel('RA (deg)')\n",
    "plt.ylabel('Airmass')"
   ]
  },
  {
   "cell_type": "code",
   "execution_count": null,
   "id": "281bfdcf-2723-4412-8dc5-8420538994cc",
   "metadata": {},
   "outputs": [],
   "source": [
    "plt.figure(dpi=200)\n",
    "for filtername in f2c:\n",
    "    in_filt = np.where(observations['filter'] == filtername)[0]\n",
    "    if in_filt.size > 0:\n",
    "        plt.plot(observations['mjd'][in_filt], np.degrees(observations['RA'][in_filt]), \n",
    "                 'o', markersize=1, color=f2c[filtername], label=filtername)\n",
    "\n",
    "plt.legend()\n",
    "plt.xlabel('MJD')\n",
    "plt.ylabel('RA (deg)')"
   ]
  },
  {
   "cell_type": "code",
   "execution_count": null,
   "id": "44597818-9288-46c3-8a36-bca3ea26408d",
   "metadata": {},
   "outputs": [],
   "source": [
    "plt.figure(dpi=200)\n",
    "#for filtername in f2c:\n",
    "#    in_filt = np.where(observations['filter'] == filtername)[0]\n",
    "#    if in_filt.size > 0:\n",
    "#        plt.plot(observations['mjd'][in_filt], np.degrees(observations['moonDist'][in_filt]), \n",
    "#                 'o', markersize=1, color=f2c[filtername], label=filtername)\n",
    "\n",
    "plt.scatter(observations['mjd'], np.degrees(observations['moonDist']), c=observations['moonPhase'], s=1)\n",
    "plt.colorbar(label='moonPhase')\n",
    "\n",
    "#plt.legend()\n",
    "plt.xlabel('MJD')\n",
    "plt.ylabel('moonDist (deg)')"
   ]
  },
  {
   "cell_type": "code",
   "execution_count": null,
   "id": "6123bd97-3089-4e8c-aef0-0ac895511067",
   "metadata": {},
   "outputs": [],
   "source": [
    "plt.figure(dpi=200)\n",
    "for filtername in f2c:\n",
    "    in_filt = np.where(observations['filter'] == filtername)[0]\n",
    "    if in_filt.size > 0:\n",
    "        plt.plot(np.degrees(observations['RA'][in_filt]), np.degrees(observations['rotSkyPos'][in_filt]), \n",
    "                 'o', markersize=1, color=f2c[filtername], label=filtername)\n",
    "\n",
    "plt.legend()\n",
    "plt.xlabel('RA (deg)')\n",
    "plt.ylabel('rotSkyPos')"
   ]
  },
  {
   "cell_type": "code",
   "execution_count": null,
   "id": "652f0893-d646-456d-890a-859c2ff862ae",
   "metadata": {},
   "outputs": [],
   "source": [
    "gap = (np.diff(observations['mjd']) * 24. * 3600.)\n",
    "\n",
    "plt.figure()\n",
    "plt.yscale('log')\n",
    "bins = np.linspace(0., 300., 101)\n",
    "plt.hist(gap, bins=bins)\n",
    "plt.ylabel('Counts')\n",
    "plt.xlabel('Time Gap (s)')\n",
    "\n",
    "selection = gap > 300.\n",
    "for index in np.nonzero(selection)[0]:\n",
    "    print(gap[index], observations['mjd'][index + 1])"
   ]
  },
  {
   "cell_type": "markdown",
   "id": "3c75d649-09ab-451c-b475-bf09cd72e704",
   "metadata": {},
   "source": [
    "## Write the output"
   ]
  },
  {
   "cell_type": "markdown",
   "id": "4b6807f9-7b00-411a-8d39-2a268098dcd6",
   "metadata": {},
   "source": [
    "For ease of use downstream, make the pairs of high-airmass and low-airmass surveys appear as a single conceptual survey in the opSim database."
   ]
  },
  {
   "cell_type": "code",
   "execution_count": null,
   "id": "53212544-6e80-415d-86f5-52ae76758e5e",
   "metadata": {},
   "outputs": [],
   "source": [
    "def stripArray(a, string):\n",
    "    return np.array([_.strip(string) for _  in a])"
   ]
  },
  {
   "cell_type": "code",
   "execution_count": null,
   "id": "cbe4d442-ffcc-469b-9ee1-0515caa71e83",
   "metadata": {},
   "outputs": [],
   "source": [
    "# Request to fill the target column with the field name\n",
    "observations['target'] = stripArray(stripArray(observations['note'], \"_low_airmass\"), \"_high_airmass\")"
   ]
  },
  {
   "cell_type": "code",
   "execution_count": null,
   "id": "273a6de9-4cbd-49cc-aa1d-2fec52e55a22",
   "metadata": {},
   "outputs": [],
   "source": [
    "observations['note'] = observations['target']"
   ]
  },
  {
   "cell_type": "code",
   "execution_count": null,
   "id": "555dcfa2-2ed2-4384-b132-1c78cebe353c",
   "metadata": {},
   "outputs": [],
   "source": [
    "assert np.all(observations['target'] == observations['note'])"
   ]
  },
  {
   "cell_type": "markdown",
   "id": "e7a830b7-5d6e-4883-a59b-ddeacd811dea",
   "metadata": {},
   "source": [
    "Convert observation array to the standard opsim schema\n",
    "\n",
    "Note that the SchemaConverter is only changing the column names and changing angles between radians and decimal degrees, but is not doing other manipulation of sky and telescope rotations."
   ]
  },
  {
   "cell_type": "code",
   "execution_count": null,
   "id": "9396a136-33a4-4212-bd17-aca47ed006d6",
   "metadata": {},
   "outputs": [],
   "source": [
    "filename = 'ops_rehearsal_jun_2024_v4.db'\n",
    "#filename = 'ops_rehearsal_jun_2024_v4_repeatability_test.db'\n",
    "SchemaConverter().obs2opsim(observations, filename=filename, info=None, delete_past=True)"
   ]
  },
  {
   "cell_type": "code",
   "execution_count": null,
   "id": "bbeacf1a-daed-4d7a-bc60-a3924c6f17f9",
   "metadata": {},
   "outputs": [],
   "source": []
  },
  {
   "cell_type": "code",
   "execution_count": null,
   "id": "dade36e2-a6be-4a3a-ab28-2868770d54ae",
   "metadata": {},
   "outputs": [],
   "source": []
  },
  {
   "cell_type": "code",
   "execution_count": null,
   "id": "c7554878-e980-4cae-a58d-813141bd4a0a",
   "metadata": {},
   "outputs": [],
   "source": [
    "# Check Consistency with Previous Runs"
   ]
  },
  {
   "cell_type": "code",
   "execution_count": null,
   "id": "c0e27a72-348d-47e6-acbb-0952f7c059db",
   "metadata": {},
   "outputs": [],
   "source": [
    "#conn_new = sqlite3.connect('ops_rehearsal_apr_2024.db')\n",
    "#observations_new = pd.read_sql('select * from observations;', conn_new)\n",
    "\n",
    "#conn_old = sqlite3.connect('ops_rehearsal_apr_2024.db.BACKUP')\n",
    "#conn_old = sqlite3.connect('/sdf/data/rubin/shared/ops-rehearsal-3/scheduler_sims/ops_rehearsal_apr_2024.db')\n",
    "#observations_old = pd.read_sql('select * from observations;', conn_old)"
   ]
  },
  {
   "cell_type": "code",
   "execution_count": null,
   "id": "68f2f61d-2145-43cb-a206-9eddf849ca35",
   "metadata": {},
   "outputs": [],
   "source": [
    "#observations_new"
   ]
  },
  {
   "cell_type": "code",
   "execution_count": null,
   "id": "2b41d9d7-0e63-4443-b1ca-2a47f0898a15",
   "metadata": {},
   "outputs": [],
   "source": [
    "#observations_old"
   ]
  },
  {
   "cell_type": "code",
   "execution_count": null,
   "id": "3385c147-085a-4ccb-9d75-941bf25e2d4e",
   "metadata": {},
   "outputs": [],
   "source": [
    "#observations_new['RA'].values == observations_old['RA'].values"
   ]
  },
  {
   "cell_type": "code",
   "execution_count": null,
   "id": "185cb5fb-4eec-46d3-86ba-44ebd4a2eb1f",
   "metadata": {},
   "outputs": [],
   "source": []
  },
  {
   "cell_type": "code",
   "execution_count": null,
   "id": "fe8c4f99-1489-4182-839e-a69e8c16af75",
   "metadata": {},
   "outputs": [],
   "source": [
    "import sqlite3"
   ]
  },
  {
   "cell_type": "code",
   "execution_count": null,
   "id": "a42b51f9-9fc9-4583-ae7b-e6b2c8ad8e77",
   "metadata": {},
   "outputs": [],
   "source": [
    "conn_new = sqlite3.connect(filename)\n",
    "observations_new = pd.read_sql('select * from observations;', conn_new)"
   ]
  },
  {
   "cell_type": "code",
   "execution_count": null,
   "id": "73488bfa-e2a5-47dd-b8cb-580fdb94e5f2",
   "metadata": {},
   "outputs": [],
   "source": [
    "observations_new.columns"
   ]
  },
  {
   "cell_type": "code",
   "execution_count": null,
   "id": "d069e8ed-472f-40d9-b18c-5ebda4070338",
   "metadata": {},
   "outputs": [],
   "source": [
    "observations_new['target']"
   ]
  },
  {
   "cell_type": "code",
   "execution_count": null,
   "id": "a117958b-3e9a-48fc-a465-7ec5d3d1c8f9",
   "metadata": {},
   "outputs": [],
   "source": [
    "assert np.all(observations_new['numExposures'] == 1)"
   ]
  },
  {
   "cell_type": "markdown",
   "id": "fc90c497-85f1-48fa-8605-de197bfadb73",
   "metadata": {},
   "source": [
    "## Repeatability Test"
   ]
  },
  {
   "cell_type": "code",
   "execution_count": null,
   "id": "8b3d38ae-3d4b-41b4-b408-7b103b665544",
   "metadata": {},
   "outputs": [],
   "source": [
    "filename_1 = 'ops_rehearsal_jun_2024_v4.db'\n",
    "#filename_2 = 'ops_rehearsal_jun_2024_v4_repeatability_test.db'\n",
    "filename_2 = 'ops_rehearsal_jun_2024_v2.db'\n",
    "\n",
    "conn_1 = sqlite3.connect(filename_1)\n",
    "observations_1 = pd.read_sql('select * from observations;', conn_1)\n",
    "\n",
    "conn_2 = sqlite3.connect(filename_2)\n",
    "observations_2 = pd.read_sql('select * from observations;', conn_2)\n",
    "\n",
    "assert np.all(observations_1 == observations_2)"
   ]
  },
  {
   "cell_type": "code",
   "execution_count": null,
   "id": "4c112686-8b7a-4c4f-bb35-39cc35bc0649",
   "metadata": {},
   "outputs": [],
   "source": [
    "for column in observations_1.columns:\n",
    "    if not np.all(observations_1[column] == observations_2[column]):\n",
    "        print(column)"
   ]
  },
  {
   "cell_type": "code",
   "execution_count": null,
   "id": "fb988977-f8dd-4bc9-916b-fb080bb89431",
   "metadata": {},
   "outputs": [],
   "source": []
  }
 ],
 "metadata": {
  "kernelspec": {
   "display_name": "rubin-sim",
   "language": "python",
   "name": "rubin-sim"
  },
  "language_info": {
   "codemirror_mode": {
    "name": "ipython",
    "version": 3
   },
   "file_extension": ".py",
   "mimetype": "text/x-python",
   "name": "python",
   "nbconvert_exporter": "python",
   "pygments_lexer": "ipython3",
   "version": "3.11.6"
  }
 },
 "nbformat": 4,
 "nbformat_minor": 5
}
