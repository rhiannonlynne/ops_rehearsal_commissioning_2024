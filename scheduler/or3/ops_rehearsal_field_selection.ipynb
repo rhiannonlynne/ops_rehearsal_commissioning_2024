{
 "cells": [
  {
   "cell_type": "markdown",
   "id": "660a70d9-e42b-456d-90c5-544bfa888342",
   "metadata": {
    "execution": {
     "iopub.execute_input": "2024-01-03T19:53:30.417431Z",
     "iopub.status.busy": "2024-01-03T19:53:30.417133Z",
     "iopub.status.idle": "2024-01-03T19:53:30.419838Z",
     "shell.execute_reply": "2024-01-03T19:53:30.419367Z",
     "shell.execute_reply.started": "2024-01-03T19:53:30.417416Z"
    }
   },
   "source": [
    "# Field Selection for Operations Rehearsal for Commissioning"
   ]
  },
  {
   "cell_type": "code",
   "execution_count": null,
   "id": "2eaa6787-663a-4583-a4f1-159e14bbd1bf",
   "metadata": {},
   "outputs": [],
   "source": [
    "import numpy as np\n",
    "import healpy as hp"
   ]
  },
  {
   "cell_type": "code",
   "execution_count": null,
   "id": "e2df54ec-9bf5-47de-b3e6-4adedee8227e",
   "metadata": {},
   "outputs": [],
   "source": [
    "import matplotlib.pyplot as plt\n",
    "%matplotlib widget"
   ]
  },
  {
   "cell_type": "code",
   "execution_count": null,
   "id": "251e2cf2-15e4-48d4-8e6f-1fb91aa8cae6",
   "metadata": {},
   "outputs": [],
   "source": [
    "m_stellar_density = np.load('/home/b/bechtol/rubin_sim_data/maps/StarMaps/starDensity_g_nside_64.npz')"
   ]
  },
  {
   "cell_type": "code",
   "execution_count": null,
   "id": "df4a7d4b-6e88-4634-9ee8-9a7e40f0c426",
   "metadata": {},
   "outputs": [],
   "source": [
    "for key in m_stellar_density.keys():\n",
    "    print(key)"
   ]
  },
  {
   "cell_type": "code",
   "execution_count": null,
   "id": "ab20955f-083b-4bd2-8bff-da2cbd8943e0",
   "metadata": {},
   "outputs": [],
   "source": [
    "m_stellar_density['bins'][20]"
   ]
  },
  {
   "cell_type": "code",
   "execution_count": null,
   "id": "d4a97ed7-d636-4f24-9d6f-7c9643c8f2b2",
   "metadata": {},
   "outputs": [],
   "source": [
    "# Stars with g band magnitude of roughly 19\n",
    "hp.mollview(np.log10(m_stellar_density['starDensity'][:,20]))\n",
    "#hp.projscatter(ra_fields, dec_fields, lonlat=True, color='red')"
   ]
  },
  {
   "cell_type": "code",
   "execution_count": null,
   "id": "43cd8f52-6a9e-4fe4-a0de-acd5e9a2c8d0",
   "metadata": {},
   "outputs": [],
   "source": [
    "m_extinction = np.load('/home/b/bechtol/rubin_sim_data/maps/DustMaps/dust_nside_64.npz')"
   ]
  },
  {
   "cell_type": "code",
   "execution_count": null,
   "id": "c21ede56-22d8-40de-9a8c-50133a7d4723",
   "metadata": {},
   "outputs": [],
   "source": [
    "hp.mollview(m_extinction['ebvMap'], min=0, max=0.1)"
   ]
  },
  {
   "cell_type": "code",
   "execution_count": null,
   "id": "5cf36649-a913-4913-a672-60df8c02dcd3",
   "metadata": {},
   "outputs": [],
   "source": [
    "selection = (m_extinction['ebvMap'] < 0.1) & (m_stellar_density['starDensity'][:,20] != hp.UNSEEN) & (m_stellar_density['starDensity'][:,20] > 0.)\n",
    "\n",
    "median_stellar_density = np.median(m_stellar_density['starDensity'][:,20][selection])\n",
    "\n",
    "plt.figure()\n",
    "plt.hist(m_stellar_density['starDensity'][:,20][selection], bins=np.linspace(0, 2.e4, 51))\n",
    "plt.axvline(median_stellar_density, c='black', ls='--')"
   ]
  },
  {
   "cell_type": "markdown",
   "id": "b8e3a17b-5aa7-47f6-ac49-ae9e7da74821",
   "metadata": {},
   "source": [
    "## Suggested Fields"
   ]
  },
  {
   "cell_type": "code",
   "execution_count": null,
   "id": "2dbd81b3-e579-4f07-95f2-e939ea2ab24e",
   "metadata": {},
   "outputs": [],
   "source": [
    "# from rubin_scheduler.utils import ddf_locations\n",
    "# ddf_locations = ddf_locations()"
   ]
  },
  {
   "cell_type": "code",
   "execution_count": null,
   "id": "26674b50-4d5f-41c7-9c17-6f2a66c11da7",
   "metadata": {},
   "outputs": [],
   "source": [
    "# https://arxiv.org/abs/2306.06308\n",
    "desi_targets = (\n",
    "    (150.10, 2.182),\n",
    "    (179.60, 0.000), \n",
    "    (183.10, 0.000), \n",
    "    (189.90, 61.800), \n",
    "    (194.75, 28.200), \n",
    "    (210.00, 5.000), \n",
    "    (215.50, 52.500), \n",
    "    (217.80, 34.400), \n",
    "    (216.30, -0.600), \n",
    "    (219.80, -0.600), \n",
    "    (218.05, 2.430), \n",
    "    (242.75, 54.980), \n",
    "    (241.05, 43.450), \n",
    "    (245.88, 43.450), \n",
    "    (252.50, 34.500), \n",
    "    (269.73, 66.020), \n",
    "    (194.75, 24.700), \n",
    "    (212.80, -0.600),\n",
    "    (269.73, 62.520),\n",
    "    (236.10, 43.450),\n",
    ")\n",
    "ra_desi, dec_desi = zip(*desi_targets)"
   ]
  },
  {
   "cell_type": "code",
   "execution_count": null,
   "id": "cb188688-8972-4d32-92af-94c931dbfe58",
   "metadata": {},
   "outputs": [],
   "source": [
    "egal_targets = (\n",
    "    (200, 0), \n",
    "    (15, -30),\n",
    "    (0, 0),\n",
    "    (54, -35),\n",
    "    (345, -32),\n",
    "    (35, -5),\n",
    "    (35, -4),\n",
    "    (350, -55),\n",
    "    (61, -48),\n",
    "    (67, -43),\n",
    "    (10, -44),\n",
    "    (53, -28),\n",
    "    (150, 2),\n",
    "    (201.365, -43.019), # Cen A\n",
    "    (204.254, -29.865), # M83\n",
    "    (11.888, -25.288), # NGC 253\n",
    ")\n",
    "ra_egal, dec_egal = zip(*egal_targets)"
   ]
  },
  {
   "cell_type": "code",
   "execution_count": null,
   "id": "e7cdc7d5-4a0e-474c-9a80-a6b469193aa8",
   "metadata": {},
   "outputs": [],
   "source": [
    "# https://arxiv.org/abs/2310.19864\n",
    "deep_targets = (\n",
    "    (216, -12.5),\n",
    "    (253, -21.5),\n",
    "    (310, -19),\n",
    "    (353, -5),\n",
    ")\n",
    "ra_deep, dec_deep = zip(*deep_targets)"
   ]
  },
  {
   "cell_type": "code",
   "execution_count": null,
   "id": "831d36dc-2eb7-4ab7-9284-ac22e6e3694d",
   "metadata": {},
   "outputs": [],
   "source": [
    "# https://www.cosmos.esa.int/web/euclid/euclid-survey\n",
    "euclid_targets = (\n",
    "    (269.73, 66.02),\n",
    "    (52.93, -28.09),\n",
    "    (61.42, -48.42),\n",
    ")\n",
    "ra_euclid, dec_euclid = zip(*euclid_targets)"
   ]
  },
  {
   "cell_type": "code",
   "execution_count": null,
   "id": "b5a8bdd0-d82f-46d6-b7e9-bf9c73fbb4f4",
   "metadata": {},
   "outputs": [],
   "source": [
    "# 18:03:34.0 -30:02:02 1d01m28.358s -3d55m30.9507s DECam bulge field (Baade Window)\n",
    "smwlv_tvs_targets = (\n",
    "    (270.891667, -30.033889),\n",
    ")"
   ]
  },
  {
   "cell_type": "markdown",
   "id": "34657fd7-255a-4899-a6dc-02c3af9d8bae",
   "metadata": {},
   "source": [
    "## Selected Fields for Operations Rehearsal Simulation"
   ]
  },
  {
   "cell_type": "code",
   "execution_count": null,
   "id": "0ef5dea0-4b34-41e8-b500-b827d9fcc3a4",
   "metadata": {},
   "outputs": [],
   "source": [
    "import ops_rehearsal_fields\n",
    "\n",
    "name_fields, ra_fields, dec_fields = zip(*ops_rehearsal_fields.fields)\n",
    "for name, ra, dec in zip(name_fields, ra_fields, dec_fields):\n",
    "    print(name, ra, dec)"
   ]
  },
  {
   "cell_type": "code",
   "execution_count": null,
   "id": "898557f9-0604-4de7-b06c-56cd38b61f7c",
   "metadata": {},
   "outputs": [],
   "source": [
    "import copy\n",
    "m = copy.deepcopy(m_stellar_density['starDensity'][:,20])\n",
    "\n",
    "mask = (m_extinction['ebvMap'] > 0.1) | (m == 0)\n",
    "\n",
    "m[mask] = hp.UNSEEN\n",
    "\n",
    "#hp.mollview(np.log10(m))\n",
    "hp.mollview(m, min=500, max=10000, unit='Stellar Density', title=None, coord='C')\n",
    "hp.graticule()\n",
    "#hp.projscatter(ra_fields, dec_fields, lonlat=True, color='red')\n",
    "hp.projscatter(ra_fields, dec_fields, lonlat=True, color='white')\n",
    "hp.projscatter(ra_desi, dec_desi, lonlat=True, facecolor='none', color='orange')\n",
    "hp.projscatter(ra_egal, dec_egal, lonlat=True, facecolor='none', color='orange', marker='s')\n",
    "hp.projscatter(ra_deep, dec_deep, lonlat=True, facecolor='none', color='red', marker='o')\n",
    "hp.projscatter(ra_euclid, dec_euclid, lonlat=True, facecolor='none', color='red', marker='s')"
   ]
  },
  {
   "cell_type": "code",
   "execution_count": null,
   "id": "fabbd593-dafd-4431-9074-93025ffb2b62",
   "metadata": {},
   "outputs": [],
   "source": [
    "hp.mollview(m_extinction['ebvMap'], min=0, max=0.1, unit='E(B-V)', title=None, coord='C')\n",
    "hp.graticule()\n",
    "hp.projscatter(ra_fields, dec_fields, lonlat=True, color='white')"
   ]
  },
  {
   "cell_type": "markdown",
   "id": "96ff181b-ed59-4945-8da2-93fd9a9095d0",
   "metadata": {},
   "source": [
    "## Summary Stats for Selected Fields"
   ]
  },
  {
   "cell_type": "code",
   "execution_count": null,
   "id": "bc406064-5797-4da7-8b94-f16cb5e5ffb4",
   "metadata": {},
   "outputs": [],
   "source": [
    "print(\"%20s%12s%12s%12s%12s\"%(\n",
    "    \"Field\",\n",
    "    \"RA\",\n",
    "    \"dec\",\n",
    "    \"stel dens\",\n",
    "    \"E(B-V)\"\n",
    "))\n",
    "nside=64\n",
    "for name, ra, dec in zip(name_fields, ra_fields, dec_fields):\n",
    "    pix = hp.ang2pix(nside, ra, dec, lonlat=True)\n",
    "    stellar_density_ratio = m_stellar_density['starDensity'][:,20][pix] / median_stellar_density\n",
    "    ebv = m_extinction['ebvMap'][pix]\n",
    "    print(f\"{name:20s}{ra:12.2f}{dec:12.2f}{stellar_density_ratio:12.2f}{ebv:12.2f}\")"
   ]
  },
  {
   "cell_type": "code",
   "execution_count": null,
   "id": "8d01c7d6-23c9-4219-adc9-272040f3c5cf",
   "metadata": {},
   "outputs": [],
   "source": []
  }
 ],
 "metadata": {
  "kernelspec": {
   "display_name": "LSST",
   "language": "python",
   "name": "lsst"
  },
  "language_info": {
   "codemirror_mode": {
    "name": "ipython",
    "version": 3
   },
   "file_extension": ".py",
   "mimetype": "text/x-python",
   "name": "python",
   "nbconvert_exporter": "python",
   "pygments_lexer": "ipython3",
   "version": "3.11.7"
  }
 },
 "nbformat": 4,
 "nbformat_minor": 5
}
