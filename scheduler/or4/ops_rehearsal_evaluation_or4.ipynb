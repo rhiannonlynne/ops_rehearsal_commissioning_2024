{
 "cells": [
  {
   "cell_type": "markdown",
   "id": "d092d3f6-083b-41fa-b214-967b899aaf56",
   "metadata": {},
   "source": [
    "# Evaluating the Operations Rehearsal for Commissioning simulated observing sequence for Operations Rehearsal for Commissioning #4"
   ]
  },
  {
   "cell_type": "code",
   "execution_count": null,
   "id": "41f17be0-4d1e-4a75-84ce-60aead4b7a52",
   "metadata": {},
   "outputs": [],
   "source": [
    "import pandas as pd\n",
    "import numpy as np\n",
    "import healpy as hp\n",
    "from astropy.time import Time\n",
    "from astropy import units as u\n",
    "import sqlite3"
   ]
  },
  {
   "cell_type": "code",
   "execution_count": null,
   "id": "6b6a9711-6049-44fd-b7df-cb6104aacaba",
   "metadata": {},
   "outputs": [],
   "source": [
    "import lsst.daf.butler as dafButler\n",
    "from lsst.pipe.tasks.loadReferenceCatalog import LoadReferenceCatalogConfig, LoadReferenceCatalogTask\n",
    "from lsst.utils import getPackageDir\n",
    "import lsst.geom"
   ]
  },
  {
   "cell_type": "code",
   "execution_count": null,
   "id": "d970b926-2956-49e0-a07c-f658adf944d9",
   "metadata": {},
   "outputs": [],
   "source": [
    "import matplotlib.pyplot as plt\n",
    "%matplotlib widget"
   ]
  },
  {
   "cell_type": "code",
   "execution_count": null,
   "id": "fb1ab158-c648-4b76-91cf-394f887529b1",
   "metadata": {},
   "outputs": [],
   "source": [
    "db = 'ops_rehearsal_jun_2024_v4.db'"
   ]
  },
  {
   "cell_type": "code",
   "execution_count": null,
   "id": "1687644e-6f30-42e0-b248-993345264b7b",
   "metadata": {},
   "outputs": [],
   "source": [
    "conn = sqlite3.connect(db)"
   ]
  },
  {
   "cell_type": "code",
   "execution_count": null,
   "id": "46243019-ba43-4c21-9396-0233116c43bb",
   "metadata": {},
   "outputs": [],
   "source": [
    "observations = pd.read_sql('select * from observations;', conn)"
   ]
  },
  {
   "cell_type": "code",
   "execution_count": null,
   "id": "5c493443-0966-4bad-aa92-19b81f6116e7",
   "metadata": {},
   "outputs": [],
   "source": [
    "observations"
   ]
  },
  {
   "cell_type": "code",
   "execution_count": null,
   "id": "2733985b-fdf1-4ba8-9ef6-9ce9817729e2",
   "metadata": {},
   "outputs": [],
   "source": [
    "observations.columns"
   ]
  },
  {
   "cell_type": "code",
   "execution_count": null,
   "id": "da2cd6bf-33e9-44e5-979e-5ee9e980e227",
   "metadata": {},
   "outputs": [],
   "source": [
    "np.unique(observations['target'])"
   ]
  },
  {
   "cell_type": "code",
   "execution_count": null,
   "id": "90d589c9-05e0-4175-a121-57218c049bbd",
   "metadata": {},
   "outputs": [],
   "source": [
    "np.min(observations['moonDistance'])"
   ]
  },
  {
   "cell_type": "code",
   "execution_count": null,
   "id": "aefca420-956c-4a7d-9a7f-afba08d5e0fc",
   "metadata": {},
   "outputs": [],
   "source": [
    "min_moon_dist = 20. # deg\n",
    "max_airmass = 2.1\n",
    "nside = 32\n",
    "\n",
    "assert np.all(observations['airmass'] < max_airmass)\n",
    "moon_dist_margin = 0.5 * (hp.nside2resol(nside)*u.rad).to(u.deg).value\n",
    "assert np.all(observations['moonDistance'] > (min_moon_dist - moon_dist_margin))\n",
    "assert np.all(observations['numExposures'] == 1)\n",
    "assert np.all(observations['target'] == observations['note'])"
   ]
  },
  {
   "cell_type": "code",
   "execution_count": null,
   "id": "0e8f16ba-a2ef-487c-a366-e048b713f831",
   "metadata": {},
   "outputs": [],
   "source": [
    "# Note that can only set this date after downloading the full set sky brightness data\n",
    "#mjd_start = Time('2024-04-01 00:00:00.000', format='iso').mjd\n",
    "time_start = Time(np.min(observations['observationStartMJD']), format='mjd')\n",
    "time_stop = Time(np.max(observations['observationStartMJD']), format='mjd')\n",
    "print(time_start.iso)\n",
    "print(time_stop.iso)"
   ]
  },
  {
   "cell_type": "code",
   "execution_count": null,
   "id": "ec2f752e-3d04-4720-b7a5-1eb545b45032",
   "metadata": {},
   "outputs": [],
   "source": [
    "# Identify first night of the rehearsal\n",
    "time_first = Time('2024-06-26 00:00:00.000', format='iso')\n",
    "index_first = np.argmin(np.absolute(time_first.mjd - observations['observationStartMJD']))\n",
    "#print(time_first.mjd)\n",
    "#print(observations['mjd'][index_first])\n",
    "night_first = observations['night'][index_first]\n",
    "print(night_first)\n",
    "selection = (observations['night'] == night_first)\n",
    "print(\n",
    "    Time(np.min(observations['observationStartMJD'][selection]), format='mjd').iso\n",
    ")\n",
    "print(\n",
    "    Time(np.max(observations['observationStartMJD'][selection]), format='mjd').iso\n",
    ")\n",
    "plt.figure()\n",
    "plt.plot(observations['observationStartMJD'][selection], observations['sunAlt'][selection])\n",
    "plt.axvline(time_first.mjd, c='black', ls='--')\n",
    "\n",
    "time_rehearsal_start = Time(np.min(observations['observationStartMJD'][selection]), format='mjd')"
   ]
  },
  {
   "cell_type": "markdown",
   "id": "cf971e2f-ed16-4d16-8024-36e79377455a",
   "metadata": {},
   "source": [
    "## Visualize Single Field"
   ]
  },
  {
   "cell_type": "code",
   "execution_count": null,
   "id": "2de656bb-542b-4da1-979d-6131bac4c7d0",
   "metadata": {},
   "outputs": [],
   "source": [
    "for survey_name in np.unique(observations['target']):\n",
    "    print(survey_name, np.sum(observations['target'] == survey_name))"
   ]
  },
  {
   "cell_type": "code",
   "execution_count": null,
   "id": "f39b1151-e318-472a-b658-afdb9af3ab26",
   "metadata": {},
   "outputs": [],
   "source": [
    "#survey_name = 'Rubin_SV_225_-40'\n",
    "survey_name = 'Rubin_SV_280_-48'\n",
    "filter = 'r'"
   ]
  },
  {
   "cell_type": "code",
   "execution_count": null,
   "id": "6380c23d-184c-449d-9660-e13bb49b8ef6",
   "metadata": {},
   "outputs": [],
   "source": [
    "selection = (observations['target'] == survey_name) & (observations['filter'] == filter)\n",
    "ra_boresight_array = observations['fieldRA'][selection]\n",
    "dec_boresight_array = observations['fieldDec'][selection]\n",
    "rotation_array = observations['rotSkyPos'][selection]"
   ]
  },
  {
   "cell_type": "code",
   "execution_count": null,
   "id": "fe265c25-16ea-463e-ac90-595013070eba",
   "metadata": {},
   "outputs": [],
   "source": [
    "plt.figure()\n",
    "plt.scatter(ra_boresight_array, dec_boresight_array, c=rotation_array)\n",
    "plt.colorbar(label='Rotation (deg)')\n",
    "plt.xlim(plt.xlim()[::-1])\n",
    "plt.xlabel('RA (deg)')\n",
    "plt.ylabel('Dec (deg)')\n",
    "plt.suptitle('Telescope Boresight Pointings and Camera Rotation Angles')"
   ]
  },
  {
   "cell_type": "code",
   "execution_count": null,
   "id": "60047c5f-98a5-49dd-90a4-9c01495eccd0",
   "metadata": {},
   "outputs": [],
   "source": [
    "plt.figure()\n",
    "plt.hist(rotation_array, bins=41)"
   ]
  },
  {
   "cell_type": "markdown",
   "id": "db186190-1b23-4acd-9b75-5d44989b3fef",
   "metadata": {},
   "source": [
    "## Visualize Single Field during Rehearsal Time Window"
   ]
  },
  {
   "cell_type": "code",
   "execution_count": null,
   "id": "7a865f48-cbd7-4bc5-b129-8c897bc75771",
   "metadata": {},
   "outputs": [],
   "source": [
    "#survey_name = 'Rubin_SV_225_-40'\n",
    "survey_name = 'Rubin_SV_280_-48'\n",
    "filter = 'r'\n",
    "nights_rehearsal = [night_first, night_first + 1, night_first + 2]\n",
    "\n",
    "#selection = (observations['note'] == survey_name) & (observations['filter'] == filter) & (observations['night'] == night_first)\n",
    "selection = (observations['target'] == survey_name) & (observations['filter'] == filter) & np.in1d(observations['night'], nights_rehearsal)\n",
    "ra_boresight_array = observations['fieldRA'][selection]\n",
    "dec_boresight_array = observations['fieldDec'][selection]\n",
    "rotation_array = observations['rotSkyPos'][selection]\n",
    "\n",
    "print(np.sum(selection))"
   ]
  },
  {
   "cell_type": "code",
   "execution_count": null,
   "id": "2d771386-9f7a-46cd-bfb0-e6f7715ad9e5",
   "metadata": {},
   "outputs": [],
   "source": [
    "plt.figure()\n",
    "plt.scatter(ra_boresight_array, dec_boresight_array, c=rotation_array)\n",
    "plt.colorbar(label='Rotation (deg)')\n",
    "plt.xlim(plt.xlim()[::-1])\n",
    "plt.xlabel('RA (deg)')\n",
    "plt.ylabel('Dec (deg)')\n",
    "plt.suptitle('Telescope Boresight Pointings and Camera Rotation Angles')"
   ]
  },
  {
   "cell_type": "code",
   "execution_count": null,
   "id": "1f2d8471-0ea9-4315-b095-74d94ce4500c",
   "metadata": {},
   "outputs": [],
   "source": [
    "print(\"%20s%20s\"%(\"Field\", \"Num Visits\"))\n",
    "selection = np.in1d(observations['night'], nights_rehearsal)\n",
    "for survey_name in np.unique(observations['target'][selection]):\n",
    "    print(\"%20s%20i\"%(survey_name, np.sum(observations['target'][selection] == survey_name)))"
   ]
  },
  {
   "cell_type": "code",
   "execution_count": null,
   "id": "e0b47def-7f27-4178-8ec6-53756d3e1d30",
   "metadata": {},
   "outputs": [],
   "source": [
    "print(Time(np.min(observations['observationStartMJD'][selection]), format='mjd').iso)\n",
    "print(Time(np.max(observations['observationStartMJD'][selection]), format='mjd').iso)"
   ]
  },
  {
   "cell_type": "markdown",
   "id": "0b7e7171-1fbd-4c18-bff9-c0c776aa870b",
   "metadata": {
    "execution": {
     "iopub.execute_input": "2024-03-01T22:23:58.345387Z",
     "iopub.status.busy": "2024-03-01T22:23:58.345001Z",
     "iopub.status.idle": "2024-03-01T22:23:58.347638Z",
     "shell.execute_reply": "2024-03-01T22:23:58.347224Z",
     "shell.execute_reply.started": "2024-03-01T22:23:58.345367Z"
    }
   },
   "source": [
    "## Define Suggested Blocks"
   ]
  },
  {
   "cell_type": "code",
   "execution_count": null,
   "id": "c9834801-531a-4e8a-b0db-4cc2bfdacb7d",
   "metadata": {},
   "outputs": [],
   "source": [
    "np.unique(observations['night'])"
   ]
  },
  {
   "cell_type": "code",
   "execution_count": null,
   "id": "0ac4ff5d-3b46-439a-8313-4d25d7240bef",
   "metadata": {},
   "outputs": [],
   "source": [
    "observations['target']"
   ]
  },
  {
   "cell_type": "code",
   "execution_count": null,
   "id": "687c6bfe-c101-4992-b697-6b6bb10ab897",
   "metadata": {},
   "outputs": [],
   "source": [
    "plt.figure()\n",
    "plt.plot(np.unique(observations['target'], return_inverse=True)[1])"
   ]
  },
  {
   "cell_type": "code",
   "execution_count": null,
   "id": "1e3eb848-adda-4f94-8700-793986c10d2b",
   "metadata": {},
   "outputs": [],
   "source": [
    "plt.figure()\n",
    "plt.plot(np.diff(np.unique(observations['target'], return_inverse=True)[1]))"
   ]
  },
  {
   "cell_type": "code",
   "execution_count": null,
   "id": "587316f5-b2df-4df2-86cb-d592df829e3a",
   "metadata": {},
   "outputs": [],
   "source": [
    "diff = (np.diff(np.unique(observations['target'], return_inverse=True)[1]) != 0).astype(int)\n",
    "diff = np.insert(diff, 0, 0)\n",
    "block_index = np.cumsum(diff)"
   ]
  },
  {
   "cell_type": "code",
   "execution_count": null,
   "id": "afa8669f-e75e-480f-82a4-784a8a80d477",
   "metadata": {},
   "outputs": [],
   "source": [
    "assert len(observations) == len(block_index)"
   ]
  },
  {
   "cell_type": "code",
   "execution_count": null,
   "id": "006a4030-f9b3-4221-86c5-f06691edbf4d",
   "metadata": {},
   "outputs": [],
   "source": [
    "np.unique(block_index, return_counts=True)"
   ]
  },
  {
   "cell_type": "code",
   "execution_count": null,
   "id": "09c46bc1-8a6d-4bf9-b02c-cd22376d219d",
   "metadata": {},
   "outputs": [],
   "source": [
    "for ii in range(0, 200):\n",
    "    print(observations['night'][ii], observations['target'][ii], block_index[ii])"
   ]
  },
  {
   "cell_type": "code",
   "execution_count": null,
   "id": "76028c0b-ead3-4018-84ff-fae0c6ccb257",
   "metadata": {},
   "outputs": [],
   "source": [
    "n = len(observations['night'])\n",
    "for ii in range(n - 200, n):\n",
    "    print(observations['night'][ii], observations['target'][ii], block_index[ii])"
   ]
  },
  {
   "cell_type": "code",
   "execution_count": null,
   "id": "b773fd32-4a50-4556-89cd-0cd7aeb43ddc",
   "metadata": {},
   "outputs": [],
   "source": [
    "# Give blocks numbers that correspond to night and sequence number within night"
   ]
  },
  {
   "cell_type": "code",
   "execution_count": null,
   "id": "4a02d66a-fe95-41a4-ab3c-9f85ad296171",
   "metadata": {},
   "outputs": [],
   "source": [
    "import copy\n",
    "block_index_2 = copy.deepcopy(block_index)"
   ]
  },
  {
   "cell_type": "code",
   "execution_count": null,
   "id": "e4cfe29a-b17b-4317-81c0-d015a987ae82",
   "metadata": {},
   "outputs": [],
   "source": [
    "for night in np.unique(observations['night']):\n",
    "    selection = (observations['night'] == night)\n",
    "    block_index_2[selection] -= np.min(block_index_2[selection])\n",
    "    block_index_2[selection] += 1000 *  night"
   ]
  },
  {
   "cell_type": "code",
   "execution_count": null,
   "id": "8049faea-a32d-48cb-b093-991c198191a5",
   "metadata": {},
   "outputs": [],
   "source": [
    "for ii in range(0, 200):\n",
    "    print(observations['night'][ii], observations['target'][ii], block_index_2[ii])"
   ]
  },
  {
   "cell_type": "code",
   "execution_count": null,
   "id": "6f0088ca-8043-481a-9876-8fc29eadcf30",
   "metadata": {},
   "outputs": [],
   "source": [
    "n = len(observations['night'])\n",
    "for ii in range(n - 200, n):\n",
    "    print(observations['night'][ii], observations['target'][ii], block_index_2[ii])"
   ]
  },
  {
   "cell_type": "markdown",
   "id": "9ccd68ab-8e06-47e8-b5c5-732e401e9bf7",
   "metadata": {},
   "source": [
    "Output database file with appended columns for the block index"
   ]
  },
  {
   "cell_type": "code",
   "execution_count": null,
   "id": "fc7f0848-08a9-4f47-93bc-e38bb5d153eb",
   "metadata": {},
   "outputs": [],
   "source": [
    "observations_appended = copy.deepcopy(observations)"
   ]
  },
  {
   "cell_type": "code",
   "execution_count": null,
   "id": "420682ad-17eb-4efd-9166-825fb56b05ae",
   "metadata": {},
   "outputs": [],
   "source": [
    "observations_appended['playbackBlock'] = block_index"
   ]
  },
  {
   "cell_type": "code",
   "execution_count": null,
   "id": "2d5eb56c-d2d4-4a97-a0ef-40ce6006afdf",
   "metadata": {},
   "outputs": [],
   "source": [
    "observations_appended"
   ]
  },
  {
   "cell_type": "code",
   "execution_count": null,
   "id": "30f1de20-2113-46d0-946b-0951845c7798",
   "metadata": {},
   "outputs": [],
   "source": [
    "db_appended = db.replace('.db', '_playback_block.db')\n",
    "print(db_appended)"
   ]
  },
  {
   "cell_type": "code",
   "execution_count": null,
   "id": "ed979796-ab98-4fc6-96b9-bb1f0faf61da",
   "metadata": {},
   "outputs": [],
   "source": [
    "# open up a connection to a new database\n",
    "conn = sqlite3.connect(db_appended)\n",
    "observations_appended.to_sql('observations', conn, index=False, if_exists='replace')"
   ]
  },
  {
   "cell_type": "code",
   "execution_count": null,
   "id": "d30a55b8-646f-4fdd-a1b7-2855a60ce509",
   "metadata": {},
   "outputs": [],
   "source": [
    "# Confirm \n",
    "conn_new = sqlite3.connect(db_appended)\n",
    "observations_new = pd.read_sql('select * from observations;', conn_new)"
   ]
  },
  {
   "cell_type": "code",
   "execution_count": null,
   "id": "563f03d9-7c15-47d9-a3cf-7d9b4c89424d",
   "metadata": {},
   "outputs": [],
   "source": [
    "observations_new"
   ]
  },
  {
   "cell_type": "code",
   "execution_count": null,
   "id": "5338dd15-26b6-4ab2-8804-b2938d3bba83",
   "metadata": {},
   "outputs": [],
   "source": [
    "for ii in range(0, 200):\n",
    "    print(observations_new['night'][ii], observations_new['target'][ii], observations_new['playbackBlock'][ii])"
   ]
  },
  {
   "cell_type": "code",
   "execution_count": null,
   "id": "513378e4-cb61-4c84-bb8d-08279b6a6a93",
   "metadata": {},
   "outputs": [],
   "source": [
    "selection = np.in1d(observations['night'], nights_rehearsal)"
   ]
  },
  {
   "cell_type": "code",
   "execution_count": null,
   "id": "aa78bdf1-c2df-4907-9a5f-11b93e57c6cf",
   "metadata": {},
   "outputs": [],
   "source": [
    "print(Time(np.min(observations_new['observationStartMJD'][selection]), format='mjd').iso)\n",
    "print(Time(np.max(observations_new['observationStartMJD'][selection]), format='mjd').iso)"
   ]
  },
  {
   "cell_type": "code",
   "execution_count": null,
   "id": "b3163184-83bb-40c7-a237-650c7b93296b",
   "metadata": {},
   "outputs": [],
   "source": [
    "print(np.min(observations_new['playbackBlock'][selection]))\n",
    "print(np.max(observations_new['playbackBlock'][selection]))"
   ]
  },
  {
   "cell_type": "markdown",
   "id": "079c552b-b5a7-415e-ae60-b287cc7a9c01",
   "metadata": {},
   "source": [
    "## Visualize Survey"
   ]
  },
  {
   "cell_type": "code",
   "execution_count": null,
   "id": "b26323fd-0aac-436c-b74c-92b04d16e181",
   "metadata": {},
   "outputs": [],
   "source": [
    "print(np.sum(observations['airmass'] > 2.0))\n",
    "print(np.max(observations['airmass']))"
   ]
  },
  {
   "cell_type": "code",
   "execution_count": null,
   "id": "cd83c984-8ce4-4b65-a475-6186a9b18410",
   "metadata": {},
   "outputs": [],
   "source": [
    "print(np.min(observations['moonDistance']))"
   ]
  },
  {
   "cell_type": "code",
   "execution_count": null,
   "id": "af5c9581-feca-474c-8657-f3800b9ac545",
   "metadata": {},
   "outputs": [],
   "source": [
    "np.unique(observations['target'])"
   ]
  },
  {
   "cell_type": "code",
   "execution_count": null,
   "id": "560315db-a36b-43f7-8137-3be1af77f9bb",
   "metadata": {},
   "outputs": [],
   "source": [
    "np.unique(observations['filter'])"
   ]
  },
  {
   "cell_type": "code",
   "execution_count": null,
   "id": "7570a0c7-1da9-48d4-824b-eb6de894d018",
   "metadata": {},
   "outputs": [],
   "source": [
    "f2c = {'u': 'purple', 'g': 'blue', 'r': 'green',\n",
    "       'i': 'cyan', 'z': 'orange', 'y': 'red'}\n",
    "\n",
    "plt.figure(dpi=200)\n",
    "for filtername in f2c:\n",
    "    in_filt = np.where(observations['filter'] == filtername)[0]\n",
    "    if in_filt.size > 0:\n",
    "        plt.plot(observations['observationStartMJD'][in_filt], observations['altitude'][in_filt], \n",
    "                 'o', markersize=1, color=f2c[filtername], label=filtername)\n",
    "plt.legend()\n",
    "plt.xlabel('MJD')\n",
    "plt.ylabel('Altitude (degrees)')"
   ]
  },
  {
   "cell_type": "code",
   "execution_count": null,
   "id": "f8016213-2408-495a-9d87-c22c819a31fc",
   "metadata": {},
   "outputs": [],
   "source": [
    "f2c = {'u': 'purple', 'g': 'blue', 'r': 'green',\n",
    "       'i': 'cyan', 'z': 'orange', 'y': 'red'}\n",
    "\n",
    "plt.figure(dpi=200)\n",
    "for filtername in f2c:\n",
    "    in_filt = np.where(observations['filter'] == filtername)[0]\n",
    "    if in_filt.size > 0:\n",
    "        plt.plot(observations['observationStartMJD'][in_filt], observations['airmass'][in_filt], \n",
    "                 'o', markersize=1, color=f2c[filtername], label=filtername)\n",
    "plt.legend()\n",
    "plt.xlabel('MJD')\n",
    "plt.ylabel('Airmass')"
   ]
  },
  {
   "cell_type": "code",
   "execution_count": null,
   "id": "33845eae-b7e1-4cc9-b2a5-e42c6a6cb755",
   "metadata": {},
   "outputs": [],
   "source": [
    "f2c = {'u': 'purple', 'g': 'blue', 'r': 'green',\n",
    "       'i': 'cyan', 'z': 'orange', 'y': 'red'}\n",
    "\n",
    "plt.figure(dpi=200)\n",
    "for filtername in f2c:\n",
    "    in_filt = np.where(observations['filter'] == filtername)[0]\n",
    "    if in_filt.size > 0:\n",
    "        plt.plot(observations['observationStartMJD'][in_filt], observations['airmass'][in_filt], \n",
    "                 'o', markersize=1, color=f2c[filtername], label=filtername)\n",
    "plt.legend()\n",
    "plt.xlabel('MJD')\n",
    "plt.ylabel('Airmass')\n",
    "plt.xlim(time_rehearsal_start.mjd, time_rehearsal_start.mjd + 3.)"
   ]
  },
  {
   "cell_type": "code",
   "execution_count": null,
   "id": "fc09baa2-2164-4c02-a31c-7003371f40ff",
   "metadata": {},
   "outputs": [],
   "source": [
    "plt.figure(dpi=200)\n",
    "for filtername in f2c:\n",
    "    in_filt = np.where(observations['filter'] == filtername)[0]\n",
    "    if in_filt.size > 0:\n",
    "        plt.plot(observations['observationStartMJD'][in_filt], observations['slewTime'][in_filt], \n",
    "                 'o', markersize=1, color=f2c[filtername], label=filtername)\n",
    "plt.xlim(observations['observationStartMJD'][0], observations['observationStartMJD'][500])"
   ]
  },
  {
   "cell_type": "code",
   "execution_count": null,
   "id": "105740f3-7c55-47b5-992a-e42904443962",
   "metadata": {},
   "outputs": [],
   "source": [
    "plt.figure(dpi=200)\n",
    "plt.scatter(observations['observationStartMJD'], observations['rotSkyPos'], c=observations['fieldRA'], s=1)\n",
    "plt.colorbar(label='RA (deg)')\n",
    "\n",
    "plt.xlabel('MJD')\n",
    "plt.ylabel('rotSkyPos')"
   ]
  },
  {
   "cell_type": "code",
   "execution_count": null,
   "id": "80573837-4a4b-42f7-b20c-16503ede738a",
   "metadata": {},
   "outputs": [],
   "source": [
    "f2c = {'u': 'purple', 'g': 'blue', 'r': 'green',\n",
    "       'i': 'cyan', 'z': 'orange', 'y': 'red'}"
   ]
  },
  {
   "cell_type": "code",
   "execution_count": null,
   "id": "f15e586b-6550-48e4-938a-e1552d4a0a51",
   "metadata": {},
   "outputs": [],
   "source": [
    "plt.figure(dpi=200)\n",
    "#plt.scatter(observations['observationStartMJD'], observations['rotTelPos'], c=observations['RA'], s=1)\n",
    "#plt.colorbar(label='RA (deg)')\n",
    "\n",
    "for filtername in f2c:\n",
    "    in_filt = np.where(observations['filter'] == filtername)[0]\n",
    "    if in_filt.size > 0:\n",
    "        plt.plot(observations['observationStartMJD'][in_filt], observations['rotTelPos'][in_filt], \n",
    "                 'o', markersize=1, color=f2c[filtername], label=filtername)\n",
    "plt.legend()\n",
    "\n",
    "plt.xlabel('MJD')\n",
    "plt.ylabel('rotTelPos')\n",
    "plt.xlim(observations['observationStartMJD'][0], observations['observationStartMJD'][500])"
   ]
  },
  {
   "cell_type": "code",
   "execution_count": null,
   "id": "3f57afa3-5ab3-4171-ad5b-d5b7301e569d",
   "metadata": {},
   "outputs": [],
   "source": [
    "plt.figure(dpi=200)\n",
    "#plt.scatter(observations['observationStartMJD'], observations['rotTelPos'], c=observations['RA'], s=1)\n",
    "#plt.colorbar(label='RA (deg)')\n",
    "\n",
    "for filtername in f2c:\n",
    "    in_filt = np.where(observations['filter'] == filtername)[0]\n",
    "    if in_filt.size > 0:\n",
    "        plt.plot(observations['observationStartMJD'][in_filt], observations['rotSkyPos'][in_filt], \n",
    "                 'o', markersize=1, color=f2c[filtername], label=filtername)\n",
    "plt.legend()\n",
    "\n",
    "plt.xlabel('MJD')\n",
    "plt.ylabel('rotSkyPos')\n",
    "plt.xlim(observations['observationStartMJD'][0], observations['observationStartMJD'][500])"
   ]
  },
  {
   "cell_type": "code",
   "execution_count": null,
   "id": "1dafe6ff-4e22-4d93-9e99-41cfb5eaba64",
   "metadata": {},
   "outputs": [],
   "source": [
    "plt.figure(dpi=200)\n",
    "for filtername in f2c:\n",
    "    in_filt = np.where(observations['filter'] == filtername)[0]\n",
    "    if in_filt.size > 0:\n",
    "        plt.plot(observations['fieldRA'][in_filt], observations['airmass'][in_filt], \n",
    "                 'o', markersize=1, color=f2c[filtername], label=filtername)\n",
    "\n",
    "plt.legend()\n",
    "plt.xlabel('RA (deg)')\n",
    "plt.ylabel('Airmass')"
   ]
  },
  {
   "cell_type": "code",
   "execution_count": null,
   "id": "281bfdcf-2723-4412-8dc5-8420538994cc",
   "metadata": {},
   "outputs": [],
   "source": [
    "plt.figure(dpi=200)\n",
    "for filtername in f2c:\n",
    "    in_filt = np.where(observations['filter'] == filtername)[0]\n",
    "    if in_filt.size > 0:\n",
    "        plt.plot(observations['observationStartMJD'][in_filt], observations['fieldRA'][in_filt], \n",
    "                 'o', markersize=1, color=f2c[filtername], label=filtername)\n",
    "\n",
    "plt.legend()\n",
    "plt.xlabel('MJD')\n",
    "plt.ylabel('RA (deg)')"
   ]
  },
  {
   "cell_type": "code",
   "execution_count": null,
   "id": "03a2c55f-8b27-4323-9117-59d59f4022dd",
   "metadata": {},
   "outputs": [],
   "source": [
    "plt.figure(dpi=200)\n",
    "for filtername in f2c:\n",
    "    in_filt = np.where(observations['filter'] == filtername)[0]\n",
    "    if in_filt.size > 0:\n",
    "        plt.plot(observations['observationStartMJD'][in_filt], observations['fieldRA'][in_filt], \n",
    "                 'o', markersize=1, color=f2c[filtername], label=filtername)\n",
    "\n",
    "plt.legend()\n",
    "plt.xlabel('MJD')\n",
    "plt.ylabel('RA (deg)')\n",
    "plt.xlim(time_rehearsal_start.mjd, time_rehearsal_start.mjd + 3.)"
   ]
  },
  {
   "cell_type": "code",
   "execution_count": null,
   "id": "9472d68f-b022-4a96-adf8-8b39ab12a4c8",
   "metadata": {},
   "outputs": [],
   "source": [
    "plt.figure(dpi=200)\n",
    "plt.plot(observations['observationStartMJD'], observations['fieldRA'], \n",
    "         'o', markersize=1, color='black')\n",
    "plt.xlabel('MJD')\n",
    "plt.ylabel('RA (deg)')"
   ]
  },
  {
   "cell_type": "code",
   "execution_count": null,
   "id": "7b086de2-583b-4f4d-9c55-c5b3786afb85",
   "metadata": {},
   "outputs": [],
   "source": [
    "plt.figure(dpi=200)\n",
    "plt.scatter(observations['observationStartMJD'], observations['fieldRA'], c=observations['airmass'], s=1)\n",
    "plt.xlabel('MJD')\n",
    "plt.ylabel('RA (deg)')\n",
    "plt.colorbar(label='Airmass')"
   ]
  },
  {
   "cell_type": "code",
   "execution_count": null,
   "id": "44597818-9288-46c3-8a36-bca3ea26408d",
   "metadata": {},
   "outputs": [],
   "source": [
    "plt.figure(dpi=200)\n",
    "#for filtername in f2c:\n",
    "#    in_filt = np.where(observations['filter'] == filtername)[0]\n",
    "#    if in_filt.size > 0:\n",
    "#        plt.plot(observations['observationStartMJD'][in_filt], observations['moonDistance'][in_filt], \n",
    "#                 'o', markersize=1, color=f2c[filtername], label=filtername)\n",
    "\n",
    "plt.scatter(observations['observationStartMJD'], observations['moonDistance'], c=observations['moonPhase'], s=1)\n",
    "plt.colorbar(label='moonPhase')\n",
    "\n",
    "#plt.legend()\n",
    "plt.xlabel('MJD')\n",
    "plt.ylabel('moonDistance (deg)')"
   ]
  },
  {
   "cell_type": "code",
   "execution_count": null,
   "id": "6123bd97-3089-4e8c-aef0-0ac895511067",
   "metadata": {},
   "outputs": [],
   "source": [
    "plt.figure(dpi=200)\n",
    "for filtername in f2c:\n",
    "    in_filt = np.where(observations['filter'] == filtername)[0]\n",
    "    if in_filt.size > 0:\n",
    "        plt.plot(observations['fieldRA'][in_filt], observations['rotSkyPos'][in_filt], \n",
    "                 'o', markersize=1, color=f2c[filtername], label=filtername)\n",
    "\n",
    "plt.legend()\n",
    "plt.xlabel('RA (deg)')\n",
    "plt.ylabel('rotSkyPos')"
   ]
  },
  {
   "cell_type": "code",
   "execution_count": null,
   "id": "652f0893-d646-456d-890a-859c2ff862ae",
   "metadata": {},
   "outputs": [],
   "source": [
    "gap = (np.diff(observations['observationStartMJD']) * 24. * 3600.)\n",
    "\n",
    "plt.figure()\n",
    "plt.yscale('log')\n",
    "bins = np.linspace(0., 300., 101)\n",
    "plt.hist(gap, bins=bins)\n",
    "plt.ylabel('Counts')\n",
    "plt.xlabel('Time Gap (s)')\n",
    "\n",
    "selection = gap > 300.\n",
    "for index in np.nonzero(selection)[0]:\n",
    "    print(gap[index], observations['observationStartMJD'][index + 1])"
   ]
  },
  {
   "cell_type": "code",
   "execution_count": null,
   "id": "e3689719-8377-460f-923c-de673263d040",
   "metadata": {},
   "outputs": [],
   "source": [
    "plt.figure(dpi=200)\n",
    "for filtername in f2c:\n",
    "    in_filt = np.where(observations['filter'] == filtername)[0]\n",
    "    if in_filt.size > 0:\n",
    "        plt.plot(observations['observationStartMJD'][in_filt], observations['seeingFwhm500'][in_filt], \n",
    "                 'o', markersize=1, color=f2c[filtername], label=filtername)\n",
    "\n",
    "plt.legend()\n",
    "plt.xlabel('observationStartMJD')\n",
    "plt.ylabel('seeingFwhm500')"
   ]
  },
  {
   "cell_type": "code",
   "execution_count": null,
   "id": "6ad3ffe4-9669-4610-b8fa-ba660d480f43",
   "metadata": {},
   "outputs": [],
   "source": [
    "plt.figure(dpi=200)\n",
    "for filtername in f2c:\n",
    "    in_filt = np.where(observations['filter'] == filtername)[0]\n",
    "    if in_filt.size > 0:\n",
    "        plt.plot(observations['airmass'][in_filt], observations['seeingFwhmEff'][in_filt], \n",
    "                 'o', markersize=1, color=f2c[filtername], label=filtername)\n",
    "\n",
    "plt.legend()\n",
    "plt.xlabel('airmass')\n",
    "plt.ylabel('seeingFwhmEff')"
   ]
  },
  {
   "cell_type": "code",
   "execution_count": null,
   "id": "72596eec-0472-4e2e-9392-bf889b9c25b2",
   "metadata": {},
   "outputs": [],
   "source": [
    "bins = np.linspace(0.4, 2., 41)\n",
    "\n",
    "plt.figure(dpi=200)\n",
    "for filtername in f2c:\n",
    "    in_filt = np.where(observations['filter'] == filtername)[0]\n",
    "    if in_filt.size > 0:\n",
    "        plt.hist(observations['seeingFwhmEff'][in_filt], bins=bins, color=f2c[filtername], histtype='step', label=filtername)\n",
    "\n",
    "plt.legend()\n",
    "plt.xlabel('airmass')\n",
    "plt.ylabel('seeingFwhmEff')"
   ]
  },
  {
   "cell_type": "markdown",
   "id": "1d98e929-b2a0-42d8-876f-0debe83ab337",
   "metadata": {},
   "source": [
    "# Reference Catalog"
   ]
  },
  {
   "cell_type": "code",
   "execution_count": null,
   "id": "4980ffaa-226c-4152-9aca-94143f3bfce7",
   "metadata": {},
   "outputs": [],
   "source": [
    "# https://developer.lsst.io/usdf/storage.html#butler-access\n",
    "repo = '/sdf/group/rubin/repo/main_20210215/'"
   ]
  },
  {
   "cell_type": "code",
   "execution_count": null,
   "id": "44462a6e-9923-446b-9add-7aa45b3ad847",
   "metadata": {},
   "outputs": [],
   "source": [
    "config = os.path.join(repo, 'butler.yaml')\n",
    "butler = dafButler.Butler(config=config)\n",
    "registry = butler.registry"
   ]
  },
  {
   "cell_type": "code",
   "execution_count": null,
   "id": "4b805a0d-ad79-45c9-a161-217fd006c209",
   "metadata": {},
   "outputs": [],
   "source": [
    "collection = 'refcats'\n",
    "registry.getCollectionSummary(collection).dataset_types.names"
   ]
  },
  {
   "cell_type": "code",
   "execution_count": null,
   "id": "8ee7be80-a6f4-4014-a58d-f8284d9132d5",
   "metadata": {},
   "outputs": [],
   "source": [
    "#refDataset = 'gaia_dr3'\n",
    "refDataset = 'gaia_dr3_20230707'"
   ]
  },
  {
   "cell_type": "code",
   "execution_count": null,
   "id": "026cc276-a1a3-42da-85f1-b9f2401df53d",
   "metadata": {},
   "outputs": [],
   "source": [
    "ra_center = np.median(ra_boresight_array)\n",
    "dec_center = np.median(dec_boresight_array)\n",
    "print(ra_center, dec_center)"
   ]
  },
  {
   "cell_type": "code",
   "execution_count": null,
   "id": "d226f10f-f336-4802-8168-80951c3c3b9b",
   "metadata": {},
   "outputs": [],
   "source": [
    "# ra_center, dec_center = 180., -1."
   ]
  },
  {
   "cell_type": "code",
   "execution_count": null,
   "id": "fd5053fc-bd03-4dd3-b2e2-f6b912ac1f94",
   "metadata": {},
   "outputs": [],
   "source": [
    "import lsst.sphgeom"
   ]
  },
  {
   "cell_type": "code",
   "execution_count": null,
   "id": "7fd60821-752f-429b-b2cb-9cb9803054ea",
   "metadata": {},
   "outputs": [],
   "source": [
    "level = 7  # the resolution of the HTM grid\n",
    "pixelization = lsst.sphgeom.HtmPixelization(level)"
   ]
  },
  {
   "cell_type": "code",
   "execution_count": null,
   "id": "ff7c8dc8-5edd-405c-a31c-8a4e2601982a",
   "metadata": {},
   "outputs": [],
   "source": [
    "circle = lsst.sphgeom.Circle(\n",
    "    lsst.sphgeom.UnitVector3d(\n",
    "        lsst.sphgeom.LonLat.fromDegrees(ra_center, dec_center)\n",
    "    ),\n",
    "    lsst.sphgeom.Angle.fromDegrees(4.)\n",
    ")"
   ]
  },
  {
   "cell_type": "code",
   "execution_count": null,
   "id": "0fd6fe3c-304c-44fb-930b-bedb5d1d45d4",
   "metadata": {},
   "outputs": [],
   "source": [
    "htm_set = np.concatenate([list(range(_[0], _[1])) for _ in pixelization.envelope(circle)]).tolist()"
   ]
  },
  {
   "cell_type": "code",
   "execution_count": null,
   "id": "de9a78cf-e915-4435-9423-bc05dee88a49",
   "metadata": {},
   "outputs": [],
   "source": [
    "len(htm_set)"
   ]
  },
  {
   "cell_type": "code",
   "execution_count": null,
   "id": "6fa43a90-5992-4069-8e81-48e03d96cdfa",
   "metadata": {},
   "outputs": [],
   "source": [
    "where_htm = \"htm7 in (%s)\"%(\", \".join(str(_) for _ in htm_set))\n",
    "print(where_htm)"
   ]
  },
  {
   "cell_type": "code",
   "execution_count": null,
   "id": "100646ef-6131-41da-bf7d-d4b7ebc8008d",
   "metadata": {},
   "outputs": [],
   "source": [
    "datasetRefs = list(registry.queryDatasets(datasetType=refDataset, where=where_htm, collections=collection).expanded())"
   ]
  },
  {
   "cell_type": "code",
   "execution_count": null,
   "id": "b2bf838c-5f3f-4399-b925-1b0bfd10370c",
   "metadata": {},
   "outputs": [],
   "source": [
    "htm_id = pixelization.index(\n",
    "    lsst.sphgeom.UnitVector3d(\n",
    "        lsst.sphgeom.LonLat.fromDegrees(ra_center, dec_center)\n",
    "    )\n",
    ")\n",
    "print(htm_id)"
   ]
  },
  {
   "cell_type": "code",
   "execution_count": null,
   "id": "e2bdaf7d-16f6-4c36-9002-4282a2ab3d76",
   "metadata": {},
   "outputs": [],
   "source": [
    "circle = pixelization.triangle(htm_id).getBoundingCircle()\n",
    "scale = circle.getOpeningAngle().asDegrees()*3600.\n",
    "level = pixelization.getLevel()\n",
    "print(f'HTM ID={htm_id} at level={level} is bounded by a circle of radius ~{scale:0.2f} arcsec.')"
   ]
  },
  {
   "cell_type": "code",
   "execution_count": null,
   "id": "de398380-02cd-4662-8353-05ff1f937049",
   "metadata": {},
   "outputs": [],
   "source": [
    "type(pixelization.triangle(htm_id).getBoundingCircle())"
   ]
  },
  {
   "cell_type": "code",
   "execution_count": null,
   "id": "a53b4889-ef69-4761-ac54-9f62e117bc15",
   "metadata": {},
   "outputs": [],
   "source": [
    "help(pixelization.index)"
   ]
  },
  {
   "cell_type": "code",
   "execution_count": null,
   "id": "a2cb2d57-5fa2-4527-9825-0887b7205394",
   "metadata": {},
   "outputs": [],
   "source": [
    "# This is what I tried queryDatasets(..., collections=\"refcats\", where=htm_where, findFirst=True), with htm_where=\"htm7 in (..list_of_shards..)\""
   ]
  },
  {
   "cell_type": "code",
   "execution_count": null,
   "id": "2462348f-340f-420e-bd64-a2041287485b",
   "metadata": {
    "scrolled": true
   },
   "outputs": [],
   "source": [
    "# help(lsst.sphgeom.HtmPixelization)"
   ]
  },
  {
   "cell_type": "markdown",
   "id": "90ba9d9d-f34c-4386-b191-fc26b53d37ab",
   "metadata": {},
   "source": [
    "Arbitrary regions aren't supported directly, but you can use something like \"htm7 IN (A..B)\" where I wrote \"skymap='hsc_rings_v1' AND tract=9813\" to do a query over lists of HTM IDs at some level, and lsst.sphgeom.Circle and lsst.sphgeom.HtmPixelization can be used to get those from a circle on the sky (happy to provide an example if that's what you want to do; also note that the C++ docs for these are decent, while the Python docs are nonexistent - but the interfaces are a straightforward translation)."
   ]
  },
  {
   "cell_type": "code",
   "execution_count": null,
   "id": "df38e458-b83f-4777-bfa8-60c7bdb3c80c",
   "metadata": {},
   "outputs": [],
   "source": [
    "config = LoadReferenceCatalogConfig()\n",
    "config.refObjLoader.anyFilterMapsToThis = 'phot_g_mean'\n",
    "config.doApplyColorTerms = False"
   ]
  },
  {
   "cell_type": "code",
   "execution_count": null,
   "id": "a4ba443d-d1df-41d2-adc0-884370f19986",
   "metadata": {},
   "outputs": [],
   "source": [
    "# Alternative not recommended approach because only gets a single htm trixel\n",
    "# datasetRefs = list(registry.queryDatasets(datasetType=refDataset, htm3=htm_id, collections=collection).expanded())"
   ]
  },
  {
   "cell_type": "code",
   "execution_count": null,
   "id": "b41dafa0-dc5f-4614-9840-fec849ab7860",
   "metadata": {},
   "outputs": [],
   "source": [
    "dataIds = [_.dataId for _ in datasetRefs]"
   ]
  },
  {
   "cell_type": "code",
   "execution_count": null,
   "id": "abf892e5-be00-428d-97d3-cb0bc528c652",
   "metadata": {},
   "outputs": [],
   "source": [
    "refCats = [butler.getDeferred(refDataset, _, collections=['refcats']) for _ in dataIds]"
   ]
  },
  {
   "cell_type": "code",
   "execution_count": null,
   "id": "df3951ff-b6be-4a3d-bd5b-80168f5e59e1",
   "metadata": {},
   "outputs": [],
   "source": [
    "loaderTask = LoadReferenceCatalogTask(config=config, name=refDataset, dataIds=dataIds, refCats=refCats)"
   ]
  },
  {
   "cell_type": "code",
   "execution_count": null,
   "id": "e7c1f56e-983f-432b-b5b3-0c09c3433987",
   "metadata": {},
   "outputs": [],
   "source": [
    "center = lsst.geom.SpherePoint(ra_center,\n",
    "                               dec_center,\n",
    "                               lsst.geom.degrees)"
   ]
  },
  {
   "cell_type": "code",
   "execution_count": null,
   "id": "c452fbf7-4155-48a8-9090-9268a207228e",
   "metadata": {},
   "outputs": [],
   "source": [
    "# 10 seconds\n",
    "refCatSpatial = loaderTask.getSkyCircleCatalog(center,\n",
    "                                               1.*lsst.geom.degrees,\n",
    "                                               ['i'])"
   ]
  },
  {
   "cell_type": "code",
   "execution_count": null,
   "id": "711deed5-032b-432a-a591-efca0c8b5fc7",
   "metadata": {},
   "outputs": [],
   "source": [
    "len(refCatSpatial)"
   ]
  },
  {
   "cell_type": "code",
   "execution_count": null,
   "id": "ef34933a-ffca-4e23-b685-de8a87d2df2b",
   "metadata": {},
   "outputs": [],
   "source": [
    "plt.figure()\n",
    "plt.scatter(refCatSpatial['ra'], refCatSpatial['dec'], s=1)\n",
    "plt.xlim(plt.xlim()[::-1])"
   ]
  },
  {
   "cell_type": "markdown",
   "id": "fc0d954b-26b2-42dd-9900-1d41f6ea7edb",
   "metadata": {},
   "source": [
    "# Transformation for sky to camera coordinates"
   ]
  },
  {
   "cell_type": "code",
   "execution_count": null,
   "id": "29626777-4a9e-4d9d-973c-314f4beb23b0",
   "metadata": {},
   "outputs": [],
   "source": [
    "from lsst.afw.cameraGeom import Camera"
   ]
  },
  {
   "cell_type": "code",
   "execution_count": null,
   "id": "5ef63b9a-bf67-434a-a944-5df5cb16bfaf",
   "metadata": {},
   "outputs": [],
   "source": [
    "#help(Camera)"
   ]
  },
  {
   "cell_type": "code",
   "execution_count": null,
   "id": "40261594-5682-4af8-94cf-e3f91fe4dd83",
   "metadata": {
    "tags": []
   },
   "outputs": [],
   "source": [
    "repo = '/sdf/group/rubin/repo/dc2_20210215'\n",
    "collection = '2.2i/runs/DP0.1'"
   ]
  },
  {
   "cell_type": "code",
   "execution_count": null,
   "id": "a3045ece-59fc-42c8-b20e-769df152ef2e",
   "metadata": {
    "tags": []
   },
   "outputs": [],
   "source": [
    "butler = dafButler.Butler(repo, collections=collection)\n",
    "camera = butler.get('camera', instrument='LSSTCam-imSim')"
   ]
  },
  {
   "cell_type": "code",
   "execution_count": null,
   "id": "7698e9ac-33dc-4b88-8855-3aa2c4c95908",
   "metadata": {
    "tags": []
   },
   "outputs": [],
   "source": [
    "#camera"
   ]
  },
  {
   "cell_type": "code",
   "execution_count": null,
   "id": "f57089eb-81ef-4efb-8aae-e80f944e0d88",
   "metadata": {
    "tags": []
   },
   "outputs": [],
   "source": [
    "#dir(camera)"
   ]
  },
  {
   "cell_type": "code",
   "execution_count": null,
   "id": "530d4360-f5a9-46db-886e-03c239f1dd76",
   "metadata": {
    "tags": []
   },
   "outputs": [],
   "source": [
    "import lsst.afw.geom as afwGeom\n",
    "import lsst.afw.cameraGeom as cameraGeom"
   ]
  },
  {
   "cell_type": "code",
   "execution_count": null,
   "id": "fa802e66-17f4-4f4a-b218-ffa82e24dbc1",
   "metadata": {
    "tags": []
   },
   "outputs": [],
   "source": [
    "# https://lsstc.slack.com/archives/C2JPMCF5X/p1569266787124100\n",
    "# https://community.lsst.org/t/constructing-a-wcs-from-camera-geometry/3039\n",
    "def getWcsFromDetector(detector, boresight, rotation=0*lsst.geom.degrees, flipX=False):\n",
    "    \"\"\"Given a detector and (boresight, rotation), return that detector's WCS\n",
    "\n",
    "    Parameters\n",
    "    ----------\n",
    "    detector : `lsst.afw.cameraGeom.Detector`\n",
    "        A detector in a camera.\n",
    "    boresight : `lsst.geom.SpherePoint`\n",
    "       The boresight of the observation.\n",
    "    rotation : `lsst.afw.geom.Angle`, optional\n",
    "        The rotation angle of the camera.\n",
    "        The rotation is \"rotskypos\", the angle of sky relative to camera\n",
    "        coordinates (from North over East).\n",
    "    flipX : `bool`, optional\n",
    "        Flip the X axis?\n",
    "\n",
    "    Returns\n",
    "    -------\n",
    "    wcs : `lsst::afw::geom::SkyWcs`\n",
    "        The calculated WCS.\n",
    "    \"\"\"\n",
    "    trans = detector.getTransform(detector.makeCameraSys(cameraGeom.PIXELS),\n",
    "                                  detector.makeCameraSys(cameraGeom.FIELD_ANGLE))\n",
    "\n",
    "    wcs = afwGeom.makeSkyWcs(trans, rotation, flipX, boresight)\n",
    "\n",
    "    return wcs"
   ]
  },
  {
   "cell_type": "code",
   "execution_count": null,
   "id": "a0156df3-ef8b-476b-b2ec-92c2ef1c9254",
   "metadata": {
    "tags": []
   },
   "outputs": [],
   "source": [
    "def getDetectorId(refCatSpatial, camera, boresight, rotation, flipX=False):\n",
    "    detId = np.zeros(len(refCatSpatial)) - 1.\n",
    "    for det in camera:\n",
    "        \n",
    "        # Emulate ComCam by considering only the central raft\n",
    "        if 'R22' not in det.getName():\n",
    "            continue\n",
    "            \n",
    "        wcs = getWcsFromDetector(det, boresight, rotation=rotation, flipX=flipX)\n",
    "        x, y = wcs.skyToPixelArray(refCatSpatial['ra'], refCatSpatial['dec'], degrees=True)\n",
    "        \n",
    "        # Detector\n",
    "        selected = det.getBBox().contains(x, y)\n",
    "        detId[selected] = det.getId()\n",
    "        #print(det.getId(), det.getName(), np.sum(selected))\n",
    "        \n",
    "        # Focal Plane Coordinates\n",
    "        #xy_fp = det.transform([lsst.geom.Point2D(x, y) for x, y in zip(x, y)], cameraGeom.PIXELS, cameraGeom.FOCAL_PLANE)\n",
    "        #x_fp, y_fp = zip(*[[_.x, _.y] for _ in xy_fp])\n",
    "\n",
    "    #return detId, np.array(x_fp), np.array(y_fp)\n",
    "    #return detId, x_fp, y_fp\n",
    "    return detId"
   ]
  },
  {
   "cell_type": "code",
   "execution_count": null,
   "id": "e3907b55-6aad-4092-a786-8a41d0e9f1a3",
   "metadata": {
    "tags": []
   },
   "outputs": [],
   "source": [
    "def getFpCoordinates(refCatSpatial, camera, boresight, rotation, flipX=False):\n",
    "    # Emulate ComCam\n",
    "    det = camera.get('R22_S11')\n",
    "    wcs = getWcsFromDetector(det, boresight, rotation=rotation, flipX=flipX)\n",
    "    x, y = wcs.skyToPixelArray(refCatSpatial['ra'], refCatSpatial['dec'], degrees=True)\n",
    "    xy_fp = det.transform([lsst.geom.Point2D(x, y) for x, y in zip(x, y)], cameraGeom.PIXELS, cameraGeom.FOCAL_PLANE)\n",
    "    x_fp, y_fp = zip(*[[_.x, _.y] for _ in xy_fp])\n",
    "    return np.array(x_fp), np.array(y_fp)"
   ]
  },
  {
   "cell_type": "markdown",
   "id": "595ecf5f-da6a-4647-8eaa-540aaaff8154",
   "metadata": {},
   "source": [
    "## Test transform from sky to camera coordinates"
   ]
  },
  {
   "cell_type": "code",
   "execution_count": null,
   "id": "32e591d5-9fc3-49a0-85f7-f9412e734bf2",
   "metadata": {
    "tags": []
   },
   "outputs": [],
   "source": [
    "boresight = lsst.geom.SpherePoint(180., -1., units=lsst.geom.degrees)\n",
    "rotation = 45.*lsst.geom.degrees\n",
    "flipX = False"
   ]
  },
  {
   "cell_type": "code",
   "execution_count": null,
   "id": "18ca7d90-6925-425d-ac9f-4b8016924c50",
   "metadata": {
    "tags": []
   },
   "outputs": [],
   "source": [
    "#for det in camera:\n",
    "#    center = det.getOrientation().getFpPosition()\n",
    "#    print(center)"
   ]
  },
  {
   "cell_type": "code",
   "execution_count": null,
   "id": "38625af4-e7eb-44a7-b604-79599d0556fa",
   "metadata": {},
   "outputs": [],
   "source": [
    "det = camera[0]"
   ]
  },
  {
   "cell_type": "code",
   "execution_count": null,
   "id": "029b9214-b2c6-4962-bae2-0a32606250ba",
   "metadata": {
    "tags": []
   },
   "outputs": [],
   "source": [
    "det.getName()"
   ]
  },
  {
   "cell_type": "code",
   "execution_count": null,
   "id": "e545dd63-fc48-4a64-aacb-6f765291ab7b",
   "metadata": {
    "tags": []
   },
   "outputs": [],
   "source": [
    "#dir(det)"
   ]
  },
  {
   "cell_type": "code",
   "execution_count": null,
   "id": "07961582-4f0d-4b87-998b-c8582b7ae426",
   "metadata": {
    "tags": []
   },
   "outputs": [],
   "source": [
    "trans = det.getTransform(det.makeCameraSys(cameraGeom.PIXELS), det.makeCameraSys(cameraGeom.FIELD_ANGLE))"
   ]
  },
  {
   "cell_type": "code",
   "execution_count": null,
   "id": "bc73360f-98c7-4c12-b84a-9c6427101598",
   "metadata": {
    "tags": []
   },
   "outputs": [],
   "source": [
    "wcs = afwGeom.makeSkyWcs(trans, rotation, flipX, boresight)"
   ]
  },
  {
   "cell_type": "code",
   "execution_count": null,
   "id": "03033e6a-28c8-47ec-b5ef-f9d7dab7de77",
   "metadata": {
    "tags": []
   },
   "outputs": [],
   "source": [
    "wcs"
   ]
  },
  {
   "cell_type": "code",
   "execution_count": null,
   "id": "9946550c-090b-4dc4-b7d7-71710592bea1",
   "metadata": {
    "tags": []
   },
   "outputs": [],
   "source": [
    "wcs = getWcsFromDetector(det, boresight, rotation=rotation, flipX=flipX)"
   ]
  },
  {
   "cell_type": "code",
   "execution_count": null,
   "id": "9db2839f-1646-4f58-b191-632fcf0397e8",
   "metadata": {
    "tags": []
   },
   "outputs": [],
   "source": [
    "help(wcs.skyToPixelArray)"
   ]
  },
  {
   "cell_type": "code",
   "execution_count": null,
   "id": "d28a708b-dd2d-4730-b47e-4827930cbab9",
   "metadata": {
    "tags": []
   },
   "outputs": [],
   "source": [
    "x, y = wcs.skyToPixelArray(refCatSpatial['ra'], refCatSpatial['dec'], degrees=True)"
   ]
  },
  {
   "cell_type": "code",
   "execution_count": null,
   "id": "a6ff01ad-ff7b-4440-a60d-38c49dcfac26",
   "metadata": {
    "tags": []
   },
   "outputs": [],
   "source": [
    "plt.figure()\n",
    "plt.scatter(x, y)"
   ]
  },
  {
   "cell_type": "code",
   "execution_count": null,
   "id": "d35fcdd7-6470-4707-8f61-d23bd0ad1f93",
   "metadata": {
    "tags": []
   },
   "outputs": [],
   "source": [
    "selected = det.getBBox().contains(x, y)"
   ]
  },
  {
   "cell_type": "code",
   "execution_count": null,
   "id": "64b68c0f-d60d-4f89-a1e2-a24a179f6b27",
   "metadata": {
    "tags": []
   },
   "outputs": [],
   "source": [
    "plt.figure()\n",
    "plt.scatter(x[~selected], y[~selected], s=1)\n",
    "plt.scatter(x[selected], y[selected], s=1)"
   ]
  },
  {
   "cell_type": "code",
   "execution_count": null,
   "id": "fa94a679-8066-4c0a-8078-8b891fd341ca",
   "metadata": {
    "tags": []
   },
   "outputs": [],
   "source": [
    "det.getId()"
   ]
  },
  {
   "cell_type": "code",
   "execution_count": null,
   "id": "1bc2e3f2-ac7f-4cf0-87df-3e4709bf08a9",
   "metadata": {
    "tags": []
   },
   "outputs": [],
   "source": [
    "#detId = np.empty(len(refCatSpatial)).fill(-1.)\n",
    "detId = np.zeros(len(refCatSpatial)) - 1.\n",
    "for det in camera:\n",
    "    if 'R22' not in det.getName():\n",
    "        continue\n",
    "    wcs = getWcsFromDetector(det, boresight, rotation=rotation, flipX=flipX)\n",
    "    x, y = wcs.skyToPixelArray(refCatSpatial['ra'], refCatSpatial['dec'], degrees=True)\n",
    "    selected = det.getBBox().contains(x, y)\n",
    "    detId[selected] = det.getId()\n",
    "    print(det.getId(), det.getName(), np.sum(selected))"
   ]
  },
  {
   "cell_type": "code",
   "execution_count": null,
   "id": "16f05108-517e-4de1-ab26-bccb47f60279",
   "metadata": {},
   "outputs": [],
   "source": []
  },
  {
   "cell_type": "code",
   "execution_count": null,
   "id": "80651659-15b6-41bb-8bd1-9089638789f3",
   "metadata": {
    "tags": []
   },
   "outputs": [],
   "source": [
    "detId = getDetectorId(refCatSpatial, camera, boresight, rotation, flipX)\n",
    "#detId, x_fp, y_fp = getDetectorId(refCatSpatial, camera, boresight, rotation, flipX)"
   ]
  },
  {
   "cell_type": "code",
   "execution_count": null,
   "id": "57ee2dfc-959e-4d9b-ba3a-d445843c745b",
   "metadata": {
    "tags": []
   },
   "outputs": [],
   "source": [
    "x_fp, y_fp = getFpCoordinates(refCatSpatial, camera, boresight, rotation, flipX)"
   ]
  },
  {
   "cell_type": "code",
   "execution_count": null,
   "id": "9e3e48c3-35e8-4295-94f4-6de730ede824",
   "metadata": {
    "tags": []
   },
   "outputs": [],
   "source": [
    "np.unique(detId)"
   ]
  },
  {
   "cell_type": "code",
   "execution_count": null,
   "id": "d473233a-6094-46b8-b8c0-2751bf67d04e",
   "metadata": {
    "tags": []
   },
   "outputs": [],
   "source": [
    "selected = (detId >= 0)\n",
    "\n",
    "plt.figure()\n",
    "plt.scatter(refCatSpatial['ra'][selected], refCatSpatial['dec'][selected], c=detId[selected], s=1)\n",
    "plt.colorbar()"
   ]
  },
  {
   "cell_type": "code",
   "execution_count": null,
   "id": "81b278de-a7ba-4b48-a46a-0744646991e8",
   "metadata": {
    "tags": []
   },
   "outputs": [],
   "source": [
    "plt.figure()\n",
    "plt.scatter(x_fp[selected], y_fp[selected], c=detId[selected], s=1)\n",
    "plt.colorbar()"
   ]
  },
  {
   "cell_type": "code",
   "execution_count": null,
   "id": "5aa928dd-0f00-4808-83ae-8ab550bc6bbe",
   "metadata": {
    "tags": []
   },
   "outputs": [],
   "source": [
    "detId = np.zeros(len(refCatSpatial)) - 1\n",
    "print(detId.shape)\n",
    "print(detId)"
   ]
  },
  {
   "cell_type": "code",
   "execution_count": null,
   "id": "64c13621-cff7-448d-bb16-f7820f92d504",
   "metadata": {
    "tags": []
   },
   "outputs": [],
   "source": [
    "detId = np.empty(len(refCatSpatial))\n",
    "print(detId.shape)\n",
    "print(detId)"
   ]
  },
  {
   "cell_type": "markdown",
   "id": "67964452-aea4-4613-a0d3-687c736a09d2",
   "metadata": {},
   "source": [
    "# Set of dithers"
   ]
  },
  {
   "cell_type": "code",
   "execution_count": null,
   "id": "3138126c-5d43-44b7-80a7-7cdde3f6104b",
   "metadata": {
    "tags": []
   },
   "outputs": [],
   "source": [
    "# For testing\n",
    "# n = 20\n",
    "# ra_boresight_array = 180. + np.random.uniform(-0.2, 0.2, size=n)\n",
    "# dec_boresight_array = -1. + np.random.uniform(-0.2, 0.2, size=n)\n",
    "# rotation_array = np.random.uniform(-180., 180., size=n)"
   ]
  },
  {
   "cell_type": "code",
   "execution_count": null,
   "id": "fa38a736-4e42-480c-aaf5-33c9dc99384e",
   "metadata": {},
   "outputs": [],
   "source": [
    "#survey_name = 'Rubin_SV_225_-40'\n",
    "survey_name = 'Rubin_SV_280_-48'\n",
    "filter = 'r'\n",
    "nights_rehearsal = [night_first, night_first + 1, night_first + 2]\n",
    "#nights_rehearsal = [night_first]\n",
    "\n",
    "#selection = (observations['note'] == survey_name) & (observations['filter'] == filter) & (observations['night'] == night_first)\n",
    "selection = (observations['target'] == survey_name) & (observations['filter'] == filter) & np.in1d(observations['night'], nights_rehearsal)\n",
    "ra_boresight_array = observations['fieldRA'].values[selection]\n",
    "dec_boresight_array = observations['fieldDec'].values[selection]\n",
    "rotation_array = observations['rotSkyPos'].values[selection]\n",
    "\n",
    "print(np.sum(selection))"
   ]
  },
  {
   "cell_type": "code",
   "execution_count": null,
   "id": "8f89c174-cca7-41fb-ad38-dc89d552f2b5",
   "metadata": {},
   "outputs": [],
   "source": [
    "# Subsample\n",
    "ra_boresight_array = ra_boresight_array[::6]\n",
    "dec_boresight_array = dec_boresight_array[::6]\n",
    "rotation_array = rotation_array[::6]\n",
    "\n",
    "print(len(ra_boresight_array))"
   ]
  },
  {
   "cell_type": "code",
   "execution_count": null,
   "id": "ad8b3781-b0d4-46d2-b419-484344f2d972",
   "metadata": {
    "tags": []
   },
   "outputs": [],
   "source": [
    "plt.figure()\n",
    "plt.scatter(ra_boresight_array, dec_boresight_array, c=rotation_array)\n",
    "plt.scatter(ra_center, dec_center, c='red', marker='s')\n",
    "plt.colorbar(label='Rotation (deg)')\n",
    "plt.xlim(plt.xlim()[::-1])\n",
    "plt.xlabel('RA (deg)')\n",
    "plt.ylabel('Dec (deg)')\n",
    "plt.suptitle('Telescope Boresight Pointings and Camera Rotation Angles')"
   ]
  },
  {
   "cell_type": "code",
   "execution_count": null,
   "id": "c82ecdb4-1a3b-434d-bb9c-cf834798f9a6",
   "metadata": {
    "tags": []
   },
   "outputs": [],
   "source": [
    "n = 20\n",
    "detId_array = []\n",
    "x_fp_array = []\n",
    "y_fp_array = []\n",
    "for visit_index in range(0, n):\n",
    "    print(visit_index)\n",
    "    boresight_visit = lsst.geom.SpherePoint(ra_boresight_array[visit_index], dec_boresight_array[visit_index], units=lsst.geom.degrees)\n",
    "    rotation_visit = rotation_array[visit_index]*lsst.geom.degrees\n",
    "    detId = getDetectorId(refCatSpatial, camera, boresight_visit, rotation_visit)\n",
    "    detId_array.append(detId)\n",
    "    x_fp, y_fp = getFpCoordinates(refCatSpatial, camera, boresight_visit, rotation_visit)\n",
    "    x_fp_array.append(x_fp)\n",
    "    y_fp_array.append(y_fp)"
   ]
  },
  {
   "cell_type": "code",
   "execution_count": null,
   "id": "20ca313b-711a-4646-98c0-d615293d1a88",
   "metadata": {
    "tags": []
   },
   "outputs": [],
   "source": [
    "detId_array = np.array(detId_array)\n",
    "x_fp_array = np.array(x_fp_array)\n",
    "y_fp_array = np.array(y_fp_array)"
   ]
  },
  {
   "cell_type": "code",
   "execution_count": null,
   "id": "bd9a3489-7538-4e63-a981-e0db4947c816",
   "metadata": {
    "tags": []
   },
   "outputs": [],
   "source": [
    "detId_array.shape"
   ]
  },
  {
   "cell_type": "code",
   "execution_count": null,
   "id": "5b8f1a81-1a0d-443d-8ffc-5dbb4111de29",
   "metadata": {
    "tags": []
   },
   "outputs": [],
   "source": [
    "counts = np.sum(detId_array >= 0, axis=0)"
   ]
  },
  {
   "cell_type": "code",
   "execution_count": null,
   "id": "4e2ccf17-85bc-49f4-97a7-b22a0110890a",
   "metadata": {
    "tags": []
   },
   "outputs": [],
   "source": [
    "selected = (counts > 0)\n",
    "plt.figure()\n",
    "plt.scatter(refCatSpatial['ra'][selected], refCatSpatial['dec'][selected], c=counts[selected], s=1)\n",
    "plt.colorbar(label='Number of Measurements')\n",
    "plt.xlim(plt.xlim()[::-1])\n",
    "plt.xlabel('RA (deg)')\n",
    "plt.ylabel('Dec (deg)')"
   ]
  },
  {
   "cell_type": "code",
   "execution_count": null,
   "id": "1b358b6a-07e8-4787-8754-49b96f06c943",
   "metadata": {
    "tags": []
   },
   "outputs": [],
   "source": [
    "plt.figure()\n",
    "plt.plot(np.sort(counts[selected])[::-1])\n",
    "plt.xlabel('Number of Reference Stars')\n",
    "plt.ylabel('Number of Measurements')"
   ]
  },
  {
   "cell_type": "code",
   "execution_count": null,
   "id": "7f90c98c-ab39-4cff-abf7-95c3b466d1d7",
   "metadata": {
    "tags": []
   },
   "outputs": [],
   "source": [
    "# Number of unique detectors that each star appeared on"
   ]
  },
  {
   "cell_type": "code",
   "execution_count": null,
   "id": "c524bd7c-aeab-45d0-9f47-7e4798dfefdd",
   "metadata": {
    "tags": []
   },
   "outputs": [],
   "source": [
    "unique_det = np.array([len(np.unique(_[_ >= 0])) for _ in detId_array.T])"
   ]
  },
  {
   "cell_type": "code",
   "execution_count": null,
   "id": "2a3e5d15-fac3-4239-a55b-a967edbd00eb",
   "metadata": {
    "tags": []
   },
   "outputs": [],
   "source": [
    "selected = (counts >= 1)\n",
    "plt.figure()\n",
    "plt.scatter(refCatSpatial['ra'][selected], refCatSpatial['dec'][selected], c=unique_det[selected], s=1)\n",
    "plt.colorbar(label='Number of Unique Detectors')\n",
    "plt.xlim(plt.xlim()[::-1])\n",
    "plt.xlabel('RA (deg)')\n",
    "plt.ylabel('Dec (deg)')"
   ]
  },
  {
   "cell_type": "code",
   "execution_count": null,
   "id": "a569b49f-cc4e-43bf-8122-50f811950dc9",
   "metadata": {
    "tags": []
   },
   "outputs": [],
   "source": [
    "plt.figure()\n",
    "plt.plot(np.sort(unique_det[selected])[::-1])\n",
    "plt.xlabel('Number of Reference Stars')\n",
    "plt.ylabel('Number of Unique Detectors')"
   ]
  },
  {
   "cell_type": "code",
   "execution_count": null,
   "id": "56a80cc3-730c-4785-94b9-3da04cde9430",
   "metadata": {
    "tags": []
   },
   "outputs": [],
   "source": [
    "# Number of repeated visits in focal plane coordinates\n",
    "# Need to define some minimum number of measurements per star"
   ]
  },
  {
   "cell_type": "code",
   "execution_count": null,
   "id": "9ee2b98b-c07e-4945-ac74-4c5a7e045c6a",
   "metadata": {
    "tags": []
   },
   "outputs": [],
   "source": [
    "counts_array = np.tile(counts, detId_array.shape[0]).reshape(detId_array.shape)\n",
    "unique_det_array = np.tile(unique_det, detId_array.shape[0]).reshape(detId_array.shape)"
   ]
  },
  {
   "cell_type": "code",
   "execution_count": null,
   "id": "1bb1d835-fcdf-47d6-8a72-8ddea773a95a",
   "metadata": {
    "tags": []
   },
   "outputs": [],
   "source": [
    "n = len(x_fp_array[detId_array >= 0])\n",
    "index_permutation = np.random.permutation(np.arange(n))\n",
    "\n",
    "plt.figure()\n",
    "plt.scatter(\n",
    "    x_fp_array[detId_array >= 0][index_permutation], \n",
    "    y_fp_array[detId_array >= 0][index_permutation], \n",
    "    c=unique_det_array[detId_array >= 0][index_permutation], \n",
    "    s=1\n",
    ")\n",
    "plt.colorbar(label='Number of Unique Detectors')\n",
    "plt.xlabel('Focal Plane x (mm)')\n",
    "plt.ylabel('Focal Plane y (mm)')"
   ]
  },
  {
   "cell_type": "code",
   "execution_count": null,
   "id": "5fbdcf0e-d39a-473a-9b1d-079c6b0ee8c4",
   "metadata": {
    "tags": []
   },
   "outputs": [],
   "source": [
    "n = len(x_fp_array[detId_array >= 0])\n",
    "index_permutation = np.random.permutation(np.arange(n))\n",
    "\n",
    "plt.figure()\n",
    "plt.scatter(\n",
    "    x_fp_array[detId_array >= 0][index_permutation], \n",
    "    y_fp_array[detId_array >= 0][index_permutation], \n",
    "    c=counts_array[detId_array >= 0][index_permutation], \n",
    "    s=1,\n",
    ")\n",
    "plt.colorbar(label='Number of Measurements')\n",
    "plt.xlabel('Focal Plane x (mm)')\n",
    "plt.ylabel('Focal Plane y (mm)')"
   ]
  },
  {
   "cell_type": "code",
   "execution_count": null,
   "id": "c97efbd4-3a6a-44c8-bd6a-8ddff115c1c8",
   "metadata": {},
   "outputs": [],
   "source": []
  }
 ],
 "metadata": {
  "kernelspec": {
   "display_name": "LSST",
   "language": "python",
   "name": "lsst"
  },
  "language_info": {
   "codemirror_mode": {
    "name": "ipython",
    "version": 3
   },
   "file_extension": ".py",
   "mimetype": "text/x-python",
   "name": "python",
   "nbconvert_exporter": "python",
   "pygments_lexer": "ipython3",
   "version": "3.11.7"
  }
 },
 "nbformat": 4,
 "nbformat_minor": 5
}
